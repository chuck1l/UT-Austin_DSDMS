{
 "cells": [
  {
   "cell_type": "markdown",
   "id": "12cc0b8f-0080-4e3f-a60f-1e5d0c8ad0ff",
   "metadata": {},
   "source": [
    "# Joins"
   ]
  },
  {
   "cell_type": "markdown",
   "id": "1f2e5032-3784-4a43-ac0d-6589b77cfc78",
   "metadata": {},
   "source": [
    "## Spark Set Up"
   ]
  },
  {
   "cell_type": "code",
   "execution_count": 1,
   "id": "b646111b-0a1b-4a36-aaa5-663f1a128648",
   "metadata": {},
   "outputs": [
    {
     "name": "stderr",
     "output_type": "stream",
     "text": [
      "Setting default log level to \"WARN\".\n",
      "To adjust logging level use sc.setLogLevel(newLevel). For SparkR, use setLogLevel(newLevel).\n",
      "22/04/28 01:16:48 INFO org.apache.spark.SparkEnv: Registering MapOutputTracker\n",
      "22/04/28 01:16:48 INFO org.apache.spark.SparkEnv: Registering BlockManagerMaster\n",
      "22/04/28 01:16:48 INFO org.apache.spark.SparkEnv: Registering BlockManagerMasterHeartbeat\n",
      "22/04/28 01:16:48 INFO org.apache.spark.SparkEnv: Registering OutputCommitCoordinator\n"
     ]
    },
    {
     "name": "stdout",
     "output_type": "stream",
     "text": [
      "/media\n"
     ]
    }
   ],
   "source": [
    "## Imports\n",
    "import re\n",
    "import json\n",
    "import numpy as np\n",
    "import pandas as pd\n",
    "import warnings\n",
    "warnings.filterwarnings('ignore')\n",
    "\n",
    "from pyspark.sql import SparkSession\n",
    "\n",
    "app_name = \"week2_joins\"\n",
    "master = \"local[*]\"\n",
    "spark = SparkSession\\\n",
    "        .builder\\\n",
    "        .appName(app_name)\\\n",
    "        .master(master)\\\n",
    "        .config(\"spark.ui.port\",\"42229\")\\\n",
    "        .getOrCreate()\n",
    "sc = spark.sparkContext\n",
    "\n",
    "## Change the working directory\n",
    "%cd /media"
   ]
  },
  {
   "cell_type": "markdown",
   "id": "4fb26b1f-de29-4419-b81f-a603cc6b9ec8",
   "metadata": {},
   "source": [
    "### Joins\n",
    "\n",
    "* join       \n",
    "https://spark.apache.org/docs/latest/api/python/_modules/pyspark/rdd.html#RDD.join     \n",
    "* leftOuterJoin   \n",
    "https://spark.apache.org/docs/latest/api/python/_modules/pyspark/rdd.html#RDD.leftOuterJoin    \n",
    "* rightOuterJoin   \n",
    "https://spark.apache.org/docs/latest/api/python/_modules/pyspark/rdd.html#RDD.rightOuterJoin    \n",
    "* fullOuterJoin   \n",
    "https://spark.apache.org/docs/latest/api/python/_modules/pyspark/rdd.html#RDD.fullOuterJoin   \n",
    "* cartesian   \n",
    "https://spark.apache.org/docs/latest/api/python/_modules/pyspark/rdd.html#RDD.cartesian"
   ]
  },
  {
   "cell_type": "code",
   "execution_count": 2,
   "id": "db12ee98-3d97-4478-b9a9-1f5bab03a9b2",
   "metadata": {},
   "outputs": [
    {
     "name": "stderr",
     "output_type": "stream",
     "text": [
      "                                                                                \r"
     ]
    },
    {
     "data": {
      "text/plain": [
       "[('a', (1, 2))]"
      ]
     },
     "execution_count": 2,
     "metadata": {},
     "output_type": "execute_result"
    }
   ],
   "source": [
    "## Let's try several joins and observe their behavior\n",
    "\n",
    "## Inner Join\n",
    "x = sc.parallelize([(\"a\", 1), (\"b\", 4)])\n",
    "y = sc.parallelize([(\"a\", 2), (\"c\", 8)])\n",
    "x.join(y).collect()"
   ]
  },
  {
   "cell_type": "code",
   "execution_count": 3,
   "id": "6c2de996-59f5-4c53-ac53-ecd1c7d704d6",
   "metadata": {},
   "outputs": [
    {
     "data": {
      "text/plain": [
       "[('a', (1, 2)), ('b', (4, None))]"
      ]
     },
     "execution_count": 3,
     "metadata": {},
     "output_type": "execute_result"
    }
   ],
   "source": [
    "## Left Join\n",
    "x = sc.parallelize([(\"a\", 1), (\"b\", 4)])\n",
    "y = sc.parallelize([(\"a\", 2), (\"c\", 8)])\n",
    "x.leftOuterJoin(y).collect()"
   ]
  },
  {
   "cell_type": "code",
   "execution_count": 4,
   "id": "d30a6e77-4ac4-497d-bc50-d74d6f66918a",
   "metadata": {},
   "outputs": [
    {
     "data": {
      "text/plain": [
       "[('a', (1, 2)), ('c', (None, 8))]"
      ]
     },
     "execution_count": 4,
     "metadata": {},
     "output_type": "execute_result"
    }
   ],
   "source": [
    "## Right Join\n",
    "x = sc.parallelize([(\"a\", 1), (\"b\", 4)])\n",
    "y = sc.parallelize([(\"a\", 2), (\"c\", 8)])\n",
    "x.rightOuterJoin(y).collect()"
   ]
  },
  {
   "cell_type": "code",
   "execution_count": 5,
   "id": "10a5b094-0425-4137-9006-09ac47b4ded0",
   "metadata": {},
   "outputs": [
    {
     "data": {
      "text/plain": [
       "[('a', (1, 2)), ('b', (4, None)), ('c', (None, 8))]"
      ]
     },
     "execution_count": 5,
     "metadata": {},
     "output_type": "execute_result"
    }
   ],
   "source": [
    "## Full Join\n",
    "x = sc.parallelize([(\"a\", 1), (\"b\", 4)])\n",
    "y = sc.parallelize([(\"a\", 2), (\"c\", 8)])\n",
    "x.fullOuterJoin(y).collect()"
   ]
  },
  {
   "cell_type": "code",
   "execution_count": 6,
   "id": "f812f110-4371-49f8-aea0-b8615905f59c",
   "metadata": {},
   "outputs": [
    {
     "data": {
      "text/plain": [
       "[(('a', 1), ('a', 2)),\n",
       " (('a', 1), ('c', 8)),\n",
       " (('b', 4), ('a', 2)),\n",
       " (('b', 4), ('c', 8))]"
      ]
     },
     "execution_count": 6,
     "metadata": {},
     "output_type": "execute_result"
    }
   ],
   "source": [
    "## Cartesian Join\n",
    "x = sc.parallelize([(\"a\", 1), (\"b\", 4)])\n",
    "y = sc.parallelize([(\"a\", 2), (\"c\", 8)])\n",
    "x.cartesian(y).collect()"
   ]
  },
  {
   "cell_type": "markdown",
   "id": "acec032a-09b5-432d-a708-51637c60cb74",
   "metadata": {},
   "source": [
    "### Bigger Example\n",
    "\n",
    "Let's use our frequency table from Alice. Let's check the results of the previous joins"
   ]
  },
  {
   "cell_type": "code",
   "execution_count": 7,
   "id": "922af20d-ace7-4470-986b-11a4508a162e",
   "metadata": {},
   "outputs": [],
   "source": [
    "## Let's create a bigger data\n",
    "ALICE_TXT = 'file:///media' + \"/data/alice.txt\"\n",
    "aliceRDD = sc.textFile(ALICE_TXT)\n",
    "\n",
    "x_big = aliceRDD.flatMap(lambda line: re.findall('[a-z]+', line.lower())) \\\n",
    "                 .map(lambda word: (word, 1)) \\\n",
    "                 .reduceByKey(lambda a, b: a + b)\\\n",
    "                 .cache()\n",
    "y = sc.parallelize([(\"a\", 2), (\"c\", 8), ('s', 5), ('i', 10)])"
   ]
  },
  {
   "cell_type": "code",
   "execution_count": 26,
   "id": "3c966389-b102-418a-8dbc-b9486574b3d6",
   "metadata": {},
   "outputs": [
    {
     "name": "stdout",
     "output_type": "stream",
     "text": [
      "CPU times: user 11.8 ms, sys: 8.14 ms, total: 19.9 ms\n",
      "Wall time: 334 ms\n"
     ]
    },
    {
     "data": {
      "text/plain": [
       "[('s', (222, 5)), ('c', (5, 8)), ('i', (546, 10)), ('a', (695, 2))]"
      ]
     },
     "execution_count": 26,
     "metadata": {},
     "output_type": "execute_result"
    }
   ],
   "source": [
    "%%time\n",
    "## Let's run a join\n",
    "x_big.join(y).collect()"
   ]
  },
  {
   "cell_type": "code",
   "execution_count": 28,
   "id": "735bfa9c-4ee5-494f-8e93-f15a65e2ab9d",
   "metadata": {},
   "outputs": [
    {
     "name": "stdout",
     "output_type": "stream",
     "text": [
      "CPU times: user 16.6 ms, sys: 1.38 ms, total: 18 ms\n",
      "Wall time: 226 ms\n"
     ]
    },
    {
     "data": {
      "text/plain": [
       "[('gutenberg', (98, None)),\n",
       " ('of', (638, None)),\n",
       " ('s', (222, 5)),\n",
       " ('anywhere', (3, None)),\n",
       " ('no', (100, None)),\n",
       " ('whatsoever', (2, None)),\n",
       " ('away', (28, None)),\n",
       " ('are', (77, None)),\n",
       " ('have', (87, None)),\n",
       " ('before', (42, None))]"
      ]
     },
     "execution_count": 28,
     "metadata": {},
     "output_type": "execute_result"
    }
   ],
   "source": [
    "%%time\n",
    "## Left Join\n",
    "x_big.leftOuterJoin(y).take(10)"
   ]
  },
  {
   "cell_type": "code",
   "execution_count": 29,
   "id": "3f8e5d59-ce3b-49c6-84b1-c0416c33376c",
   "metadata": {},
   "outputs": [
    {
     "name": "stdout",
     "output_type": "stream",
     "text": [
      "CPU times: user 27.4 ms, sys: 1.16 ms, total: 28.5 ms\n",
      "Wall time: 387 ms\n"
     ]
    },
    {
     "data": {
      "text/plain": [
       "[('s', (222, 5)), ('c', (5, 8)), ('i', (546, 10)), ('a', (695, 2))]"
      ]
     },
     "execution_count": 29,
     "metadata": {},
     "output_type": "execute_result"
    }
   ],
   "source": [
    "%%time\n",
    "## Right Join\n",
    "x_big.rightOuterJoin(y).take(10)"
   ]
  },
  {
   "cell_type": "code",
   "execution_count": 30,
   "id": "50d3f07e-f5b8-4a3c-9155-6caa1a648ac1",
   "metadata": {},
   "outputs": [
    {
     "name": "stdout",
     "output_type": "stream",
     "text": [
      "CPU times: user 19.9 ms, sys: 299 µs, total: 20.2 ms\n",
      "Wall time: 197 ms\n"
     ]
    },
    {
     "data": {
      "text/plain": [
       "[('gutenberg', (98, None)),\n",
       " ('of', (638, None)),\n",
       " ('s', (222, 5)),\n",
       " ('anywhere', (3, None)),\n",
       " ('no', (100, None)),\n",
       " ('whatsoever', (2, None)),\n",
       " ('away', (28, None)),\n",
       " ('are', (77, None)),\n",
       " ('have', (87, None)),\n",
       " ('before', (42, None))]"
      ]
     },
     "execution_count": 30,
     "metadata": {},
     "output_type": "execute_result"
    }
   ],
   "source": [
    "%%time\n",
    "## Full Join\n",
    "x_big.fullOuterJoin(y).take(10)"
   ]
  },
  {
   "cell_type": "code",
   "execution_count": 32,
   "id": "f05c7b73-0aab-49b5-803d-4efbf9f66e99",
   "metadata": {},
   "outputs": [
    {
     "name": "stdout",
     "output_type": "stream",
     "text": [
      "CPU times: user 7.52 ms, sys: 687 µs, total: 8.21 ms\n",
      "Wall time: 83.6 ms\n"
     ]
    },
    {
     "data": {
      "text/plain": [
       "3006"
      ]
     },
     "execution_count": 32,
     "metadata": {},
     "output_type": "execute_result"
    }
   ],
   "source": [
    "%%time\n",
    "## Cartesian .... Be Careful!! How many records will be produced?\n",
    "x_big.count()"
   ]
  },
  {
   "cell_type": "code",
   "execution_count": 33,
   "id": "7c7700ec-0a8c-4347-9509-af3c81d823a0",
   "metadata": {},
   "outputs": [
    {
     "name": "stdout",
     "output_type": "stream",
     "text": [
      "[(('project', 88), ('a', 2)), (('gutenberg', 98), ('a', 2)), (('ebook', 13), ('a', 2)), (('of', 638), ('a', 2)), (('s', 222), ('a', 2)), (('adventures', 11), ('a', 2)), (('in', 435), ('a', 2)), (('wonderland', 7), ('a', 2)), (('this', 181), ('a', 2)), (('is', 131), ('a', 2))]\n",
      "12024\n",
      "CPU times: user 1.89 ms, sys: 13 ms, total: 14.9 ms\n",
      "Wall time: 155 ms\n"
     ]
    }
   ],
   "source": [
    "%%time\n",
    "## Cartesian .... 3006 * 4 = 12024 records!\n",
    "print(x_big.cartesian(y).take(10))\n",
    "print(x_big.cartesian(y).count())"
   ]
  },
  {
   "cell_type": "code",
   "execution_count": null,
   "id": "96d6a9ce-9876-45ea-9644-a33c4495add8",
   "metadata": {},
   "outputs": [],
   "source": []
  }
 ],
 "metadata": {
  "kernelspec": {
   "display_name": "Python 3",
   "language": "python",
   "name": "python3"
  },
  "language_info": {
   "codemirror_mode": {
    "name": "ipython",
    "version": 3
   },
   "file_extension": ".py",
   "mimetype": "text/x-python",
   "name": "python",
   "nbconvert_exporter": "python",
   "pygments_lexer": "ipython3",
   "version": "3.8.12"
  }
 },
 "nbformat": 4,
 "nbformat_minor": 5
}
