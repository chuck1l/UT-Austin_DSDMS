{
 "cells": [
  {
   "cell_type": "markdown",
   "id": "481d3eb8-1ac0-4d44-867d-4f98c653dcde",
   "metadata": {},
   "source": [
    "# Intro to Dataframes"
   ]
  },
  {
   "cell_type": "markdown",
   "id": "27751ba3-0256-4964-a261-fc7efa5dd3bc",
   "metadata": {},
   "source": [
    "## Spark Set up"
   ]
  },
  {
   "cell_type": "code",
   "execution_count": 1,
   "id": "10430020-3fd2-448a-82a6-d47822ada164",
   "metadata": {},
   "outputs": [
    {
     "name": "stdout",
     "output_type": "stream",
     "text": [
      ":: loading settings :: url = jar:file:/usr/lib/spark/jars/ivy-2.4.0.jar!/org/apache/ivy/core/settings/ivysettings.xml\n"
     ]
    },
    {
     "name": "stderr",
     "output_type": "stream",
     "text": [
      "Ivy Default Cache set to: /root/.ivy2/cache\n",
      "The jars for the packages stored in: /root/.ivy2/jars\n",
      "org.apache.spark#spark-avro_2.12 added as a dependency\n",
      ":: resolving dependencies :: org.apache.spark#spark-submit-parent-d970c659-041c-49e1-8817-00db70a7ea01;1.0\n",
      "\tconfs: [default]\n",
      "\tfound org.apache.spark#spark-avro_2.12;3.1.2 in central\n",
      "\tfound org.spark-project.spark#unused;1.0.0 in central\n",
      ":: resolution report :: resolve 334ms :: artifacts dl 6ms\n",
      "\t:: modules in use:\n",
      "\torg.apache.spark#spark-avro_2.12;3.1.2 from central in [default]\n",
      "\torg.spark-project.spark#unused;1.0.0 from central in [default]\n",
      "\t---------------------------------------------------------------------\n",
      "\t|                  |            modules            ||   artifacts   |\n",
      "\t|       conf       | number| search|dwnlded|evicted|| number|dwnlded|\n",
      "\t---------------------------------------------------------------------\n",
      "\t|      default     |   2   |   0   |   0   |   0   ||   2   |   0   |\n",
      "\t---------------------------------------------------------------------\n",
      ":: retrieving :: org.apache.spark#spark-submit-parent-d970c659-041c-49e1-8817-00db70a7ea01\n",
      "\tconfs: [default]\n",
      "\t0 artifacts copied, 2 already retrieved (0kB/8ms)\n",
      "Setting default log level to \"WARN\".\n",
      "To adjust logging level use sc.setLogLevel(newLevel). For SparkR, use setLogLevel(newLevel).\n",
      "22/05/07 20:12:03 INFO org.apache.spark.SparkEnv: Registering MapOutputTracker\n",
      "22/05/07 20:12:03 INFO org.apache.spark.SparkEnv: Registering BlockManagerMaster\n",
      "22/05/07 20:12:03 INFO org.apache.spark.SparkEnv: Registering BlockManagerMasterHeartbeat\n",
      "22/05/07 20:12:03 INFO org.apache.spark.SparkEnv: Registering OutputCommitCoordinator\n"
     ]
    },
    {
     "name": "stdout",
     "output_type": "stream",
     "text": [
      "/media\n"
     ]
    }
   ],
   "source": [
    "## Imports\n",
    "import re\n",
    "import json\n",
    "import numpy as np\n",
    "import pandas as pd\n",
    "import warnings\n",
    "warnings.filterwarnings('ignore')\n",
    "\n",
    "from pyspark.sql import SparkSession\n",
    "\n",
    "app_name = \"week3_dataframes\"\n",
    "master = \"local[*]\"\n",
    "spark = SparkSession\\\n",
    "        .builder\\\n",
    "        .appName(app_name)\\\n",
    "        .master(master)\\\n",
    "        .config(\"spark.ui.port\",\"42229\")\\\n",
    "        .getOrCreate()\n",
    "sc = spark.sparkContext\n",
    "\n",
    "## Change the working directory\n",
    "%cd /media"
   ]
  },
  {
   "cell_type": "markdown",
   "id": "a69bea8f-6f7c-44dd-b96d-ebeede914216",
   "metadata": {},
   "source": [
    "To create this cluster use this Gcloud command\n",
    "```\n",
    "gcloud dataproc clusters create dataframes \\\n",
    "  --enable-component-gateway \\\n",
    "  --region ${REGION} \\\n",
    "  --subnet default \\\n",
    "  --no-address \\\n",
    "  --single-node \\\n",
    "  --master-machine-type n1-standard-4 \\\n",
    "  --master-boot-disk-size 100 \\\n",
    "  --image-version 2.0-debian10 \\\n",
    "  --optional-components JUPYTER \\\n",
    "  --project $GOOGLE_CLOUD_PROJECT \\\n",
    "  --properties spark:spark.jars=\"gs://spark-lib/bigquery/spark-bigquery-latest_2.12.jar\" \\\n",
    "  --properties spark:spark.jars.packages=\"org.apache.spark:spark-avro_2.12:3.1.2\" \\\n",
    "  --async\n",
    "```"
   ]
  },
  {
   "cell_type": "markdown",
   "id": "b118bfe5-44c7-4f11-b413-f9139099a7b0",
   "metadata": {},
   "source": [
    "## Set up the Data"
   ]
  },
  {
   "cell_type": "code",
   "execution_count": 2,
   "id": "05ce0940-2843-4c92-95aa-0165bf539bf1",
   "metadata": {},
   "outputs": [],
   "source": [
    "## Set up data\n",
    "# GCS Data Bucket - Watch the video to find out the name of your bucket\n",
    "GCS_LOCATION = 'gs://dataproc-staging-us-central1-46276165848-qogwkgcx/data'"
   ]
  },
  {
   "cell_type": "code",
   "execution_count": 3,
   "id": "da68551a-1043-4eb5-9636-980e4ac486ff",
   "metadata": {},
   "outputs": [],
   "source": [
    "## Load the data\n",
    "data = spark.read.format('bigquery') \\\n",
    "  .option('table', 'bigquery-public-data:samples.gsod') \\\n",
    "  .load()"
   ]
  },
  {
   "cell_type": "markdown",
   "id": "6c88e781-edf2-4af2-a9b9-ac09c6475c89",
   "metadata": {},
   "source": [
    "## DataFrames API\n",
    "\n",
    "Let's showcase some of the important methods that we have available when working with DataFrames"
   ]
  },
  {
   "cell_type": "code",
   "execution_count": 4,
   "id": "caf8ef28-001e-4408-b581-b669d9eda531",
   "metadata": {},
   "outputs": [
    {
     "name": "stderr",
     "output_type": "stream",
     "text": [
      "22/05/07 20:12:24 WARN org.apache.spark.sql.catalyst.util.package: Truncated the string representation of a plan since it was too large. This behavior can be adjusted by setting 'spark.sql.debug.maxToStringFields'.\n",
      "[Stage 0:>                                                          (0 + 1) / 1]\r"
     ]
    },
    {
     "name": "stdout",
     "output_type": "stream",
     "text": [
      "+--------------+-----------+----+-----+---+-------------------+---------------------+------------------+--------------------------+----------------------+----------------------------------+---------------------+---------------------------------+------------------+---------------------------+------------------+---------------------------+------------------------+-------------------+------------------+------------------------+---------------+------------------------+-------------------+----------+-----+-----+-----+-----+-------+-------+\n",
      "|station_number|wban_number|year|month|day|          mean_temp|num_mean_temp_samples|    mean_dew_point|num_mean_dew_point_samples|mean_sealevel_pressure|num_mean_sealevel_pressure_samples|mean_station_pressure|num_mean_station_pressure_samples|   mean_visibility|num_mean_visibility_samples|   mean_wind_speed|num_mean_wind_speed_samples|max_sustained_wind_speed|max_gust_wind_speed|   max_temperature|max_temperature_explicit|min_temperature|min_temperature_explicit|total_precipitation|snow_depth|  fog| rain| snow| hail|thunder|tornado|\n",
      "+--------------+-----------+----+-----+---+-------------------+---------------------+------------------+--------------------------+----------------------+----------------------------------+---------------------+---------------------------------+------------------+---------------------------+------------------+---------------------------+------------------------+-------------------+------------------+------------------------+---------------+------------------------+-------------------+----------+-----+-----+-----+-----+-------+-------+\n",
      "|         39730|      99999|1929|   10| 20|  52.79999923706055|                    4|              45.5|                         4|                  null|                              null|                 null|                             null| 6.199999809265137|                          4|21.200000762939453|                          4|      29.899999618530273|               null|              50.0|                   false|           null|                    null|                0.0|      null|false|false|false|false|  false|  false|\n",
      "|         33110|      99999|1929|   12| 18|               47.5|                    4|              44.0|                         4|                  null|                              null|                 null|                             null|               2.5|                          4|              11.0|                          4|                    13.0|               null|              45.0|                   false|           null|                    null|               null|      null|false|false|false|false|  false|  false|\n",
      "|         37770|      99999|1931|    4| 24|  50.20000076293945|                    4| 44.29999923706055|                         4|                  null|                              null|                 null|                             null| 5.900000095367432|                          4|12.300000190734863|                          4|      18.100000381469727|               null|              45.0|                   false|           null|                    null|               null|      null|false|false|false|false|  false|  false|\n",
      "|        726810|      24131|1931|    6| 23|   65.0999984741211|                   24|              41.5|                         8|                  null|                              null|                 null|                             null| 48.29999923706055|                         24| 7.199999809265137|                         24|      11.100000381469727|               null|53.400001525878906|                    true|           null|                    null|                0.0|      null|false|false|false|false|  false|  false|\n",
      "|        726810|      24131|1931|    3|  2|  42.79999923706055|                   24|              31.5|                         8|                  null|                              null|                 null|                             null|  72.9000015258789|                         24| 2.299999952316284|                         24|       4.099999904632568|               null|32.400001525878906|                    true|           null|                    null|                0.0|      null|false|false|false|false|  false|  false|\n",
      "|        726810|      24131|1931|    9| 17|               67.0|                   24|              40.5|                         8|                  null|                              null|                 null|                             null| 33.79999923706055|                         24|2.4000000953674316|                         24|                     6.0|               null| 51.29999923706055|                    true|           null|                    null|                0.0|      null|false|false|false|false|  false|  false|\n",
      "|        726810|      24131|1931|    8|  7|   68.4000015258789|                   24| 37.20000076293945|                         8|                  null|                              null|                 null|                             null|27.899999618530273|                         24|               3.5|                         24|                     7.0|               null| 52.29999923706055|                    true|           null|                    null|                0.0|      null|false|false|false|false|  false|  false|\n",
      "|        726810|      24131|1932|    7| 14|   64.0999984741211|                   24|54.099998474121094|                         8|                  null|                              null|                 null|                             null|              41.0|                         24| 4.199999809265137|                         24|       8.899999618530273|               null|55.400001525878906|                    true|           null|                    null|               null|      null|false|false|false|false|  false|  false|\n",
      "|        726810|      24131|1932|   10| 23| 41.099998474121094|                   24|              31.0|                         8|                  null|                              null|                 null|                             null|              41.0|                         24| 4.300000190734863|                         24|      15.899999618530273|               null|35.400001525878906|                    true|           null|                    null|               null|      null|false|false|false|false|  false|  false|\n",
      "|        726810|      24131|1932|    1|  5| 24.600000381469727|                   24|21.100000381469727|                         8|                  null|                              null|                 null|                             null|14.800000190734863|                         24| 3.200000047683716|                         24|       4.099999904632568|               null|21.399999618530273|                    true|           null|                    null|               null|      null| true| true| true| true|   true|   true|\n",
      "|        726815|      24106|1932|    8| 27|               71.0|                   24|              null|                      null|                  null|                              null|                 null|                             null|28.600000381469727|                         24|               8.0|                         24|                    15.0|               null|62.400001525878906|                    true|           null|                    null|                0.0|      null|false|false|false|false|  false|  false|\n",
      "|        726810|      24131|1932|    8| 20|               71.0|                   24| 41.70000076293945|                         8|                  null|                              null|                 null|                             null|              32.5|                         24| 4.099999904632568|                         24|       9.899999618530273|               null|53.400001525878906|                    true|           null|                    null|                0.0|      null|false|false|false|false|  false|  false|\n",
      "|        726810|      24131|1932|    5| 21|  55.20000076293945|                   24|46.599998474121094|                         8|                  null|                              null|                 null|                             null|22.600000381469727|                         24| 5.300000190734863|                         24|                     8.0|               null|46.400001525878906|                    true|           null|                    null|               null|      null|false|false|false|false|  false|  false|\n",
      "|        370310|      99999|1933|   10| 17|  55.29999923706055|                    4|              null|                      null|                  null|                              null|                 null|                             null|               3.0|                          4|16.799999237060547|                          4|      18.100000381469727|               null|              45.0|                   false|           null|                    null|                0.0|      null|false|false|false|false|  false|  false|\n",
      "|        292310|      99999|1933|   12|  1|              -11.0|                    4|              null|                      null|                  null|                              null|                 null|                             null|               4.0|                          4|               5.0|                          4|       8.899999618530273|               null|             -27.0|                    true|           null|                    null|               null|      null|false|false|false|false|  false|  false|\n",
      "|        370310|      99999|1933|    6| 17|  62.70000076293945|                    4|              null|                      null|                  null|                              null|                 null|                             null|              null|                       null|               1.0|                          4|       1.899999976158142|               null|              55.0|                    true|           null|                    null|                0.0|      null|false|false|false|false|  false|  false|\n",
      "|        239330|      99999|1933|    6|  4|               70.5|                    4|              null|                      null|                  null|                              null|                 null|                             null| 1.899999976158142|                          4|               5.0|                          4|       8.899999618530273|               null|              59.0|                   false|           null|                    null|                0.0|      null| true| true| true| true|   true|   true|\n",
      "|        282750|      99999|1933|    1|  7|               -5.0|                    4|              null|                      null|                  null|                              null|                 null|                             null|3.4000000953674316|                          4| 3.200000047683716|                          4|       8.899999618530273|               null|             -22.0|                    true|           null|                    null|                0.0|      null|false|false|false|false|  false|  false|\n",
      "|        292310|      99999|1933|    3| 17|-10.300000190734863|                    4|              null|                      null|                  null|                              null|                 null|                             null| 1.100000023841858|                          4|              13.5|                          4|      18.100000381469727|               null|             -36.0|                    true|           null|                    null|                0.0|      null|false|false|false|false|  false|  false|\n",
      "|        370310|      99999|1933|    4| 23|               65.0|                    4|              null|                      null|                  null|                              null|                 null|                             null|              null|                       null|               4.5|                          4|       8.899999618530273|               null|              52.0|                   false|           null|                    null|                0.0|      null|false|false|false|false|  false|  false|\n",
      "+--------------+-----------+----+-----+---+-------------------+---------------------+------------------+--------------------------+----------------------+----------------------------------+---------------------+---------------------------------+------------------+---------------------------+------------------+---------------------------+------------------------+-------------------+------------------+------------------------+---------------+------------------------+-------------------+----------+-----+-----+-----+-----+-------+-------+\n",
      "only showing top 20 rows\n",
      "\n"
     ]
    },
    {
     "name": "stderr",
     "output_type": "stream",
     "text": [
      "                                                                                \r"
     ]
    }
   ],
   "source": [
    "## show\n",
    "data.show()"
   ]
  },
  {
   "cell_type": "markdown",
   "id": "65219e0f-4309-43ec-8c88-744f9c041c47",
   "metadata": {},
   "source": [
    "Here we see `.show()`, a method that works similarly to Pandas `.head()`. You can observe that the DataFrame is stored in text, that way it's easier to distribute throughout the different executors. If you want to better display the results, we can transform the output using `.limit(n)` to a Pandas Dataframe"
   ]
  },
  {
   "cell_type": "code",
   "execution_count": 5,
   "id": "10b4a55d-c4ad-445d-b006-e0169628005e",
   "metadata": {},
   "outputs": [
    {
     "data": {
      "text/html": [
       "<div>\n",
       "<style scoped>\n",
       "    .dataframe tbody tr th:only-of-type {\n",
       "        vertical-align: middle;\n",
       "    }\n",
       "\n",
       "    .dataframe tbody tr th {\n",
       "        vertical-align: top;\n",
       "    }\n",
       "\n",
       "    .dataframe thead th {\n",
       "        text-align: right;\n",
       "    }\n",
       "</style>\n",
       "<table border=\"1\" class=\"dataframe\">\n",
       "  <thead>\n",
       "    <tr style=\"text-align: right;\">\n",
       "      <th></th>\n",
       "      <th>station_number</th>\n",
       "      <th>wban_number</th>\n",
       "      <th>year</th>\n",
       "      <th>month</th>\n",
       "      <th>day</th>\n",
       "      <th>mean_temp</th>\n",
       "      <th>num_mean_temp_samples</th>\n",
       "      <th>mean_dew_point</th>\n",
       "      <th>num_mean_dew_point_samples</th>\n",
       "      <th>mean_sealevel_pressure</th>\n",
       "      <th>...</th>\n",
       "      <th>min_temperature</th>\n",
       "      <th>min_temperature_explicit</th>\n",
       "      <th>total_precipitation</th>\n",
       "      <th>snow_depth</th>\n",
       "      <th>fog</th>\n",
       "      <th>rain</th>\n",
       "      <th>snow</th>\n",
       "      <th>hail</th>\n",
       "      <th>thunder</th>\n",
       "      <th>tornado</th>\n",
       "    </tr>\n",
       "  </thead>\n",
       "  <tbody>\n",
       "    <tr>\n",
       "      <th>0</th>\n",
       "      <td>39730</td>\n",
       "      <td>99999</td>\n",
       "      <td>1929</td>\n",
       "      <td>10</td>\n",
       "      <td>20</td>\n",
       "      <td>52.799999</td>\n",
       "      <td>4</td>\n",
       "      <td>45.500000</td>\n",
       "      <td>4</td>\n",
       "      <td>NaN</td>\n",
       "      <td>...</td>\n",
       "      <td>NaN</td>\n",
       "      <td>None</td>\n",
       "      <td>0.0</td>\n",
       "      <td>NaN</td>\n",
       "      <td>False</td>\n",
       "      <td>False</td>\n",
       "      <td>False</td>\n",
       "      <td>False</td>\n",
       "      <td>False</td>\n",
       "      <td>False</td>\n",
       "    </tr>\n",
       "    <tr>\n",
       "      <th>1</th>\n",
       "      <td>33110</td>\n",
       "      <td>99999</td>\n",
       "      <td>1929</td>\n",
       "      <td>12</td>\n",
       "      <td>18</td>\n",
       "      <td>47.500000</td>\n",
       "      <td>4</td>\n",
       "      <td>44.000000</td>\n",
       "      <td>4</td>\n",
       "      <td>NaN</td>\n",
       "      <td>...</td>\n",
       "      <td>NaN</td>\n",
       "      <td>None</td>\n",
       "      <td>NaN</td>\n",
       "      <td>NaN</td>\n",
       "      <td>False</td>\n",
       "      <td>False</td>\n",
       "      <td>False</td>\n",
       "      <td>False</td>\n",
       "      <td>False</td>\n",
       "      <td>False</td>\n",
       "    </tr>\n",
       "    <tr>\n",
       "      <th>2</th>\n",
       "      <td>37770</td>\n",
       "      <td>99999</td>\n",
       "      <td>1931</td>\n",
       "      <td>4</td>\n",
       "      <td>24</td>\n",
       "      <td>50.200001</td>\n",
       "      <td>4</td>\n",
       "      <td>44.299999</td>\n",
       "      <td>4</td>\n",
       "      <td>NaN</td>\n",
       "      <td>...</td>\n",
       "      <td>NaN</td>\n",
       "      <td>None</td>\n",
       "      <td>NaN</td>\n",
       "      <td>NaN</td>\n",
       "      <td>False</td>\n",
       "      <td>False</td>\n",
       "      <td>False</td>\n",
       "      <td>False</td>\n",
       "      <td>False</td>\n",
       "      <td>False</td>\n",
       "    </tr>\n",
       "    <tr>\n",
       "      <th>3</th>\n",
       "      <td>726810</td>\n",
       "      <td>24131</td>\n",
       "      <td>1931</td>\n",
       "      <td>6</td>\n",
       "      <td>23</td>\n",
       "      <td>65.099998</td>\n",
       "      <td>24</td>\n",
       "      <td>41.500000</td>\n",
       "      <td>8</td>\n",
       "      <td>NaN</td>\n",
       "      <td>...</td>\n",
       "      <td>NaN</td>\n",
       "      <td>None</td>\n",
       "      <td>0.0</td>\n",
       "      <td>NaN</td>\n",
       "      <td>False</td>\n",
       "      <td>False</td>\n",
       "      <td>False</td>\n",
       "      <td>False</td>\n",
       "      <td>False</td>\n",
       "      <td>False</td>\n",
       "    </tr>\n",
       "    <tr>\n",
       "      <th>4</th>\n",
       "      <td>726810</td>\n",
       "      <td>24131</td>\n",
       "      <td>1931</td>\n",
       "      <td>3</td>\n",
       "      <td>2</td>\n",
       "      <td>42.799999</td>\n",
       "      <td>24</td>\n",
       "      <td>31.500000</td>\n",
       "      <td>8</td>\n",
       "      <td>NaN</td>\n",
       "      <td>...</td>\n",
       "      <td>NaN</td>\n",
       "      <td>None</td>\n",
       "      <td>0.0</td>\n",
       "      <td>NaN</td>\n",
       "      <td>False</td>\n",
       "      <td>False</td>\n",
       "      <td>False</td>\n",
       "      <td>False</td>\n",
       "      <td>False</td>\n",
       "      <td>False</td>\n",
       "    </tr>\n",
       "  </tbody>\n",
       "</table>\n",
       "<p>5 rows × 31 columns</p>\n",
       "</div>"
      ],
      "text/plain": [
       "   station_number  wban_number  year  month  day  mean_temp  \\\n",
       "0           39730        99999  1929     10   20  52.799999   \n",
       "1           33110        99999  1929     12   18  47.500000   \n",
       "2           37770        99999  1931      4   24  50.200001   \n",
       "3          726810        24131  1931      6   23  65.099998   \n",
       "4          726810        24131  1931      3    2  42.799999   \n",
       "\n",
       "   num_mean_temp_samples  mean_dew_point  num_mean_dew_point_samples  \\\n",
       "0                      4       45.500000                           4   \n",
       "1                      4       44.000000                           4   \n",
       "2                      4       44.299999                           4   \n",
       "3                     24       41.500000                           8   \n",
       "4                     24       31.500000                           8   \n",
       "\n",
       "   mean_sealevel_pressure  ...  min_temperature  min_temperature_explicit  \\\n",
       "0                     NaN  ...              NaN                      None   \n",
       "1                     NaN  ...              NaN                      None   \n",
       "2                     NaN  ...              NaN                      None   \n",
       "3                     NaN  ...              NaN                      None   \n",
       "4                     NaN  ...              NaN                      None   \n",
       "\n",
       "   total_precipitation  snow_depth    fog   rain   snow   hail  thunder  \\\n",
       "0                  0.0         NaN  False  False  False  False    False   \n",
       "1                  NaN         NaN  False  False  False  False    False   \n",
       "2                  NaN         NaN  False  False  False  False    False   \n",
       "3                  0.0         NaN  False  False  False  False    False   \n",
       "4                  0.0         NaN  False  False  False  False    False   \n",
       "\n",
       "   tornado  \n",
       "0    False  \n",
       "1    False  \n",
       "2    False  \n",
       "3    False  \n",
       "4    False  \n",
       "\n",
       "[5 rows x 31 columns]"
      ]
     },
     "execution_count": 5,
     "metadata": {},
     "output_type": "execute_result"
    }
   ],
   "source": [
    "data.limit(10).toPandas().head()"
   ]
  },
  {
   "cell_type": "markdown",
   "id": "f22ee8ae-9b71-42fe-8805-5a7fef778fd7",
   "metadata": {},
   "source": [
    "This is a public dataset from NOAA, regarding weather stations across the United States. It has a total of 31 columns.\n",
    "\n",
    "Another important command is `.printSchema()` to check columns names and what type of data is stored on it"
   ]
  },
  {
   "cell_type": "code",
   "execution_count": 6,
   "id": "24ba75f8-2341-4a27-805e-09fb0a123995",
   "metadata": {},
   "outputs": [
    {
     "name": "stdout",
     "output_type": "stream",
     "text": [
      "root\n",
      " |-- station_number: long (nullable = false)\n",
      " |-- wban_number: long (nullable = true)\n",
      " |-- year: long (nullable = false)\n",
      " |-- month: long (nullable = false)\n",
      " |-- day: long (nullable = false)\n",
      " |-- mean_temp: double (nullable = true)\n",
      " |-- num_mean_temp_samples: long (nullable = true)\n",
      " |-- mean_dew_point: double (nullable = true)\n",
      " |-- num_mean_dew_point_samples: long (nullable = true)\n",
      " |-- mean_sealevel_pressure: double (nullable = true)\n",
      " |-- num_mean_sealevel_pressure_samples: long (nullable = true)\n",
      " |-- mean_station_pressure: double (nullable = true)\n",
      " |-- num_mean_station_pressure_samples: long (nullable = true)\n",
      " |-- mean_visibility: double (nullable = true)\n",
      " |-- num_mean_visibility_samples: long (nullable = true)\n",
      " |-- mean_wind_speed: double (nullable = true)\n",
      " |-- num_mean_wind_speed_samples: long (nullable = true)\n",
      " |-- max_sustained_wind_speed: double (nullable = true)\n",
      " |-- max_gust_wind_speed: double (nullable = true)\n",
      " |-- max_temperature: double (nullable = true)\n",
      " |-- max_temperature_explicit: boolean (nullable = true)\n",
      " |-- min_temperature: double (nullable = true)\n",
      " |-- min_temperature_explicit: boolean (nullable = true)\n",
      " |-- total_precipitation: double (nullable = true)\n",
      " |-- snow_depth: double (nullable = true)\n",
      " |-- fog: boolean (nullable = true)\n",
      " |-- rain: boolean (nullable = true)\n",
      " |-- snow: boolean (nullable = true)\n",
      " |-- hail: boolean (nullable = true)\n",
      " |-- thunder: boolean (nullable = true)\n",
      " |-- tornado: boolean (nullable = true)\n",
      "\n"
     ]
    }
   ],
   "source": [
    "data.printSchema()"
   ]
  },
  {
   "cell_type": "markdown",
   "id": "ed84f014-9124-4eeb-8010-91537af40e57",
   "metadata": {},
   "source": [
    "We have several data types: **boolean** (1 or 0), **long** (these are long integers), **double** (similar to float)"
   ]
  },
  {
   "cell_type": "code",
   "execution_count": 7,
   "id": "d69b9517-0aa3-4695-97d6-541363447b75",
   "metadata": {},
   "outputs": [
    {
     "name": "stderr",
     "output_type": "stream",
     "text": [
      "[Stage 2:>                                                          (0 + 4) / 4]\r"
     ]
    },
    {
     "name": "stdout",
     "output_type": "stream",
     "text": [
      "Number of rows is 114420316 and number of columns is 31\n",
      "CPU times: user 729 µs, sys: 4.28 ms, total: 5.01 ms\n",
      "Wall time: 1.89 s\n"
     ]
    },
    {
     "name": "stderr",
     "output_type": "stream",
     "text": [
      "                                                                                \r"
     ]
    }
   ],
   "source": [
    "%%time\n",
    "## To look how many data points, we can use the command .count()\n",
    "print(f\"Number of rows is {data.count()} and number of columns is {len(data.columns)}\")"
   ]
  },
  {
   "cell_type": "markdown",
   "id": "a8e3f728-be71-44e9-84dc-8d4f4e389367",
   "metadata": {},
   "source": [
    "114 million rows! Try to fit that into a Pandas DataFrame!. Now let's check how can we filter our dataframe and how can we create new columns.\n",
    "\n",
    "We need to lever a very important set of Spark built-in functions from `pyspark.sql.functions`, typically called `F` functions"
   ]
  },
  {
   "cell_type": "code",
   "execution_count": 8,
   "id": "aa82bf56-5a86-411d-afd9-d21bc16ffc9d",
   "metadata": {},
   "outputs": [
    {
     "name": "stdout",
     "output_type": "stream",
     "text": [
      "root\n",
      " |-- station_number: long (nullable = false)\n",
      " |-- wban_number: long (nullable = true)\n",
      " |-- year: long (nullable = false)\n",
      " |-- month: long (nullable = false)\n",
      " |-- day: long (nullable = false)\n",
      " |-- mean_temp: double (nullable = true)\n",
      " |-- num_mean_temp_samples: long (nullable = true)\n",
      " |-- mean_dew_point: double (nullable = true)\n",
      " |-- num_mean_dew_point_samples: long (nullable = true)\n",
      " |-- mean_sealevel_pressure: double (nullable = true)\n",
      " |-- num_mean_sealevel_pressure_samples: long (nullable = true)\n",
      " |-- mean_station_pressure: double (nullable = true)\n",
      " |-- num_mean_station_pressure_samples: long (nullable = true)\n",
      " |-- mean_visibility: double (nullable = true)\n",
      " |-- num_mean_visibility_samples: long (nullable = true)\n",
      " |-- mean_wind_speed: double (nullable = true)\n",
      " |-- num_mean_wind_speed_samples: long (nullable = true)\n",
      " |-- max_sustained_wind_speed: double (nullable = true)\n",
      " |-- max_gust_wind_speed: double (nullable = true)\n",
      " |-- max_temperature: double (nullable = true)\n",
      " |-- max_temperature_explicit: boolean (nullable = true)\n",
      " |-- min_temperature: double (nullable = true)\n",
      " |-- min_temperature_explicit: boolean (nullable = true)\n",
      " |-- total_precipitation: double (nullable = true)\n",
      " |-- snow_depth: double (nullable = true)\n",
      " |-- fog: boolean (nullable = true)\n",
      " |-- rain: boolean (nullable = true)\n",
      " |-- snow: boolean (nullable = true)\n",
      " |-- hail: boolean (nullable = true)\n",
      " |-- thunder: boolean (nullable = true)\n",
      " |-- tornado: boolean (nullable = true)\n",
      " |-- time: timestamp (nullable = true)\n",
      "\n"
     ]
    }
   ],
   "source": [
    "# Using built-in Spark functions are always more efficient\n",
    "from pyspark.sql import types\n",
    "import pyspark.sql.functions as F\n",
    "\n",
    "\n",
    "## Let's create a new column called time\n",
    "data = data.withColumn(\"time\", \n",
    "                  F.concat(F.col(\"year\"), \n",
    "                  F.lit(\"-\"), F.col(\"month\"), \n",
    "                  F.lit(\"-\"), F.col(\"day\")) \\\n",
    "                  .cast(types.TimestampType()))\n",
    "\n",
    "data.printSchema()"
   ]
  },
  {
   "cell_type": "code",
   "execution_count": 9,
   "id": "63bae1cd-e49d-42aa-b735-a942f9b55d9d",
   "metadata": {},
   "outputs": [
    {
     "name": "stdout",
     "output_type": "stream",
     "text": [
      "+-------------------+\n",
      "|               time|\n",
      "+-------------------+\n",
      "|1929-10-20 00:00:00|\n",
      "|1929-12-18 00:00:00|\n",
      "|1931-04-24 00:00:00|\n",
      "|1931-06-23 00:00:00|\n",
      "|1931-03-02 00:00:00|\n",
      "+-------------------+\n",
      "only showing top 5 rows\n",
      "\n"
     ]
    }
   ],
   "source": [
    "## If you want to select one or a set of columns, we can use the select method\n",
    "data.select('time').show(5)"
   ]
  },
  {
   "cell_type": "code",
   "execution_count": 10,
   "id": "494d2abc-95be-4bf3-92ba-c4aa32d8a4c1",
   "metadata": {},
   "outputs": [
    {
     "name": "stdout",
     "output_type": "stream",
     "text": [
      "+-------------------+-------+\n",
      "|               time|tornado|\n",
      "+-------------------+-------+\n",
      "|1929-10-20 00:00:00|  false|\n",
      "|1929-12-18 00:00:00|  false|\n",
      "|1931-04-24 00:00:00|  false|\n",
      "|1931-06-23 00:00:00|  false|\n",
      "|1931-03-02 00:00:00|  false|\n",
      "+-------------------+-------+\n",
      "only showing top 5 rows\n",
      "\n"
     ]
    }
   ],
   "source": [
    "data.select(['time', 'tornado']).show(5)"
   ]
  },
  {
   "cell_type": "code",
   "execution_count": 11,
   "id": "3e993068-023c-4300-a0f5-d16bb47c35ce",
   "metadata": {},
   "outputs": [
    {
     "data": {
      "text/plain": [
       "[Row(station_number=39730, wban_number=99999, year=1929, month=10, day=20, mean_temp=52.79999923706055, num_mean_temp_samples=4, mean_dew_point=45.5, num_mean_dew_point_samples=4, mean_sealevel_pressure=None, num_mean_sealevel_pressure_samples=None, mean_station_pressure=None, num_mean_station_pressure_samples=None, mean_visibility=6.199999809265137, num_mean_visibility_samples=4, mean_wind_speed=21.200000762939453, num_mean_wind_speed_samples=4, max_sustained_wind_speed=29.899999618530273, max_gust_wind_speed=None, max_temperature=50.0, max_temperature_explicit=False, min_temperature=None, min_temperature_explicit=None, total_precipitation=0.0, snow_depth=None, fog=False, rain=False, snow=False, hail=False, thunder=False, tornado=False, time=datetime.datetime(1929, 10, 20, 0, 0)),\n",
       " Row(station_number=33110, wban_number=99999, year=1929, month=12, day=18, mean_temp=47.5, num_mean_temp_samples=4, mean_dew_point=44.0, num_mean_dew_point_samples=4, mean_sealevel_pressure=None, num_mean_sealevel_pressure_samples=None, mean_station_pressure=None, num_mean_station_pressure_samples=None, mean_visibility=2.5, num_mean_visibility_samples=4, mean_wind_speed=11.0, num_mean_wind_speed_samples=4, max_sustained_wind_speed=13.0, max_gust_wind_speed=None, max_temperature=45.0, max_temperature_explicit=False, min_temperature=None, min_temperature_explicit=None, total_precipitation=None, snow_depth=None, fog=False, rain=False, snow=False, hail=False, thunder=False, tornado=False, time=datetime.datetime(1929, 12, 18, 0, 0))]"
      ]
     },
     "execution_count": 11,
     "metadata": {},
     "output_type": "execute_result"
    }
   ],
   "source": [
    "## If you want any row, we can take\n",
    "data.take(2)"
   ]
  },
  {
   "cell_type": "markdown",
   "id": "5ed8d08c-5999-4114-b3c7-db8015702ed9",
   "metadata": {},
   "source": [
    "Here you can check what we covered in the theory session! Each Row of the DataFrame is a `Row` which is similar to a dictionary, you can reference each element of the Row using the key. Now, also notice that the output of `take` is a list, so you need to index the list first"
   ]
  },
  {
   "cell_type": "code",
   "execution_count": 12,
   "id": "876b94a3-7270-4dae-9551-b55844d31a72",
   "metadata": {},
   "outputs": [
    {
     "data": {
      "text/plain": [
       "39730"
      ]
     },
     "execution_count": 12,
     "metadata": {},
     "output_type": "execute_result"
    }
   ],
   "source": [
    "## let's get the station_number only\n",
    "data.take(1)[0]['station_number']"
   ]
  },
  {
   "cell_type": "code",
   "execution_count": 13,
   "id": "2cb4de8a-2a16-4e97-9ba9-a93e2f515e80",
   "metadata": {},
   "outputs": [],
   "source": [
    "## Let's check now how to filter data using another weather station data\n",
    "stations = spark.read.format('bigquery') \\\n",
    "  .option('table', 'bigquery-public-data:noaa_gsod.stations') \\\n",
    "  .load()"
   ]
  },
  {
   "cell_type": "code",
   "execution_count": 14,
   "id": "48eb536f-b22d-4354-9516-30d6a9aeee19",
   "metadata": {},
   "outputs": [
    {
     "name": "stdout",
     "output_type": "stream",
     "text": [
      "root\n",
      " |-- usaf: string (nullable = true)\n",
      " |-- wban: string (nullable = true)\n",
      " |-- name: string (nullable = true)\n",
      " |-- country: string (nullable = true)\n",
      " |-- state: string (nullable = true)\n",
      " |-- call: string (nullable = true)\n",
      " |-- lat: double (nullable = true)\n",
      " |-- lon: double (nullable = true)\n",
      " |-- elev: string (nullable = true)\n",
      " |-- begin: string (nullable = true)\n",
      " |-- end: string (nullable = true)\n",
      "\n"
     ]
    }
   ],
   "source": [
    "stations.printSchema()"
   ]
  },
  {
   "cell_type": "code",
   "execution_count": 15,
   "id": "d8017dbc-c946-44f6-b680-d7a1330729b2",
   "metadata": {},
   "outputs": [
    {
     "name": "stdout",
     "output_type": "stream",
     "text": [
      "Total stations are 29590, total US stations are 7161\n"
     ]
    }
   ],
   "source": [
    "## Let's filter only US based stations\n",
    "# Let's filter for just the US since this is a US based dataset\n",
    "stations_us = stations.filter(F.col('country')=='US')\n",
    "\n",
    "print(f'Total stations are {stations.count()}, total US stations are {stations_us.count()}')"
   ]
  },
  {
   "cell_type": "code",
   "execution_count": 16,
   "id": "3c6439bc-5505-4b60-96fa-b0ba8fc308f4",
   "metadata": {},
   "outputs": [
    {
     "name": "stderr",
     "output_type": "stream",
     "text": [
      "[Stage 15:======================================================> (42 + 1) / 43]\r"
     ]
    },
    {
     "name": "stdout",
     "output_type": "stream",
     "text": [
      "+-------+------------------+------------------+----------------------+\n",
      "|summary|    station_number|         mean_temp|mean_sealevel_pressure|\n",
      "+-------+------------------+------------------+----------------------+\n",
      "|  count|         114420316|         114420316|              86731897|\n",
      "|   mean| 507199.9578684261|52.122209996446706|    1014.8442087525018|\n",
      "| stddev|298384.12645320315|24.222342560060262|     9.381530572463454|\n",
      "|    min|              8209|            -118.5|                 900.0|\n",
      "|    max|            999999|             110.0|     1079.699951171875|\n",
      "+-------+------------------+------------------+----------------------+\n",
      "\n",
      "CPU times: user 35.3 ms, sys: 3.74 ms, total: 39.1 ms\n",
      "Wall time: 20.5 s\n"
     ]
    },
    {
     "name": "stderr",
     "output_type": "stream",
     "text": [
      "                                                                                \r"
     ]
    }
   ],
   "source": [
    "%%time\n",
    "## Finally, we can describe our dataset using the describe command, similar to Pandas\n",
    "## Let's select just a few columns\n",
    "keep_columns = ['station_number', 'mean_temp', 'thunder', 'mean_sealevel_pressure']\n",
    "data.select(keep_columns).describe().show()"
   ]
  },
  {
   "cell_type": "markdown",
   "id": "582c3f64-3676-43e3-b979-ddeb93fbfd82",
   "metadata": {},
   "source": [
    "# Data Types\n",
    "\n",
    "I highly recommend reading this article [Format Wars](http://www.svds.com/dataformats/) which covered the characteristics, structure, and differences between raw text, sequence, Avro, Parquet, and ORC data serializations. \n",
    "\n",
    "There were several points discussed: \n",
    "\n",
    "* Human Readable\n",
    "* Row vs Column Oriented\n",
    "* Read vs Write performance\n",
    "* Appendable\n",
    "* Splittable\n",
    "* Metadata storage\n",
    "\n",
    "We have 4 data types below\n",
    "\n",
    "- Compressed CSV\n",
    "- Parquet\n",
    "- Avro\n",
    "- CSV\n",
    "\n",
    "Of these 3 are row oriented and 1 is column oriented. We have over 100M rows and 31 columns. Columnar compression should do fairly well in this scenerio. "
   ]
  },
  {
   "cell_type": "code",
   "execution_count": 17,
   "id": "b8ad85b3-2fcf-468e-90cd-b49fa3ece3f9",
   "metadata": {},
   "outputs": [],
   "source": [
    "data = spark.read.format('bigquery') \\\n",
    "  .option('table', 'bigquery-public-data:samples.gsod') \\\n",
    "  .load()"
   ]
  },
  {
   "cell_type": "code",
   "execution_count": 18,
   "id": "d6947c15-948c-41ac-9080-c841dee60cb7",
   "metadata": {},
   "outputs": [
    {
     "name": "stderr",
     "output_type": "stream",
     "text": [
      "                                                                                \r"
     ]
    },
    {
     "name": "stdout",
     "output_type": "stream",
     "text": [
      "3.08 GiB     gs://dataproc-staging-us-central1-46276165848-qogwkgcx/data/data.gzip/*\n",
      "CPU times: user 188 ms, sys: 51.9 ms, total: 240 ms\n",
      "Wall time: 10min 15s\n"
     ]
    }
   ],
   "source": [
    "%%time\n",
    "data.write.option(\"compression\",\"gzip\").csv(f'{GCS_LOCATION}/data.gzip')\n",
    "!gsutil du -sh {GCS_LOCATION}/data.gzip/*"
   ]
  },
  {
   "cell_type": "code",
   "execution_count": 19,
   "id": "111e6a0c-af72-4817-b128-ad63ce94452f",
   "metadata": {},
   "outputs": [
    {
     "name": "stderr",
     "output_type": "stream",
     "text": [
      "                                                                                \r"
     ]
    },
    {
     "name": "stdout",
     "output_type": "stream",
     "text": [
      "1.87 GiB     gs://dataproc-staging-us-central1-46276165848-qogwkgcx/data/data.parquet/*\n",
      "CPU times: user 103 ms, sys: 19.2 ms, total: 122 ms\n",
      "Wall time: 3min 45s\n"
     ]
    }
   ],
   "source": [
    "%%time\n",
    "data.write.format(\"parquet\").save(f'{GCS_LOCATION}/data.parquet')\n",
    "!gsutil du -sh {GCS_LOCATION}/data.parquet/*"
   ]
  },
  {
   "cell_type": "code",
   "execution_count": null,
   "id": "fd2b7f5c-1ef4-4e18-97c8-72f1a0927c28",
   "metadata": {},
   "outputs": [
    {
     "name": "stderr",
     "output_type": "stream",
     "text": [
      "                                                                                \r"
     ]
    },
    {
     "name": "stdout",
     "output_type": "stream",
     "text": [
      "4.66 GiB     gs://dataproc-staging-us-central1-46276165848-qogwkgcx/data/dataavro/*\n",
      "CPU times: user 161 ms, sys: 15.2 ms, total: 176 ms\n",
      "Wall time: 8min 10s\n"
     ]
    }
   ],
   "source": [
    "%%time\n",
    "data.write.format(\"avro\").save(f'{GCS_LOCATION}/dataavro')\n",
    "!gsutil du -sh {GCS_LOCATION}/dataavro/*"
   ]
  },
  {
   "cell_type": "code",
   "execution_count": 23,
   "id": "08424076-79f0-491d-a59f-a5914a10e4c6",
   "metadata": {},
   "outputs": [
    {
     "name": "stderr",
     "output_type": "stream",
     "text": [
      "                                                                                \r"
     ]
    },
    {
     "name": "stdout",
     "output_type": "stream",
     "text": [
      "22.18 GiB    gs://dataproc-staging-us-central1-46276165848-qogwkgcx/data/csv/*\n",
      "CPU times: user 133 ms, sys: 26.5 ms, total: 160 ms\n",
      "Wall time: 6min 54s\n"
     ]
    }
   ],
   "source": [
    "%%time\n",
    "data.write.csv(f'{GCS_LOCATION}/csv')\n",
    "!gsutil du -sh {GCS_LOCATION}/csv/*"
   ]
  },
  {
   "cell_type": "markdown",
   "id": "614d545f-e820-43a3-ab6a-70a4470258ae",
   "metadata": {},
   "source": [
    "## Why do we care?\n",
    "\n",
    "The compression of each data type matter when running different operations and computations, let's compare the 3"
   ]
  },
  {
   "cell_type": "code",
   "execution_count": 96,
   "id": "e65b4b15-ad8d-449e-a8a8-b68164ed15ab",
   "metadata": {},
   "outputs": [],
   "source": [
    "## Create our dataframes\n",
    "data_parquet = spark.read.parquet(f'{GCS_LOCATION}/data.parquet')\n",
    "data_csv = spark.read.csv(f'{GCS_LOCATION}/csv')\n",
    "data_avro = spark.read.format(\"avro\").load(f'{GCS_LOCATION}/dataavro')"
   ]
  },
  {
   "cell_type": "code",
   "execution_count": 27,
   "id": "b681b9cb-3f61-4d08-972d-09ff669f763d",
   "metadata": {},
   "outputs": [
    {
     "name": "stderr",
     "output_type": "stream",
     "text": [
      "[Stage 32:=====================================================>  (18 + 1) / 19]\r"
     ]
    },
    {
     "name": "stdout",
     "output_type": "stream",
     "text": [
      "CPU times: user 1.98 ms, sys: 7.68 ms, total: 9.66 ms\n",
      "Wall time: 4.24 s\n"
     ]
    },
    {
     "name": "stderr",
     "output_type": "stream",
     "text": [
      "                                                                                \r"
     ]
    },
    {
     "data": {
      "text/plain": [
       "114420316"
      ]
     },
     "execution_count": 27,
     "metadata": {},
     "output_type": "execute_result"
    }
   ],
   "source": [
    "%%time\n",
    "data_parquet.count()"
   ]
  },
  {
   "cell_type": "code",
   "execution_count": 28,
   "id": "146df802-40f5-4006-b64c-18b4c5171a71",
   "metadata": {},
   "outputs": [
    {
     "name": "stderr",
     "output_type": "stream",
     "text": [
      "[Stage 35:=====================================================>(193 + 1) / 194]\r"
     ]
    },
    {
     "name": "stdout",
     "output_type": "stream",
     "text": [
      "CPU times: user 122 ms, sys: 24.4 ms, total: 146 ms\n",
      "Wall time: 1min 1s\n"
     ]
    },
    {
     "name": "stderr",
     "output_type": "stream",
     "text": [
      "                                                                                \r"
     ]
    },
    {
     "data": {
      "text/plain": [
       "114420316"
      ]
     },
     "execution_count": 28,
     "metadata": {},
     "output_type": "execute_result"
    }
   ],
   "source": [
    "%%time\n",
    "data_csv.count()"
   ]
  },
  {
   "cell_type": "code",
   "execution_count": 30,
   "id": "9f308948-c284-4012-9bf9-3463ad0dcf78",
   "metadata": {},
   "outputs": [
    {
     "name": "stderr",
     "output_type": "stream",
     "text": [
      "[Stage 41:======================================================> (39 + 1) / 40]\r"
     ]
    },
    {
     "name": "stdout",
     "output_type": "stream",
     "text": [
      "CPU times: user 54.2 ms, sys: 8.34 ms, total: 62.5 ms\n",
      "Wall time: 1min 42s\n"
     ]
    },
    {
     "name": "stderr",
     "output_type": "stream",
     "text": [
      "                                                                                \r"
     ]
    },
    {
     "data": {
      "text/plain": [
       "114420316"
      ]
     },
     "execution_count": 30,
     "metadata": {},
     "output_type": "execute_result"
    }
   ],
   "source": [
    "%%time\n",
    "data_avro.count()"
   ]
  },
  {
   "cell_type": "markdown",
   "id": "9fd6db73-be57-450b-a48a-6e75725cddae",
   "metadata": {},
   "source": [
    "* _What is the compression ratio for the parquet to csv file?_\n",
    "> We have 1.7G/21G = 0.081 or 8.1% of original size\n",
    "\n",
    "* _Which serialization would query a column faster?_\n",
    "> Parquet has a columnar format therefore a column of data has faster access and only needs to grab a subset of data\n",
    "\n",
    "* _Which types of columns do you think has the best compression for parquet?_\n",
    "> Columns with repeated content will have better compressions such as categorical columns will have very high compression ratios, especially if they're integers since parquet has enhanced compression for types with smaller storage requirements. \n",
    "\n",
    "* _When should you use flat files vs other data formats?_\n",
    "> If you need human readable data or you have small data sets. Interoperability - for sharing with other teams. Don't send Bob in accounting a parquet file! Bob will try to open it in excel and he'll get an error, call IT, and IT will tell Bob to clear his cookies and restart his computer. Bob will not be impressed.\n",
    "\n",
    "* _If we want to do analysis with lots of aggregations what serialization should we use?_\n",
    "> Parquet\n",
    "\n",
    "* _Is there any downside to Parquet?_\n",
    "> Parquet is non-appendable (immutable) which means that if we have new data coming in we can't grow the dataset with parquet. Parquet datasets are typically used for batch analysis after the data has reached a final state, such as on a date roll-over.\n",
    " \n",
    "* _If you had to partition data into days as new data comes in with aggregations happening at end of day how would you operationalize this?_\n",
    "> Data coming in for a day is streamed into an Avro file which handles appends seamlessly, then once the day has completed and a new partition for data is created a batch job can convert the avro file into a parquet file for the DS/Analyst team to query against."
   ]
  },
  {
   "cell_type": "markdown",
   "id": "7894ca8b-a31c-4268-8465-af24b86823e1",
   "metadata": {},
   "source": [
    "# Data Aggregation\n",
    "\n",
    "Let's perform different aggregations using different methods and GroupBy. Don't worry! GroupBy from DataFrames is very different than RDDs."
   ]
  },
  {
   "cell_type": "code",
   "execution_count": 101,
   "id": "3b620bd0-2f6a-4e73-b647-cac0aa2bc409",
   "metadata": {},
   "outputs": [
    {
     "name": "stderr",
     "output_type": "stream",
     "text": [
      "[Stage 179:====================================================>  (18 + 1) / 19]\r"
     ]
    },
    {
     "name": "stdout",
     "output_type": "stream",
     "text": [
      "+-------------------+\n",
      "|          mean_temp|\n",
      "+-------------------+\n",
      "|             -118.5|\n",
      "|-118.30000305175781|\n",
      "| -117.5999984741211|\n",
      "| -117.0999984741211|\n",
      "| -115.9000015258789|\n",
      "|-115.80000305175781|\n",
      "|             -115.5|\n",
      "|             -115.5|\n",
      "|-115.19999694824219|\n",
      "| -115.0999984741211|\n",
      "|             -115.0|\n",
      "| -114.9000015258789|\n",
      "| -114.9000015258789|\n",
      "| -114.5999984741211|\n",
      "| -114.0999984741211|\n",
      "|             -114.0|\n",
      "| -113.9000015258789|\n",
      "| -113.5999984741211|\n",
      "| -113.5999984741211|\n",
      "| -113.4000015258789|\n",
      "+-------------------+\n",
      "only showing top 20 rows\n",
      "\n",
      "CPU times: user 15.6 ms, sys: 7.63 ms, total: 23.3 ms\n",
      "Wall time: 9.32 s\n"
     ]
    },
    {
     "name": "stderr",
     "output_type": "stream",
     "text": [
      "                                                                                \r"
     ]
    }
   ],
   "source": [
    "%%time\n",
    "## Let's start with sorting\n",
    "#data_parquet.sort(\"mean_temp\").show()\n",
    "#data_parquet.sort(\"mean_temp\").select(\"mean_temp\").show()\n",
    "data_parquet.sort(\"mean_temp\").select(\"mean_temp\").filter(F.col(\"mean_temp\").isNotNull()).show()"
   ]
  },
  {
   "cell_type": "code",
   "execution_count": 98,
   "id": "8899aecd-64a1-4ee5-89a5-37a193ec4625",
   "metadata": {},
   "outputs": [
    {
     "name": "stderr",
     "output_type": "stream",
     "text": [
      "[Stage 176:=====================================================> (39 + 1) / 40]\r"
     ]
    },
    {
     "name": "stdout",
     "output_type": "stream",
     "text": [
      "+-------------------+\n",
      "|          mean_temp|\n",
      "+-------------------+\n",
      "|             -118.5|\n",
      "|-118.30000305175781|\n",
      "| -117.5999984741211|\n",
      "| -117.0999984741211|\n",
      "| -115.9000015258789|\n",
      "|-115.80000305175781|\n",
      "|             -115.5|\n",
      "|             -115.5|\n",
      "|-115.19999694824219|\n",
      "| -115.0999984741211|\n",
      "|             -115.0|\n",
      "| -114.9000015258789|\n",
      "| -114.9000015258789|\n",
      "| -114.5999984741211|\n",
      "| -114.0999984741211|\n",
      "|             -114.0|\n",
      "| -113.9000015258789|\n",
      "| -113.5999984741211|\n",
      "| -113.5999984741211|\n",
      "| -113.4000015258789|\n",
      "+-------------------+\n",
      "only showing top 20 rows\n",
      "\n",
      "CPU times: user 42.8 ms, sys: 17.6 ms, total: 60.4 ms\n",
      "Wall time: 1min 51s\n"
     ]
    },
    {
     "name": "stderr",
     "output_type": "stream",
     "text": [
      "                                                                                \r"
     ]
    }
   ],
   "source": [
    "%%time\n",
    "## Let's compare with avro\n",
    "data_avro.sort(\"mean_temp\").select(\"mean_temp\").filter(F.col(\"mean_temp\").isNotNull()).show()"
   ]
  },
  {
   "cell_type": "code",
   "execution_count": 103,
   "id": "9be51c70-7221-4851-b156-3ca0bb1bd3f8",
   "metadata": {},
   "outputs": [
    {
     "name": "stderr",
     "output_type": "stream",
     "text": [
      "[Stage 183:====================================================>  (18 + 1) / 19]\r"
     ]
    },
    {
     "name": "stdout",
     "output_type": "stream",
     "text": [
      "+-----------------+\n",
      "|    Avg mean Wind|\n",
      "+-----------------+\n",
      "|6.763403616672629|\n",
      "+-----------------+\n",
      "\n",
      "CPU times: user 14.3 ms, sys: 2.78 ms, total: 17.1 ms\n",
      "Wall time: 4.93 s\n"
     ]
    },
    {
     "name": "stderr",
     "output_type": "stream",
     "text": [
      "                                                                                \r"
     ]
    }
   ],
   "source": [
    "%%time\n",
    "data_parquet.select(F.mean(\"mean_wind_speed\").alias(\"Avg mean Wind\")).show()"
   ]
  },
  {
   "cell_type": "code",
   "execution_count": 104,
   "id": "4c4512ce-e14b-40c6-9deb-7a2bc09e657f",
   "metadata": {},
   "outputs": [
    {
     "name": "stderr",
     "output_type": "stream",
     "text": [
      "[Stage 186:=================================================>     (17 + 2) / 19]\r"
     ]
    },
    {
     "name": "stdout",
     "output_type": "stream",
     "text": [
      "+--------------------+\n",
      "|max(mean_wind_speed)|\n",
      "+--------------------+\n",
      "|    96.9000015258789|\n",
      "+--------------------+\n",
      "\n",
      "CPU times: user 10.2 ms, sys: 4.8 ms, total: 15 ms\n",
      "Wall time: 4.29 s\n"
     ]
    },
    {
     "name": "stderr",
     "output_type": "stream",
     "text": [
      "                                                                                \r"
     ]
    }
   ],
   "source": [
    "%%time\n",
    "data_parquet.select(F.max(\"mean_wind_speed\")).show()"
   ]
  },
  {
   "cell_type": "code",
   "execution_count": 105,
   "id": "5aaa54a4-4f4e-44d4-a5e6-0fe76c55017a",
   "metadata": {},
   "outputs": [
    {
     "name": "stderr",
     "output_type": "stream",
     "text": [
      "[Stage 189:====================================================>  (18 + 1) / 19]\r"
     ]
    },
    {
     "name": "stdout",
     "output_type": "stream",
     "text": [
      "+--------------------+\n",
      "|min(mean_wind_speed)|\n",
      "+--------------------+\n",
      "|                 0.0|\n",
      "+--------------------+\n",
      "\n",
      "CPU times: user 15.4 ms, sys: 1.31 ms, total: 16.7 ms\n",
      "Wall time: 4.36 s\n"
     ]
    },
    {
     "name": "stderr",
     "output_type": "stream",
     "text": [
      "                                                                                \r"
     ]
    }
   ],
   "source": [
    "%%time\n",
    "data_parquet.select(F.min(\"mean_wind_speed\")).show()"
   ]
  },
  {
   "cell_type": "code",
   "execution_count": 106,
   "id": "be609916-6d5b-4d41-82b2-660363b779c4",
   "metadata": {},
   "outputs": [
    {
     "name": "stderr",
     "output_type": "stream",
     "text": [
      "[Stage 192:====================================================>  (18 + 1) / 19]\r"
     ]
    },
    {
     "name": "stdout",
     "output_type": "stream",
     "text": [
      "+----------------------------+\n",
      "|stddev_samp(mean_wind_speed)|\n",
      "+----------------------------+\n",
      "|           4.927020012955844|\n",
      "+----------------------------+\n",
      "\n",
      "CPU times: user 17 ms, sys: 698 µs, total: 17.7 ms\n",
      "Wall time: 4.46 s\n"
     ]
    },
    {
     "name": "stderr",
     "output_type": "stream",
     "text": [
      "                                                                                \r"
     ]
    }
   ],
   "source": [
    "%%time\n",
    "data_parquet.select(F.stddev(\"mean_wind_speed\")).show()"
   ]
  },
  {
   "cell_type": "markdown",
   "id": "f90d529e-4ae2-4817-927b-7e138e0c4a10",
   "metadata": {},
   "source": [
    "## GroupBy"
   ]
  },
  {
   "cell_type": "code",
   "execution_count": 109,
   "id": "f92527b3-b8b7-4e5b-af21-6cebaf80396a",
   "metadata": {},
   "outputs": [
    {
     "name": "stderr",
     "output_type": "stream",
     "text": [
      "[Stage 206:====================================================>  (18 + 1) / 19]\r"
     ]
    },
    {
     "name": "stdout",
     "output_type": "stream",
     "text": [
      "CPU times: user 111 ms, sys: 4.68 ms, total: 116 ms\n",
      "Wall time: 6.72 s\n"
     ]
    },
    {
     "name": "stderr",
     "output_type": "stream",
     "text": [
      "                                                                                \r"
     ]
    },
    {
     "data": {
      "text/plain": [
       "<AxesSubplot:xlabel='year'>"
      ]
     },
     "execution_count": 109,
     "metadata": {},
     "output_type": "execute_result"
    },
    {
     "data": {
      "image/png": "[encoded data removed]",
      "text/plain": [
       "<Figure size 432x288 with 1 Axes>"
      ]
     },
     "metadata": {
      "needs_background": "light"
     },
     "output_type": "display_data"
    }
   ],
   "source": [
    "%%time\n",
    "## Let's suppose we want the average temperature by year\n",
    "data_pandas = data_parquet.groupBy(\"year\").agg(F.mean(\"mean_temp\").alias(\"Mean Temp\")).toPandas()\n",
    "data_pandas.sort_values(\"year\").set_index(\"year\").plot()"
   ]
  },
  {
   "cell_type": "code",
   "execution_count": 108,
   "id": "c634819b-faf5-4624-a815-f31473040e3a",
   "metadata": {},
   "outputs": [
    {
     "name": "stderr",
     "output_type": "stream",
     "text": [
      "                                                                                \r"
     ]
    },
    {
     "data": {
      "text/plain": [
       "82"
      ]
     },
     "execution_count": 108,
     "metadata": {},
     "output_type": "execute_result"
    }
   ],
   "source": [
    "data_parquet.groupBy(\"year\").agg(F.mean(\"mean_temp\").alias(\"Mean Temp\")).count()"
   ]
  },
  {
   "cell_type": "code",
   "execution_count": 110,
   "id": "d1e7ff83-a110-4555-bc93-a20293e7a256",
   "metadata": {},
   "outputs": [
    {
     "name": "stderr",
     "output_type": "stream",
     "text": [
      "[Stage 209:====================================================>  (18 + 1) / 19]\r"
     ]
    },
    {
     "name": "stdout",
     "output_type": "stream",
     "text": [
      "CPU times: user 73.3 ms, sys: 18.3 ms, total: 91.7 ms\n",
      "Wall time: 8.58 s\n"
     ]
    },
    {
     "name": "stderr",
     "output_type": "stream",
     "text": [
      "                                                                                \r"
     ]
    },
    {
     "data": {
      "text/plain": [
       "<AxesSubplot:xlabel='year'>"
      ]
     },
     "execution_count": 110,
     "metadata": {},
     "output_type": "execute_result"
    },
    {
     "data": {
      "image/png": "[encoded data removed]",
      "text/plain": [
       "<Figure size 432x288 with 1 Axes>"
      ]
     },
     "metadata": {
      "needs_background": "light"
     },
     "output_type": "display_data"
    }
   ],
   "source": [
    "%%time\n",
    "## Let's suppose we want more than one\n",
    "data_pandas = data_parquet.groupBy(\"year\").agg(F.mean(\"mean_temp\").alias(\"Mean Temp\"), \n",
    "                                               F.max(\"max_temperature\").alias(\"Max Temp\")).toPandas()\n",
    "data_pandas.sort_values(\"year\").set_index(\"year\").plot()"
   ]
  },
  {
   "cell_type": "code",
   "execution_count": 111,
   "id": "1123993b-d512-4ad7-b4ed-6289a1f9380c",
   "metadata": {},
   "outputs": [
    {
     "name": "stderr",
     "output_type": "stream",
     "text": [
      "[Stage 212:====================================================>  (18 + 1) / 19]\r"
     ]
    },
    {
     "name": "stdout",
     "output_type": "stream",
     "text": [
      "CPU times: user 98.5 ms, sys: 36.6 ms, total: 135 ms\n",
      "Wall time: 6.93 s\n"
     ]
    },
    {
     "name": "stderr",
     "output_type": "stream",
     "text": [
      "                                                                                \r"
     ]
    },
    {
     "data": {
      "text/plain": [
       "<AxesSubplot:xlabel='year'>"
      ]
     },
     "execution_count": 111,
     "metadata": {},
     "output_type": "execute_result"
    },
    {
     "data": {
      "image/png": "[encoded data removed]",
      "text/plain": [
       "<Figure size 432x288 with 1 Axes>"
      ]
     },
     "metadata": {
      "needs_background": "light"
     },
     "output_type": "display_data"
    }
   ],
   "source": [
    "%%time\n",
    "## Let's suppose we want more than one\n",
    "data_pandas = data_parquet.groupBy(\"year\").agg(F.mean(\"mean_temp\").alias(\"Mean Temp\"), \n",
    "                                               F.stddev(\"mean_temp\").alias(\"SD Mean Temp\")).toPandas()\n",
    "data_pandas = data_pandas.sort_values(\"year\").set_index(\"year\")\n",
    "data_pandas['Min CI Temp'] = data_pandas['Mean Temp'] - 2*data_pandas['SD Mean Temp']\n",
    "data_pandas['Max CI Temp'] = data_pandas['Mean Temp'] + 2*data_pandas['SD Mean Temp']\n",
    "del data_pandas['SD Mean Temp']\n",
    "data_pandas.plot()"
   ]
  },
  {
   "cell_type": "code",
   "execution_count": 112,
   "id": "8f93fb23-5282-497e-93d9-48303095a92d",
   "metadata": {},
   "outputs": [
    {
     "name": "stderr",
     "output_type": "stream",
     "text": [
      "[Stage 215:====================================================>  (18 + 1) / 19]\r"
     ]
    },
    {
     "name": "stdout",
     "output_type": "stream",
     "text": [
      "+----+-----+------------------+------------------+\n",
      "|year|month|         Mean Temp|      SD Mean Temp|\n",
      "+----+-----+------------------+------------------+\n",
      "|1929|    8|60.552419416366085|3.1990462574283702|\n",
      "|1929|    9| 61.32605038170053|  4.03357642577158|\n",
      "|1929|   10| 50.62124188117732|  4.80196415792147|\n",
      "|1929|   11|47.099176249747615| 6.103062771817112|\n",
      "|1929|   12| 45.37819060909536| 6.024023504130773|\n",
      "|1930|    1|  44.1638498261501| 4.924192609845938|\n",
      "|1930|    2| 39.85389948800284| 5.424807085849542|\n",
      "|1930|    3|43.270230277588496|  6.20364872795214|\n",
      "|1930|    4| 46.59947278336188| 4.285578098496348|\n",
      "|1930|    5| 51.23745814294719| 5.852503116538371|\n",
      "|1930|    6|57.698947384482935| 4.381964851854147|\n",
      "|1930|    7| 58.29831368123098|3.4151141395515623|\n",
      "|1930|    8| 58.91847454006389| 4.035375986521117|\n",
      "|1930|    9| 57.15355978042948|  5.05659012503392|\n",
      "|1930|   10|51.519968809464046| 4.618773602848772|\n",
      "|1930|   11| 46.13617694547391| 6.240501759905245|\n",
      "|1930|   12|44.314175671899264| 6.180885798057129|\n",
      "|1931|    1|40.092450479469676| 7.572812511108157|\n",
      "|1931|    2|39.418145178466716| 7.659416160405766|\n",
      "|1931|    3| 40.05160875578184| 8.428746256340379|\n",
      "+----+-----+------------------+------------------+\n",
      "only showing top 20 rows\n",
      "\n",
      "CPU times: user 27.6 ms, sys: 102 µs, total: 27.7 ms\n",
      "Wall time: 7.5 s\n"
     ]
    },
    {
     "name": "stderr",
     "output_type": "stream",
     "text": [
      "                                                                                \r"
     ]
    }
   ],
   "source": [
    "%%time\n",
    "## Let's suppose we want more than one\n",
    "data_parquet.groupBy([\"year\", 'month']).agg(F.mean(\"mean_temp\").alias(\"Mean Temp\"), \n",
    "                                               F.stddev(\"mean_temp\").alias(\"SD Mean Temp\")).sort(['year','month']).show()"
   ]
  },
  {
   "cell_type": "markdown",
   "id": "b77541da-2c25-41d3-a8ca-621f087cdc91",
   "metadata": {},
   "source": [
    "## User Defined Functions"
   ]
  },
  {
   "cell_type": "code",
   "execution_count": 113,
   "id": "7be39585-2710-422a-92fb-d2c4ebd38f1f",
   "metadata": {},
   "outputs": [],
   "source": [
    "## Let's recall how we created the time column from before\n",
    "data_parquet_time = data_parquet.withColumn(\"time\", \n",
    "                                F.concat(F.col(\"year\"), \n",
    "                                F.lit(\"-\"), F.col(\"month\"), \n",
    "                                F.lit(\"-\"), F.col(\"day\")) \\\n",
    "                                .cast(types.TimestampType()))"
   ]
  },
  {
   "cell_type": "code",
   "execution_count": 114,
   "id": "98461bf3-68e0-4f92-a699-8f74d4158784",
   "metadata": {},
   "outputs": [
    {
     "name": "stdout",
     "output_type": "stream",
     "text": [
      "+-------------------+\n",
      "|               time|\n",
      "+-------------------+\n",
      "|1933-06-25 00:00:00|\n",
      "|1933-04-06 00:00:00|\n",
      "|1933-02-20 00:00:00|\n",
      "|1934-05-20 00:00:00|\n",
      "|1935-11-18 00:00:00|\n",
      "+-------------------+\n",
      "only showing top 5 rows\n",
      "\n",
      "CPU times: user 2.69 ms, sys: 599 µs, total: 3.29 ms\n",
      "Wall time: 492 ms\n"
     ]
    }
   ],
   "source": [
    "%%time\n",
    "data_parquet_time.select('time').show(5)"
   ]
  },
  {
   "cell_type": "code",
   "execution_count": 115,
   "id": "20244775-ed92-49ab-8b9c-4e6d59c858af",
   "metadata": {},
   "outputs": [],
   "source": [
    "## Can we do it differently? Yes! UDF. You can create UDF that will work row by row in your dataframe\n",
    "def create_date_from_parts(year, month, day):\n",
    "    return f'{year}-{month}-{day}'\n",
    "\n",
    "create_date_udf = F.udf(create_date_from_parts, types.StringType())\n",
    "data_parquet_time_udf = data_parquet.withColumn(\"time\", create_date_udf('year', 'month', 'day').cast(types.TimestampType()))"
   ]
  },
  {
   "cell_type": "code",
   "execution_count": 118,
   "id": "2328b564-a508-4ba5-bce8-df5d08f9b8aa",
   "metadata": {},
   "outputs": [
    {
     "name": "stdout",
     "output_type": "stream",
     "text": [
      "+-------------------+\n",
      "|               time|\n",
      "+-------------------+\n",
      "|1933-06-25 00:00:00|\n",
      "|1933-04-06 00:00:00|\n",
      "|1933-02-20 00:00:00|\n",
      "|1934-05-20 00:00:00|\n",
      "|1935-11-18 00:00:00|\n",
      "+-------------------+\n",
      "only showing top 5 rows\n",
      "\n",
      "CPU times: user 3.48 ms, sys: 0 ns, total: 3.48 ms\n",
      "Wall time: 372 ms\n"
     ]
    }
   ],
   "source": [
    "%%time\n",
    "data_parquet_time_udf.select('time').show(5)"
   ]
  },
  {
   "cell_type": "markdown",
   "id": "fc3b0e4f-c3b7-4f09-b09c-82f9c51396ac",
   "metadata": {},
   "source": [
    "UDFs are typically much slower than built-in Spark functionality. The reason for this is becauase they have to serialize and deserialize the data for every row that the function is applied to. There have been recent improvements to UDF for some analytical results with Pandas UDFs that return scalars or groupby maps. Some more information about why UDFs are inefficent can be found here https://blog.cloudera.com/blog/2017/02/working-with-udfs-in-apache-spark/"
   ]
  },
  {
   "cell_type": "code",
   "execution_count": 119,
   "id": "c2245adc-5a76-4f18-aeaf-ba6fb183ff3c",
   "metadata": {},
   "outputs": [
    {
     "name": "stdout",
     "output_type": "stream",
     "text": [
      "+------------------+\n",
      "|       square_temp|\n",
      "+------------------+\n",
      "| 4329.640401611337|\n",
      "|1576.0900605773932|\n",
      "|            240.25|\n",
      "|3994.2400964355475|\n",
      "| 449.4400323486334|\n",
      "|            6561.0|\n",
      "|           2162.25|\n",
      "|           3422.25|\n",
      "|             784.0|\n",
      "|            2025.0|\n",
      "|2190.2399285888678|\n",
      "| 4733.440419921884|\n",
      "|            2704.0|\n",
      "|5565.1597723388695|\n",
      "| 3504.640090332032|\n",
      "| 3047.040084228516|\n",
      "| 5169.610219421389|\n",
      "| 5975.290471801767|\n",
      "|            3844.0|\n",
      "| 6674.889501342783|\n",
      "+------------------+\n",
      "only showing top 20 rows\n",
      "\n",
      "CPU times: user 7.59 ms, sys: 4.22 ms, total: 11.8 ms\n",
      "Wall time: 449 ms\n"
     ]
    }
   ],
   "source": [
    "%%time\n",
    "## Let's look at other examples\n",
    "from pyspark.sql.functions import udf\n",
    "@udf(\"double\")\n",
    "def squared_udf(s):\n",
    "    return s * s\n",
    "\n",
    "\n",
    "data_udf = data_parquet.withColumn(\"square_temp\", squared_udf(F.col(\"mean_temp\")))\n",
    "data_udf.select(\"square_temp\").show()"
   ]
  },
  {
   "cell_type": "code",
   "execution_count": 120,
   "id": "ff8a1224-f058-4fff-b60a-da65d1a7c5f0",
   "metadata": {},
   "outputs": [
    {
     "name": "stdout",
     "output_type": "stream",
     "text": [
      "+------------------+\n",
      "|       square_temp|\n",
      "+------------------+\n",
      "| 4329.640401611337|\n",
      "|1576.0900605773932|\n",
      "|            240.25|\n",
      "|3994.2400964355475|\n",
      "| 449.4400323486334|\n",
      "|            6561.0|\n",
      "|           2162.25|\n",
      "|           3422.25|\n",
      "|             784.0|\n",
      "|            2025.0|\n",
      "|2190.2399285888678|\n",
      "| 4733.440419921884|\n",
      "|            2704.0|\n",
      "|5565.1597723388695|\n",
      "| 3504.640090332032|\n",
      "| 3047.040084228516|\n",
      "| 5169.610219421389|\n",
      "| 5975.290471801767|\n",
      "|            3844.0|\n",
      "| 6674.889501342783|\n",
      "+------------------+\n",
      "only showing top 20 rows\n",
      "\n",
      "CPU times: user 5.73 ms, sys: 262 µs, total: 6 ms\n",
      "Wall time: 396 ms\n"
     ]
    }
   ],
   "source": [
    "%%time\n",
    "data_no_udf = data_parquet.withColumn(\"square_temp\", F.col(\"mean_temp\")**2)\n",
    "data_udf.select(\"square_temp\").show()"
   ]
  },
  {
   "cell_type": "code",
   "execution_count": 126,
   "id": "7ea4c893-4317-4149-bb70-d330fb266483",
   "metadata": {},
   "outputs": [
    {
     "name": "stdout",
     "output_type": "stream",
     "text": [
      "+------------------+------------------+\n",
      "|         mean_temp|      squared_temp|\n",
      "+------------------+------------------+\n",
      "| 65.80000305175781| 4329.640401611337|\n",
      "| 39.70000076293945|1576.0900605773932|\n",
      "|             -15.5|            240.25|\n",
      "| 63.20000076293945|3994.2400964355475|\n",
      "|21.200000762939453| 449.4400323486334|\n",
      "|              81.0|            6561.0|\n",
      "|              46.5|           2162.25|\n",
      "|              58.5|           3422.25|\n",
      "|              28.0|             784.0|\n",
      "|              45.0|            2025.0|\n",
      "| 46.79999923706055|2190.2399285888678|\n",
      "| 68.80000305175781| 4733.440419921884|\n",
      "|              52.0|            2704.0|\n",
      "|  74.5999984741211|5565.1597723388695|\n",
      "| 59.20000076293945| 3504.640090332032|\n",
      "| 55.20000076293945| 3047.040084228516|\n",
      "|  71.9000015258789| 5169.610219421389|\n",
      "| 77.30000305175781| 5975.290471801767|\n",
      "|              62.0|            3844.0|\n",
      "| 81.69999694824219| 6674.889501342783|\n",
      "+------------------+------------------+\n",
      "only showing top 20 rows\n",
      "\n",
      "CPU times: user 4.82 ms, sys: 0 ns, total: 4.82 ms\n",
      "Wall time: 547 ms\n"
     ]
    },
    {
     "name": "stderr",
     "output_type": "stream",
     "text": [
      "Traceback (most recent call last):\n",
      "  File \"/usr/lib/spark/python/lib/pyspark.zip/pyspark/daemon.py\", line 186, in manager\n",
      "  File \"/usr/lib/spark/python/lib/pyspark.zip/pyspark/daemon.py\", line 74, in worker\n",
      "  File \"/usr/lib/spark/python/lib/pyspark.zip/pyspark/worker.py\", line 643, in main\n",
      "    if read_int(infile) == SpecialLengths.END_OF_STREAM:\n",
      "  File \"/usr/lib/spark/python/lib/pyspark.zip/pyspark/serializers.py\", line 564, in read_int\n",
      "    raise EOFError\n",
      "EOFError\n"
     ]
    }
   ],
   "source": [
    "%%time\n",
    "## You can also use UDF with select\n",
    "data_parquet.select(\"mean_temp\", squared_udf(\"mean_temp\").alias(\"squared_temp\")).show()"
   ]
  },
  {
   "cell_type": "markdown",
   "id": "b6e52bc0-c857-4075-9b6a-df1872558cde",
   "metadata": {},
   "source": [
    "# Spark SQL\n",
    "\n",
    "Finally, let's work with Spark SQL. Spark allows us to combine the power of SQL with Spark and the Dataframes API"
   ]
  },
  {
   "cell_type": "code",
   "execution_count": 128,
   "id": "e6bbfd14-e186-4355-b730-f4a9139ab667",
   "metadata": {},
   "outputs": [
    {
     "name": "stdout",
     "output_type": "stream",
     "text": [
      "+------------------+\n",
      "|         mean_temp|\n",
      "+------------------+\n",
      "| 65.80000305175781|\n",
      "| 39.70000076293945|\n",
      "|             -15.5|\n",
      "| 63.20000076293945|\n",
      "|21.200000762939453|\n",
      "|              81.0|\n",
      "|              46.5|\n",
      "|              58.5|\n",
      "|              28.0|\n",
      "|              45.0|\n",
      "| 46.79999923706055|\n",
      "| 68.80000305175781|\n",
      "|              52.0|\n",
      "|  74.5999984741211|\n",
      "| 59.20000076293945|\n",
      "| 55.20000076293945|\n",
      "|  71.9000015258789|\n",
      "| 77.30000305175781|\n",
      "|              62.0|\n",
      "| 81.69999694824219|\n",
      "+------------------+\n",
      "only showing top 20 rows\n",
      "\n",
      "CPU times: user 3.76 ms, sys: 0 ns, total: 3.76 ms\n",
      "Wall time: 427 ms\n"
     ]
    }
   ],
   "source": [
    "%%time\n",
    "## Let's run an example\n",
    "# First we need to create a temporary table that we can query\n",
    "data_parquet.registerTempTable('data')\n",
    "spark.sql(\n",
    "\"\"\"\n",
    "select mean_temp\n",
    "from data\n",
    "\"\"\").show()"
   ]
  },
  {
   "cell_type": "code",
   "execution_count": 129,
   "id": "7a052bbd-079f-4485-a5f8-500e90b63640",
   "metadata": {},
   "outputs": [
    {
     "name": "stdout",
     "output_type": "stream",
     "text": [
      "+------------------+\n",
      "|         mean_temp|\n",
      "+------------------+\n",
      "| 65.80000305175781|\n",
      "| 39.70000076293945|\n",
      "|             -15.5|\n",
      "| 63.20000076293945|\n",
      "|21.200000762939453|\n",
      "|              81.0|\n",
      "|              46.5|\n",
      "|              58.5|\n",
      "|              28.0|\n",
      "|              45.0|\n",
      "| 46.79999923706055|\n",
      "| 68.80000305175781|\n",
      "|              52.0|\n",
      "|  74.5999984741211|\n",
      "| 59.20000076293945|\n",
      "| 55.20000076293945|\n",
      "|  71.9000015258789|\n",
      "| 77.30000305175781|\n",
      "|              62.0|\n",
      "| 81.69999694824219|\n",
      "+------------------+\n",
      "only showing top 20 rows\n",
      "\n",
      "CPU times: user 3.18 ms, sys: 721 µs, total: 3.91 ms\n",
      "Wall time: 371 ms\n"
     ]
    }
   ],
   "source": [
    "%%time\n",
    "data_parquet.select(\"mean_temp\").show()"
   ]
  },
  {
   "cell_type": "code",
   "execution_count": 130,
   "id": "89e6fe85-2350-4851-be30-66969c1ec1c0",
   "metadata": {},
   "outputs": [
    {
     "name": "stdout",
     "output_type": "stream",
     "text": [
      "+------------------+------------------+\n",
      "|         mean_temp|      squared_temp|\n",
      "+------------------+------------------+\n",
      "| 65.80000305175781| 4329.640401611337|\n",
      "| 39.70000076293945|1576.0900605773932|\n",
      "|             -15.5|            240.25|\n",
      "| 63.20000076293945|3994.2400964355475|\n",
      "|21.200000762939453| 449.4400323486334|\n",
      "|              81.0|            6561.0|\n",
      "|              46.5|           2162.25|\n",
      "|              58.5|           3422.25|\n",
      "|              28.0|             784.0|\n",
      "|              45.0|            2025.0|\n",
      "| 46.79999923706055|2190.2399285888678|\n",
      "| 68.80000305175781| 4733.440419921884|\n",
      "|              52.0|            2704.0|\n",
      "|  74.5999984741211|5565.1597723388695|\n",
      "| 59.20000076293945| 3504.640090332032|\n",
      "| 55.20000076293945| 3047.040084228516|\n",
      "|  71.9000015258789| 5169.610219421389|\n",
      "| 77.30000305175781| 5975.290471801767|\n",
      "|              62.0|            3844.0|\n",
      "| 81.69999694824219| 6674.889501342783|\n",
      "+------------------+------------------+\n",
      "only showing top 20 rows\n",
      "\n"
     ]
    }
   ],
   "source": [
    "## Let's run multiple querys similar to the ones we ran before\n",
    "spark.sql(\n",
    "\"\"\"\n",
    "select mean_temp, power(mean_temp, 2) as squared_temp\n",
    "from data\n",
    "\"\"\").show()"
   ]
  },
  {
   "cell_type": "code",
   "execution_count": 132,
   "id": "e5fec10d-f3d9-434e-accc-80d75cfb5146",
   "metadata": {},
   "outputs": [
    {
     "name": "stderr",
     "output_type": "stream",
     "text": [
      "[Stage 237:====================================================>  (18 + 1) / 19]\r"
     ]
    },
    {
     "name": "stdout",
     "output_type": "stream",
     "text": [
      "+----+-----+------------------+------------------+\n",
      "|year|month|              mean|            st_dev|\n",
      "+----+-----+------------------+------------------+\n",
      "|1929|    8|60.552419416366085|3.1990462574283702|\n",
      "|1929|    9| 61.32605038170053|  4.03357642577158|\n",
      "|1929|   10| 50.62124188117732|  4.80196415792147|\n",
      "|1929|   11|47.099176249747615| 6.103062771817112|\n",
      "|1929|   12| 45.37819060909536| 6.024023504130773|\n",
      "|1930|    1|  44.1638498261501| 4.924192609845938|\n",
      "|1930|    2| 39.85389948800284| 5.424807085849542|\n",
      "|1930|    3|43.270230277588496|  6.20364872795214|\n",
      "|1930|    4| 46.59947278336188| 4.285578098496348|\n",
      "|1930|    5| 51.23745814294719| 5.852503116538371|\n",
      "|1930|    6|57.698947384482935| 4.381964851854147|\n",
      "|1930|    7| 58.29831368123098|3.4151141395515623|\n",
      "|1930|    8| 58.91847454006389| 4.035375986521117|\n",
      "|1930|    9| 57.15355978042948|  5.05659012503392|\n",
      "|1930|   10|51.519968809464046| 4.618773602848772|\n",
      "|1930|   11| 46.13617694547391| 6.240501759905245|\n",
      "|1930|   12|44.314175671899264| 6.180885798057129|\n",
      "|1931|    1|40.092450479469676| 7.572812511108157|\n",
      "|1931|    2|39.418145178466716| 7.659416160405766|\n",
      "|1931|    3| 40.05160875578184| 8.428746256340379|\n",
      "+----+-----+------------------+------------------+\n",
      "only showing top 20 rows\n",
      "\n",
      "CPU times: user 6.54 ms, sys: 5.96 ms, total: 12.5 ms\n",
      "Wall time: 8.94 s\n"
     ]
    },
    {
     "name": "stderr",
     "output_type": "stream",
     "text": [
      "                                                                                \r"
     ]
    }
   ],
   "source": [
    "%%time\n",
    "## Let's run multiple querys similar to the ones we ran before\n",
    "spark.sql(\n",
    "\"\"\"\n",
    "select \n",
    "    year, \n",
    "    month, \n",
    "    avg(mean_temp) as mean, \n",
    "    std(mean_temp) as st_dev\n",
    "from \n",
    "    data\n",
    "group by\n",
    "    year,\n",
    "    month\n",
    "order by\n",
    "    year,\n",
    "    month\n",
    "\"\"\").show()"
   ]
  },
  {
   "cell_type": "code",
   "execution_count": 133,
   "id": "cb10c938-47cc-4e03-a06e-b771a931e8ad",
   "metadata": {},
   "outputs": [
    {
     "name": "stderr",
     "output_type": "stream",
     "text": [
      "                                                                                \r"
     ]
    },
    {
     "data": {
      "text/html": [
       "<div>\n",
       "<style scoped>\n",
       "    .dataframe tbody tr th:only-of-type {\n",
       "        vertical-align: middle;\n",
       "    }\n",
       "\n",
       "    .dataframe tbody tr th {\n",
       "        vertical-align: top;\n",
       "    }\n",
       "\n",
       "    .dataframe thead th {\n",
       "        text-align: right;\n",
       "    }\n",
       "</style>\n",
       "<table border=\"1\" class=\"dataframe\">\n",
       "  <thead>\n",
       "    <tr style=\"text-align: right;\">\n",
       "      <th></th>\n",
       "      <th></th>\n",
       "      <th>mean</th>\n",
       "      <th>st_dev</th>\n",
       "    </tr>\n",
       "    <tr>\n",
       "      <th>year</th>\n",
       "      <th>month</th>\n",
       "      <th></th>\n",
       "      <th></th>\n",
       "    </tr>\n",
       "  </thead>\n",
       "  <tbody>\n",
       "    <tr>\n",
       "      <th rowspan=\"5\" valign=\"top\">1929</th>\n",
       "      <th>8</th>\n",
       "      <td>60.552419</td>\n",
       "      <td>3.199046</td>\n",
       "    </tr>\n",
       "    <tr>\n",
       "      <th>9</th>\n",
       "      <td>61.326050</td>\n",
       "      <td>4.033576</td>\n",
       "    </tr>\n",
       "    <tr>\n",
       "      <th>10</th>\n",
       "      <td>50.621242</td>\n",
       "      <td>4.801964</td>\n",
       "    </tr>\n",
       "    <tr>\n",
       "      <th>11</th>\n",
       "      <td>47.099176</td>\n",
       "      <td>6.103063</td>\n",
       "    </tr>\n",
       "    <tr>\n",
       "      <th>12</th>\n",
       "      <td>45.378191</td>\n",
       "      <td>6.024024</td>\n",
       "    </tr>\n",
       "    <tr>\n",
       "      <th>...</th>\n",
       "      <th>...</th>\n",
       "      <td>...</td>\n",
       "      <td>...</td>\n",
       "    </tr>\n",
       "    <tr>\n",
       "      <th>2009</th>\n",
       "      <th>12</th>\n",
       "      <td>39.834150</td>\n",
       "      <td>26.892829</td>\n",
       "    </tr>\n",
       "    <tr>\n",
       "      <th rowspan=\"4\" valign=\"top\">2010</th>\n",
       "      <th>1</th>\n",
       "      <td>37.385471</td>\n",
       "      <td>28.259400</td>\n",
       "    </tr>\n",
       "    <tr>\n",
       "      <th>2</th>\n",
       "      <td>39.672241</td>\n",
       "      <td>27.192215</td>\n",
       "    </tr>\n",
       "    <tr>\n",
       "      <th>3</th>\n",
       "      <td>46.851747</td>\n",
       "      <td>23.391840</td>\n",
       "    </tr>\n",
       "    <tr>\n",
       "      <th>4</th>\n",
       "      <td>53.084282</td>\n",
       "      <td>20.170773</td>\n",
       "    </tr>\n",
       "  </tbody>\n",
       "</table>\n",
       "<p>969 rows × 2 columns</p>\n",
       "</div>"
      ],
      "text/plain": [
       "                 mean     st_dev\n",
       "year month                      \n",
       "1929 8      60.552419   3.199046\n",
       "     9      61.326050   4.033576\n",
       "     10     50.621242   4.801964\n",
       "     11     47.099176   6.103063\n",
       "     12     45.378191   6.024024\n",
       "...               ...        ...\n",
       "2009 12     39.834150  26.892829\n",
       "2010 1      37.385471  28.259400\n",
       "     2      39.672241  27.192215\n",
       "     3      46.851747  23.391840\n",
       "     4      53.084282  20.170773\n",
       "\n",
       "[969 rows x 2 columns]"
      ]
     },
     "execution_count": 133,
     "metadata": {},
     "output_type": "execute_result"
    }
   ],
   "source": [
    "## We can save the Spark SQL query as a dataframe\n",
    "df_sql = spark.sql(\n",
    "\"\"\"\n",
    "select \n",
    "    year, \n",
    "    month, \n",
    "    avg(mean_temp) as mean, \n",
    "    std(mean_temp) as st_dev\n",
    "from \n",
    "    data\n",
    "group by\n",
    "    year,\n",
    "    month\n",
    "order by\n",
    "    year,\n",
    "    month\n",
    "\"\"\")\n",
    "\n",
    "df_sql_pd = df_sql.toPandas()\n",
    "df_sql_pd = df_sql_pd.set_index([\"year\", 'month'])\n",
    "df_sql_pd"
   ]
  },
  {
   "cell_type": "code",
   "execution_count": 135,
   "id": "e9514db4-da72-46df-9c79-55a7ffe0c07b",
   "metadata": {},
   "outputs": [
    {
     "name": "stderr",
     "output_type": "stream",
     "text": [
      "[Stage 253:====================================================>  (18 + 1) / 19]\r"
     ]
    },
    {
     "name": "stdout",
     "output_type": "stream",
     "text": [
      "CPU times: user 19.4 ms, sys: 3.3 ms, total: 22.7 ms\n",
      "Wall time: 16.5 s\n"
     ]
    },
    {
     "name": "stderr",
     "output_type": "stream",
     "text": [
      "                                                                                \r"
     ]
    },
    {
     "data": {
      "text/plain": [
       "4584888375"
      ]
     },
     "execution_count": 135,
     "metadata": {},
     "output_type": "execute_result"
    }
   ],
   "source": [
    "%%time\n",
    "## Let's also join dataframes\n",
    "stations = spark.read.format('bigquery') \\\n",
    "  .option('table', 'bigquery-public-data:noaa_gsod.stations') \\\n",
    "  .load()\n",
    "\n",
    "stations_us = stations.filter(F.col('Country')=='US')\n",
    "\n",
    "## One of the dataframes is quite small, so let's broadcast it!\n",
    "# join_data = data_parquet.join(F.broadcast(stations_us), stations_us.usaf==data_parquet.station_number, 'inner')\n",
    "join_data = data_parquet.join(stations_us, stations_us.usaf==data_parquet.station_number, 'inner')\n",
    "join_data.count()"
   ]
  },
  {
   "cell_type": "code",
   "execution_count": 84,
   "id": "60c39433-d136-480d-ab00-0ee8ea92c731",
   "metadata": {},
   "outputs": [
    {
     "name": "stdout",
     "output_type": "stream",
     "text": [
      "root\n",
      " |-- station_number: long (nullable = true)\n",
      " |-- wban_number: long (nullable = true)\n",
      " |-- year: long (nullable = true)\n",
      " |-- month: long (nullable = true)\n",
      " |-- day: long (nullable = true)\n",
      " |-- mean_temp: double (nullable = true)\n",
      " |-- num_mean_temp_samples: long (nullable = true)\n",
      " |-- mean_dew_point: double (nullable = true)\n",
      " |-- num_mean_dew_point_samples: long (nullable = true)\n",
      " |-- mean_sealevel_pressure: double (nullable = true)\n",
      " |-- num_mean_sealevel_pressure_samples: long (nullable = true)\n",
      " |-- mean_station_pressure: double (nullable = true)\n",
      " |-- num_mean_station_pressure_samples: long (nullable = true)\n",
      " |-- mean_visibility: double (nullable = true)\n",
      " |-- num_mean_visibility_samples: long (nullable = true)\n",
      " |-- mean_wind_speed: double (nullable = true)\n",
      " |-- num_mean_wind_speed_samples: long (nullable = true)\n",
      " |-- max_sustained_wind_speed: double (nullable = true)\n",
      " |-- max_gust_wind_speed: double (nullable = true)\n",
      " |-- max_temperature: double (nullable = true)\n",
      " |-- max_temperature_explicit: boolean (nullable = true)\n",
      " |-- min_temperature: double (nullable = true)\n",
      " |-- min_temperature_explicit: boolean (nullable = true)\n",
      " |-- total_precipitation: double (nullable = true)\n",
      " |-- snow_depth: double (nullable = true)\n",
      " |-- fog: boolean (nullable = true)\n",
      " |-- rain: boolean (nullable = true)\n",
      " |-- snow: boolean (nullable = true)\n",
      " |-- hail: boolean (nullable = true)\n",
      " |-- thunder: boolean (nullable = true)\n",
      " |-- tornado: boolean (nullable = true)\n",
      " |-- usaf: string (nullable = true)\n",
      " |-- wban: string (nullable = true)\n",
      " |-- name: string (nullable = true)\n",
      " |-- country: string (nullable = true)\n",
      " |-- state: string (nullable = true)\n",
      " |-- call: string (nullable = true)\n",
      " |-- lat: double (nullable = true)\n",
      " |-- lon: double (nullable = true)\n",
      " |-- elev: string (nullable = true)\n",
      " |-- begin: string (nullable = true)\n",
      " |-- end: string (nullable = true)\n",
      "\n"
     ]
    }
   ],
   "source": [
    "join_data.printSchema()"
   ]
  },
  {
   "cell_type": "code",
   "execution_count": 89,
   "id": "0d0d85f6-d98f-4dbe-a66a-28129e29346a",
   "metadata": {},
   "outputs": [
    {
     "name": "stderr",
     "output_type": "stream",
     "text": [
      "[Stage 162:====================================================>  (18 + 1) / 19]\r"
     ]
    },
    {
     "name": "stdout",
     "output_type": "stream",
     "text": [
      "+-----+-----------------+------------------+-------------------+\n",
      "|state|             mean|          avg(lat)|           avg(lon)|\n",
      "+-----+-----------------+------------------+-------------------+\n",
      "|   CA|53.74720653195868|35.892474221332854|-119.49590372037532|\n",
      "|   NY|53.66972249742794|42.229195093361426| -76.01350616490826|\n",
      "|   TX|53.81268076536834|30.791588006368688| -98.54278344659757|\n",
      "+-----+-----------------+------------------+-------------------+\n",
      "\n",
      "CPU times: user 16 ms, sys: 5.76 ms, total: 21.7 ms\n",
      "Wall time: 42.8 s\n"
     ]
    },
    {
     "name": "stderr",
     "output_type": "stream",
     "text": [
      "                                                                                \r"
     ]
    }
   ],
   "source": [
    "%%time\n",
    "## let's now use Spark SQL to query this data\n",
    "join_data.registerTempTable('data')\n",
    "spark.sql(\n",
    "\"\"\"\n",
    "select \n",
    "    state,\n",
    "    avg(mean_temp) as mean, \n",
    "    avg(lat),\n",
    "    avg(lon)\n",
    "from \n",
    "    data\n",
    "where\n",
    "    state in ('CA', 'TX', 'NY')\n",
    "group by\n",
    "    state\n",
    "order by\n",
    "    state\n",
    "\"\"\").show()"
   ]
  },
  {
   "cell_type": "code",
   "execution_count": null,
   "id": "112ec53a-1bf9-40b2-82f2-d9c2e14c62eb",
   "metadata": {},
   "outputs": [],
   "source": []
  }
 ],
 "metadata": {
  "kernelspec": {
   "display_name": "Python 3",
   "language": "python",
   "name": "python3"
  },
  "language_info": {
   "codemirror_mode": {
    "name": "ipython",
    "version": 3
   },
   "file_extension": ".py",
   "mimetype": "text/x-python",
   "name": "python",
   "nbconvert_exporter": "python",
   "pygments_lexer": "ipython3",
   "version": "3.8.13"
  }
 },
 "nbformat": 4,
 "nbformat_minor": 5
}
