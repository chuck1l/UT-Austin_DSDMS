{
 "cells": [
  {
   "cell_type": "markdown",
   "id": "0-yuGHzh_rQU",
   "metadata": {
    "id": "0-yuGHzh_rQU"
   },
   "source": [
    "-----\n",
    "# **Context**\n",
    "-----\n",
    "\n",
    "**WOW Superstore** sells different products like office supplies, furniture and appliances. For each order that is placed, the superstore keeps a record of various attributes related to the product, like state, city, category, subcategory and quantity."
   ]
  },
  {
   "cell_type": "markdown",
   "id": "fourth-nickname",
   "metadata": {
    "id": "fourth-nickname"
   },
   "source": [
    "**WOW Superstore has provided a snapshot of some of the product attributes stored by them.**"
   ]
  },
  {
   "cell_type": "markdown",
   "id": "declared-hungary",
   "metadata": {
    "id": "declared-hungary"
   },
   "source": [
    "| Order ID | Category | Sub-Category | Quantity | Unit Price |\n",
    "| --- | --- | --- | --- | --- | \n",
    "| WOWORD001 | Office Supplies | Binders | 3 | 10.20 |\n",
    "| WOWORD002 | Technology | Phones | 30 | 150.50 |\n",
    "| WOWORD003 | Office Supplies | Paper | 50 | 4.50 |\n",
    "| WOWORD004 | Furniture | Chairs | 5 | 30.75 |\n",
    "| WOWORD005 | Office Supplies | Binders | 2 | 10.20 |"
   ]
  },
  {
   "cell_type": "markdown",
   "id": "o502qIyk35-s",
   "metadata": {
    "id": "o502qIyk35-s"
   },
   "source": [
    "We know how to create a variable to store an order ID."
   ]
  },
  {
   "cell_type": "code",
   "execution_count": 1,
   "id": "ict6kReE3-3h",
   "metadata": {
    "colab": {
     "base_uri": "https://localhost:8080/"
    },
    "id": "ict6kReE3-3h",
    "outputId": "c1d2bc65-0020-49f3-e688-52904f4284dd"
   },
   "outputs": [
    {
     "name": "stdout",
     "output_type": "stream",
     "text": [
      "WOWORD001\n"
     ]
    }
   ],
   "source": [
    "id = \"WOWORD001\"\n",
    "print(id)"
   ]
  },
  {
   "cell_type": "markdown",
   "id": "5Tg_5k7bJFdl",
   "metadata": {
    "id": "5Tg_5k7bJFdl"
   },
   "source": [
    "**Let's create a variable that will store all the order IDs.**"
   ]
  },
  {
   "cell_type": "code",
   "execution_count": 2,
   "id": "38nA_0pcJKk0",
   "metadata": {
    "colab": {
     "base_uri": "https://localhost:8080/"
    },
    "id": "38nA_0pcJKk0",
    "outputId": "44d9cbea-b672-46b5-c3c5-1834e3d20bd5"
   },
   "outputs": [
    {
     "name": "stdout",
     "output_type": "stream",
     "text": [
      "Order IDs:  WOWORD005\n"
     ]
    }
   ],
   "source": [
    "order_id = \"WOWORD001\"\n",
    "order_id = \"WOWORD002\"\n",
    "order_id = \"WOWORD003\"\n",
    "order_id = \"WOWORD004\"\n",
    "order_id = \"WOWORD005\"\n",
    "\n",
    "print(\"Order IDs: \", order_id)"
   ]
  },
  {
   "cell_type": "markdown",
   "id": "QyZQAZAXJXkd",
   "metadata": {
    "id": "QyZQAZAXJXkd"
   },
   "source": [
    "* That didn't work! The value of the variable got updated at each step.\n",
    "* How do we store all the values in one variable?\n",
    "* We will have to create a 'list' of values."
   ]
  },
  {
   "cell_type": "code",
   "execution_count": 3,
   "id": "s6OcuW9oJrLH",
   "metadata": {
    "colab": {
     "base_uri": "https://localhost:8080/"
    },
    "id": "s6OcuW9oJrLH",
    "outputId": "87ceaf98-9efd-4686-f0ab-f4504824ddfd"
   },
   "outputs": [
    {
     "name": "stdout",
     "output_type": "stream",
     "text": [
      "Order IDs: ['WOWORD001', 'WOWORD002', 'WOWORD003', 'WOWORD004']\n"
     ]
    }
   ],
   "source": [
    "order_id_list = [\"WOWORD001\", \"WOWORD002\", \"WOWORD003\", \"WOWORD004\"]\n",
    "\n",
    "# let's print the list we just created\n",
    "print('Order IDs:', order_id_list)"
   ]
  },
  {
   "cell_type": "markdown",
   "id": "CypBPI2XJ9SZ",
   "metadata": {
    "id": "CypBPI2XJ9SZ"
   },
   "source": [
    "* That seems to have worked.\n",
    "* But we missed one order ID.\n",
    "* Will we have to recreate the list from scratch?\n",
    "* NO! We can add the missed order ID to the current list using the *append()* function."
   ]
  },
  {
   "cell_type": "code",
   "execution_count": 4,
   "id": "8A3B8I8tKMul",
   "metadata": {
    "colab": {
     "base_uri": "https://localhost:8080/"
    },
    "id": "8A3B8I8tKMul",
    "outputId": "c1200f27-3bc2-450a-e82d-2d08c240f663"
   },
   "outputs": [
    {
     "name": "stdout",
     "output_type": "stream",
     "text": [
      "Order IDs: ['WOWORD001', 'WOWORD002', 'WOWORD003', 'WOWORD004', 'WOWORD005']\n"
     ]
    }
   ],
   "source": [
    "order_id_list.append(\"WOWORD005\")\n",
    "print('Order IDs:', order_id_list)"
   ]
  },
  {
   "cell_type": "markdown",
   "id": "nmcBOZCjMIW3",
   "metadata": {
    "id": "nmcBOZCjMIW3"
   },
   "source": [
    "* The list of order IDs is fixed now.\n",
    "* Let's create lists for the other attributes too."
   ]
  },
  {
   "cell_type": "code",
   "execution_count": 5,
   "id": "Gc0GYfVYKl9v",
   "metadata": {
    "id": "Gc0GYfVYKl9v"
   },
   "outputs": [],
   "source": [
    "category_list = ['Office Supplies', 'Technology', 'Office Supplies', 'Furniture', 'Office Supplies']\n",
    "sub_category_list = ['Binders', 'Phones', 'Paper', 'Chairs', 'Binders']\n",
    "quantity_list =[3, 30, 50, 5, 2]\n",
    "unit_price_list = [10.20, 150.50, 4.50, 30.75, 10.20]"
   ]
  },
  {
   "cell_type": "code",
   "execution_count": 7,
   "id": "pizs1MJLKl7L",
   "metadata": {
    "colab": {
     "base_uri": "https://localhost:8080/",
     "height": 248
    },
    "id": "pizs1MJLKl7L",
    "outputId": "8cc3cab3-8150-4ceb-fdc6-e0ae24a70bd5"
   },
   "outputs": [
    {
     "name": "stdout",
     "output_type": "stream",
     "text": [
      "Category List: ['Office Supplies', 'Technology', 'Office Supplies', 'Furniture', 'Office Supplies']\n"
     ]
    },
    {
     "ename": "NameError",
     "evalue": "name 'subcategory_list' is not defined",
     "output_type": "error",
     "traceback": [
      "\u001b[0;31m---------------------------------------------------------------------------\u001b[0m",
      "\u001b[0;31mNameError\u001b[0m                                 Traceback (most recent call last)",
      "\u001b[0;32m/var/folders/pl/pyzly9ns0tsg1m113w9rhxvw0000gn/T/ipykernel_1609/3905533821.py\u001b[0m in \u001b[0;36m<module>\u001b[0;34m\u001b[0m\n\u001b[1;32m      1\u001b[0m \u001b[0;31m# let's print the lists we created\u001b[0m\u001b[0;34m\u001b[0m\u001b[0;34m\u001b[0m\u001b[0m\n\u001b[1;32m      2\u001b[0m \u001b[0mprint\u001b[0m\u001b[0;34m(\u001b[0m\u001b[0;34m'Category List:'\u001b[0m\u001b[0;34m,\u001b[0m\u001b[0mcategory_list\u001b[0m\u001b[0;34m)\u001b[0m\u001b[0;34m\u001b[0m\u001b[0;34m\u001b[0m\u001b[0m\n\u001b[0;32m----> 3\u001b[0;31m \u001b[0mprint\u001b[0m\u001b[0;34m(\u001b[0m\u001b[0;34m'Sub-Category List:'\u001b[0m\u001b[0;34m,\u001b[0m\u001b[0msubcategory_list\u001b[0m\u001b[0;34m)\u001b[0m\u001b[0;34m\u001b[0m\u001b[0;34m\u001b[0m\u001b[0m\n\u001b[0m\u001b[1;32m      4\u001b[0m \u001b[0mprint\u001b[0m\u001b[0;34m(\u001b[0m\u001b[0;34m'Quantity List:'\u001b[0m\u001b[0;34m,\u001b[0m\u001b[0mquantity_list\u001b[0m\u001b[0;34m)\u001b[0m\u001b[0;34m\u001b[0m\u001b[0;34m\u001b[0m\u001b[0m\n\u001b[1;32m      5\u001b[0m \u001b[0mPrint\u001b[0m\u001b[0;34m(\u001b[0m\u001b[0;34m'Unit Price List:'\u001b[0m\u001b[0;34m,\u001b[0m\u001b[0munit_price_list\u001b[0m\u001b[0;34m)\u001b[0m\u001b[0;34m\u001b[0m\u001b[0;34m\u001b[0m\u001b[0m\n",
      "\u001b[0;31mNameError\u001b[0m: name 'subcategory_list' is not defined"
     ]
    }
   ],
   "source": [
    "# let's print the lists we created\n",
    "print('Category List:',category_list)\n",
    "print('Sub-Category List:',subcategory_list)\n",
    "print('Quantity List:',quantity_list)\n",
    "Print('Unit Price List:',unit_price_list)"
   ]
  },
  {
   "cell_type": "markdown",
   "id": "BDScBoWoytPz",
   "metadata": {
    "id": "BDScBoWoytPz"
   },
   "source": [
    "* Something went wrong as we got an error.\n",
    "* The error is raised as we have misspelled the variable name.\n",
    "* Let's correct the error and run the code again."
   ]
  },
  {
   "cell_type": "code",
   "execution_count": 8,
   "id": "KoAzh2sLyvRE",
   "metadata": {
    "colab": {
     "base_uri": "https://localhost:8080/",
     "height": 248
    },
    "id": "KoAzh2sLyvRE",
    "outputId": "8eaebb84-c8cf-44be-9852-c06d1de32bc9"
   },
   "outputs": [
    {
     "name": "stdout",
     "output_type": "stream",
     "text": [
      "Category List: ['Office Supplies', 'Technology', 'Office Supplies', 'Furniture', 'Office Supplies']\n",
      "Sub-Category List: ['Binders', 'Phones', 'Paper', 'Chairs', 'Binders']\n",
      "Quantity List: [3, 30, 50, 5, 2]\n"
     ]
    },
    {
     "ename": "NameError",
     "evalue": "name 'Print' is not defined",
     "output_type": "error",
     "traceback": [
      "\u001b[0;31m---------------------------------------------------------------------------\u001b[0m",
      "\u001b[0;31mNameError\u001b[0m                                 Traceback (most recent call last)",
      "\u001b[0;32m/var/folders/pl/pyzly9ns0tsg1m113w9rhxvw0000gn/T/ipykernel_1609/3768392918.py\u001b[0m in \u001b[0;36m<module>\u001b[0;34m\u001b[0m\n\u001b[1;32m      3\u001b[0m \u001b[0mprint\u001b[0m\u001b[0;34m(\u001b[0m\u001b[0;34m'Sub-Category List:'\u001b[0m\u001b[0;34m,\u001b[0m\u001b[0msub_category_list\u001b[0m\u001b[0;34m)\u001b[0m\u001b[0;34m\u001b[0m\u001b[0;34m\u001b[0m\u001b[0m\n\u001b[1;32m      4\u001b[0m \u001b[0mprint\u001b[0m\u001b[0;34m(\u001b[0m\u001b[0;34m'Quantity List:'\u001b[0m\u001b[0;34m,\u001b[0m\u001b[0mquantity_list\u001b[0m\u001b[0;34m)\u001b[0m\u001b[0;34m\u001b[0m\u001b[0;34m\u001b[0m\u001b[0m\n\u001b[0;32m----> 5\u001b[0;31m \u001b[0mPrint\u001b[0m\u001b[0;34m(\u001b[0m\u001b[0;34m'Unit Price List:'\u001b[0m\u001b[0;34m,\u001b[0m\u001b[0munit_price_list\u001b[0m\u001b[0;34m)\u001b[0m\u001b[0;34m\u001b[0m\u001b[0;34m\u001b[0m\u001b[0m\n\u001b[0m",
      "\u001b[0;31mNameError\u001b[0m: name 'Print' is not defined"
     ]
    }
   ],
   "source": [
    "# let's print the lists we created\n",
    "print('Category List:',category_list)\n",
    "print('Sub-Category List:',sub_category_list)\n",
    "print('Quantity List:',quantity_list)\n",
    "Print('Unit Price List:',unit_price_list)"
   ]
  },
  {
   "cell_type": "markdown",
   "id": "y6wFaApuzHUh",
   "metadata": {
    "id": "y6wFaApuzHUh"
   },
   "source": [
    "* We have encountered an error again.\n",
    "* The error is raised as we have misspelled the function name.\n",
    "* Python is case-sensitive. So, print() and Print() are different functions.\n",
    "* Let's correct the code and run it again."
   ]
  },
  {
   "cell_type": "code",
   "execution_count": 9,
   "id": "8P91Ova6zHmf",
   "metadata": {
    "colab": {
     "base_uri": "https://localhost:8080/"
    },
    "id": "8P91Ova6zHmf",
    "outputId": "f2f323eb-a0bc-4c7f-b6fc-bab7c8321347"
   },
   "outputs": [
    {
     "name": "stdout",
     "output_type": "stream",
     "text": [
      "Category List: ['Office Supplies', 'Technology', 'Office Supplies', 'Furniture', 'Office Supplies']\n",
      "Sub-Category List: ['Binders', 'Phones', 'Paper', 'Chairs', 'Binders']\n",
      "Quantity List: [3, 30, 50, 5, 2]\n",
      "Unit Price List: [10.2, 150.5, 4.5, 30.75, 10.2]\n"
     ]
    }
   ],
   "source": [
    "# let's print the lists we created\n",
    "print('Category List:',category_list)\n",
    "print('Sub-Category List:',sub_category_list)\n",
    "print('Quantity List:',quantity_list)\n",
    "print('Unit Price List:',unit_price_list)"
   ]
  },
  {
   "cell_type": "markdown",
   "id": "pfd7xgrWqxmO",
   "metadata": {
    "id": "pfd7xgrWqxmO"
   },
   "source": [
    "**Let's see the number of records in the snapshot shared by WOW Superstore.**\n",
    "\n",
    "* We can directly count the number of records here as there are a few of them.\n",
    "* But what if we had more? Manual counting is not an efficient method here.\n",
    "* Python provides an in-built function, called *len()*, to ease the task of counting the number of records."
   ]
  },
  {
   "cell_type": "code",
   "execution_count": 10,
   "id": "8mZjjRZUqw1I",
   "metadata": {
    "colab": {
     "base_uri": "https://localhost:8080/"
    },
    "id": "8mZjjRZUqw1I",
    "outputId": "042bdd43-2a99-4154-d01b-1403c47fbbb2"
   },
   "outputs": [
    {
     "data": {
      "text/plain": [
       "5"
      ]
     },
     "execution_count": 10,
     "metadata": {},
     "output_type": "execute_result"
    }
   ],
   "source": [
    "len(order_id_list)"
   ]
  },
  {
   "cell_type": "markdown",
   "id": "xOf5Xf9dsKkG",
   "metadata": {
    "id": "xOf5Xf9dsKkG"
   },
   "source": [
    "* We have 5 records in the list."
   ]
  },
  {
   "cell_type": "markdown",
   "id": "-iLxlwXWsTOH",
   "metadata": {
    "id": "-iLxlwXWsTOH"
   },
   "source": [
    "**Let's find the minimum unit price among the products in the snapshot.**\n",
    "\n",
    "* The *min()* function will help us here."
   ]
  },
  {
   "cell_type": "code",
   "execution_count": 11,
   "id": "AEz5ea59qwsA",
   "metadata": {
    "colab": {
     "base_uri": "https://localhost:8080/"
    },
    "id": "AEz5ea59qwsA",
    "outputId": "b3115c3c-88a1-42b2-b33e-f73aea70eab5"
   },
   "outputs": [
    {
     "data": {
      "text/plain": [
       "4.5"
      ]
     },
     "execution_count": 11,
     "metadata": {},
     "output_type": "execute_result"
    }
   ],
   "source": [
    "min(unit_price_list)"
   ]
  },
  {
   "cell_type": "markdown",
   "id": "C-QvrRittWqO",
   "metadata": {
    "id": "C-QvrRittWqO"
   },
   "source": [
    "The minimum unit price among all the products in the snapshot is 4.5 dollars."
   ]
  },
  {
   "cell_type": "markdown",
   "id": "n8wYicjYtWe-",
   "metadata": {
    "id": "n8wYicjYtWe-"
   },
   "source": [
    "**Let's find the maximum quantity among the products in the snapshot.**\n",
    "\n",
    "* The *max()* function will help us here."
   ]
  },
  {
   "cell_type": "code",
   "execution_count": 12,
   "id": "58AaQwhmtXaN",
   "metadata": {
    "colab": {
     "base_uri": "https://localhost:8080/"
    },
    "id": "58AaQwhmtXaN",
    "outputId": "8e4cd07d-08cb-493a-accd-02536cc22bdd"
   },
   "outputs": [
    {
     "data": {
      "text/plain": [
       "50"
      ]
     },
     "execution_count": 12,
     "metadata": {},
     "output_type": "execute_result"
    }
   ],
   "source": [
    "max(quantity_list)"
   ]
  },
  {
   "cell_type": "markdown",
   "id": "ix5y4zdIt6GJ",
   "metadata": {
    "id": "ix5y4zdIt6GJ"
   },
   "source": [
    "The maximum quantity among all the products in the snapshot is 50 units."
   ]
  },
  {
   "cell_type": "markdown",
   "id": "7Y13hgKgnBu3",
   "metadata": {
    "id": "7Y13hgKgnBu3"
   },
   "source": [
    "# <font color='Blue'> Your turn to code! </font>"
   ]
  },
  {
   "cell_type": "code",
   "execution_count": 14,
   "id": "bBGRhhEBnCg8",
   "metadata": {
    "id": "bBGRhhEBnCg8"
   },
   "outputs": [
    {
     "data": {
      "text/plain": [
       "2"
      ]
     },
     "execution_count": 14,
     "metadata": {},
     "output_type": "execute_result"
    }
   ],
   "source": [
    "## find the minimum quantity among the products in the snapshot.\n",
    "min(quantity_list)"
   ]
  },
  {
   "cell_type": "markdown",
   "id": "H2_Sy34DuLPL",
   "metadata": {
    "id": "H2_Sy34DuLPL"
   },
   "source": [
    "**We want to display a message for the customer highlighting the category of the product they have ordered.**\n",
    "\n",
    "* We have to go through each product one by one and print a custom message depending upon the category.\n",
    "* This would require us to write 5 print() statements.\n",
    "* Instead, we can use looping statements to traverse the entire list in one go."
   ]
  },
  {
   "cell_type": "code",
   "execution_count": 15,
   "id": "dQO7l6GnuK6T",
   "metadata": {
    "colab": {
     "base_uri": "https://localhost:8080/"
    },
    "id": "dQO7l6GnuK6T",
    "outputId": "a1bfd75a-1764-4906-9135-7373af7278d2"
   },
   "outputs": [
    {
     "name": "stdout",
     "output_type": "stream",
     "text": [
      "You have ordered a product from category Office Supplies\n",
      "You have ordered a product from category Technology\n",
      "You have ordered a product from category Office Supplies\n",
      "You have ordered a product from category Furniture\n",
      "You have ordered a product from category Office Supplies\n"
     ]
    }
   ],
   "source": [
    "for item in category_list:\n",
    "  print('You have ordered a product from category', item)"
   ]
  },
  {
   "cell_type": "markdown",
   "id": "g3pNUo86wmlY",
   "metadata": {
    "id": "g3pNUo86wmlY"
   },
   "source": [
    "**The superstore is placing a shipping charge of 20% of the unit price of each product. We want to determine the unit price for each product including shipping charges.**\n",
    "\n",
    "* We will first create an empty list.\n",
    "* Then we will loop over all the values in the current list.\n",
    "* For each current value, we will compute the new value, and then add it to the empty list."
   ]
  },
  {
   "cell_type": "code",
   "execution_count": 16,
   "id": "pc2v6lcxuK32",
   "metadata": {
    "id": "pc2v6lcxuK32"
   },
   "outputs": [],
   "source": [
    "# creating an empty list to store the new unit prices\n",
    "new_unit_price_list = []\n",
    "\n",
    "# we will now use the existing unit price list to compute the values for the new unit price list\n",
    "for item in unit_price_list:\n",
    "  new_item = item + item*0.20\n",
    "\n",
    "  # adding the new value to the new list\n",
    "  new_unit_price_list.append(new_item)"
   ]
  },
  {
   "cell_type": "code",
   "execution_count": 17,
   "id": "OREYVuce5D4B",
   "metadata": {
    "colab": {
     "base_uri": "https://localhost:8080/"
    },
    "id": "OREYVuce5D4B",
    "outputId": "9346987f-7bdc-4d5c-f859-4f8c20e00c0f"
   },
   "outputs": [
    {
     "name": "stdout",
     "output_type": "stream",
     "text": [
      "[12.239999999999998, 180.6, 5.4, 36.9, 12.239999999999998]\n"
     ]
    }
   ],
   "source": [
    "# printing the new list\n",
    "print(new_unit_price_list)"
   ]
  },
  {
   "cell_type": "markdown",
   "id": "aqNGeiKingaC",
   "metadata": {
    "id": "aqNGeiKingaC"
   },
   "source": [
    "# <font color='Blue'> Your turn to code! </font>"
   ]
  },
  {
   "cell_type": "code",
   "execution_count": 20,
   "id": "cT6-jFwLnbu0",
   "metadata": {
    "id": "cT6-jFwLnbu0"
   },
   "outputs": [
    {
     "name": "stdout",
     "output_type": "stream",
     "text": [
      "You have ordered a product from category Office Supplies \n",
      " With sub-category of:  Binders\n",
      "You have ordered a product from category Technology \n",
      " With sub-category of:  Phones\n",
      "You have ordered a product from category Office Supplies \n",
      " With sub-category of:  Paper\n",
      "You have ordered a product from category Furniture \n",
      " With sub-category of:  Chairs\n",
      "You have ordered a product from category Office Supplies \n",
      " With sub-category of:  Binders\n"
     ]
    }
   ],
   "source": [
    "## display a message for the customer highlighting the subcategory of the product they have ordered\n",
    "for i in range(len(category_list)):\n",
    "  print('You have ordered a product from category', category_list[i], \n",
    "        '\\n', 'With sub-category of: ', sub_category_list[i])"
   ]
  },
  {
   "cell_type": "markdown",
   "id": "YlW8GsTrzDWF",
   "metadata": {
    "id": "YlW8GsTrzDWF"
   },
   "source": [
    "### pandas dataframe"
   ]
  },
  {
   "cell_type": "markdown",
   "id": "ITpWshg3NVjX",
   "metadata": {
    "id": "ITpWshg3NVjX"
   },
   "source": [
    "* If we want to analyze this data, we will have to work with multiple lists. \n",
    "* It will not be feasible to apply different operations on multiple lists, especially if the number of attributes increases.\n",
    "* Also, we are able to work on and view only one dimension of the data in the snapshot.\n",
    "* So, it is clear we need a more efficient way of handling the data simultaneously at the attribute and record levels.\n",
    "* In Python, we can do this with pandas dataframe. "
   ]
  },
  {
   "cell_type": "markdown",
   "id": "FaJIjMkzphYi",
   "metadata": {
    "id": "FaJIjMkzphYi"
   },
   "source": [
    "* pandas is a powerful, easy-to-use, open-source Python library used for data analysis and manipulation.\n",
    "* It is very useful when working with tabular data.\n",
    "* Python has many other libraries which are useful for different tasks.\n",
    "* We can import these libraries into a Jupyter notebook to access and use the functionalities of these libraries."
   ]
  },
  {
   "cell_type": "markdown",
   "id": "fWYe8PT_phOa",
   "metadata": {
    "id": "fWYe8PT_phOa"
   },
   "source": [
    "**Let's combine the lists we created into a dataframe. To do that, we have to first import the pandas library.**"
   ]
  },
  {
   "cell_type": "code",
   "execution_count": 21,
   "id": "7wYrf4AwMbAo",
   "metadata": {
    "id": "7wYrf4AwMbAo"
   },
   "outputs": [],
   "source": [
    "# importing the pandas library\n",
    "import pandas as pd"
   ]
  },
  {
   "cell_type": "markdown",
   "id": "TcsEn-_mq5vl",
   "metadata": {
    "id": "TcsEn-_mq5vl"
   },
   "source": [
    "* Let's first create an empty dataframe."
   ]
  },
  {
   "cell_type": "code",
   "execution_count": 22,
   "id": "U35wXqzkMa3E",
   "metadata": {
    "id": "U35wXqzkMa3E"
   },
   "outputs": [],
   "source": [
    "superstore_data = pd.DataFrame()"
   ]
  },
  {
   "cell_type": "markdown",
   "id": "nN5MMnJFQkJp",
   "metadata": {
    "id": "nN5MMnJFQkJp"
   },
   "source": [
    "* Next, we will add one column to the empty dataframe."
   ]
  },
  {
   "cell_type": "code",
   "execution_count": 23,
   "id": "DQKMAbW8MatZ",
   "metadata": {
    "id": "DQKMAbW8MatZ"
   },
   "outputs": [],
   "source": [
    "superstore_data['OrderId'] = order_id_list"
   ]
  },
  {
   "cell_type": "code",
   "execution_count": 24,
   "id": "PyVIQEo_rIYf",
   "metadata": {
    "colab": {
     "base_uri": "https://localhost:8080/",
     "height": 204
    },
    "id": "PyVIQEo_rIYf",
    "outputId": "5cd5bbe8-5478-4d90-adb3-5559ea778f83"
   },
   "outputs": [
    {
     "data": {
      "text/html": [
       "<div>\n",
       "<style scoped>\n",
       "    .dataframe tbody tr th:only-of-type {\n",
       "        vertical-align: middle;\n",
       "    }\n",
       "\n",
       "    .dataframe tbody tr th {\n",
       "        vertical-align: top;\n",
       "    }\n",
       "\n",
       "    .dataframe thead th {\n",
       "        text-align: right;\n",
       "    }\n",
       "</style>\n",
       "<table border=\"1\" class=\"dataframe\">\n",
       "  <thead>\n",
       "    <tr style=\"text-align: right;\">\n",
       "      <th></th>\n",
       "      <th>OrderId</th>\n",
       "    </tr>\n",
       "  </thead>\n",
       "  <tbody>\n",
       "    <tr>\n",
       "      <th>0</th>\n",
       "      <td>WOWORD001</td>\n",
       "    </tr>\n",
       "    <tr>\n",
       "      <th>1</th>\n",
       "      <td>WOWORD002</td>\n",
       "    </tr>\n",
       "    <tr>\n",
       "      <th>2</th>\n",
       "      <td>WOWORD003</td>\n",
       "    </tr>\n",
       "    <tr>\n",
       "      <th>3</th>\n",
       "      <td>WOWORD004</td>\n",
       "    </tr>\n",
       "    <tr>\n",
       "      <th>4</th>\n",
       "      <td>WOWORD005</td>\n",
       "    </tr>\n",
       "  </tbody>\n",
       "</table>\n",
       "</div>"
      ],
      "text/plain": [
       "     OrderId\n",
       "0  WOWORD001\n",
       "1  WOWORD002\n",
       "2  WOWORD003\n",
       "3  WOWORD004\n",
       "4  WOWORD005"
      ]
     },
     "execution_count": 24,
     "metadata": {},
     "output_type": "execute_result"
    }
   ],
   "source": [
    "# displaying the dataframe\n",
    "superstore_data "
   ]
  },
  {
   "cell_type": "markdown",
   "id": "azKv_KDTP4sl",
   "metadata": {
    "id": "azKv_KDTP4sl"
   },
   "source": [
    " * Now, let's add the other columns."
   ]
  },
  {
   "cell_type": "code",
   "execution_count": 25,
   "id": "YOK4-DfQMaid",
   "metadata": {
    "id": "YOK4-DfQMaid"
   },
   "outputs": [],
   "source": [
    "superstore_data['Category'] = category_list\n",
    "superstore_data['Sub_Category'] = sub_category_list\n",
    "superstore_data['Quantity'] = quantity_list\n",
    "superstore_data['Unit Price'] = unit_price_list\n",
    "superstore_data['New Unit Price'] = new_unit_price_list"
   ]
  },
  {
   "cell_type": "code",
   "execution_count": 26,
   "id": "IS2PM8_MrSjb",
   "metadata": {
    "colab": {
     "base_uri": "https://localhost:8080/",
     "height": 204
    },
    "id": "IS2PM8_MrSjb",
    "outputId": "8783c8f9-a9b0-4446-be0a-c852157f5d12"
   },
   "outputs": [
    {
     "data": {
      "text/html": [
       "<div>\n",
       "<style scoped>\n",
       "    .dataframe tbody tr th:only-of-type {\n",
       "        vertical-align: middle;\n",
       "    }\n",
       "\n",
       "    .dataframe tbody tr th {\n",
       "        vertical-align: top;\n",
       "    }\n",
       "\n",
       "    .dataframe thead th {\n",
       "        text-align: right;\n",
       "    }\n",
       "</style>\n",
       "<table border=\"1\" class=\"dataframe\">\n",
       "  <thead>\n",
       "    <tr style=\"text-align: right;\">\n",
       "      <th></th>\n",
       "      <th>OrderId</th>\n",
       "      <th>Category</th>\n",
       "      <th>Sub_Category</th>\n",
       "      <th>Quantity</th>\n",
       "      <th>Unit Price</th>\n",
       "      <th>New Unit Price</th>\n",
       "    </tr>\n",
       "  </thead>\n",
       "  <tbody>\n",
       "    <tr>\n",
       "      <th>0</th>\n",
       "      <td>WOWORD001</td>\n",
       "      <td>Office Supplies</td>\n",
       "      <td>Binders</td>\n",
       "      <td>3</td>\n",
       "      <td>10.20</td>\n",
       "      <td>12.24</td>\n",
       "    </tr>\n",
       "    <tr>\n",
       "      <th>1</th>\n",
       "      <td>WOWORD002</td>\n",
       "      <td>Technology</td>\n",
       "      <td>Phones</td>\n",
       "      <td>30</td>\n",
       "      <td>150.50</td>\n",
       "      <td>180.60</td>\n",
       "    </tr>\n",
       "    <tr>\n",
       "      <th>2</th>\n",
       "      <td>WOWORD003</td>\n",
       "      <td>Office Supplies</td>\n",
       "      <td>Paper</td>\n",
       "      <td>50</td>\n",
       "      <td>4.50</td>\n",
       "      <td>5.40</td>\n",
       "    </tr>\n",
       "    <tr>\n",
       "      <th>3</th>\n",
       "      <td>WOWORD004</td>\n",
       "      <td>Furniture</td>\n",
       "      <td>Chairs</td>\n",
       "      <td>5</td>\n",
       "      <td>30.75</td>\n",
       "      <td>36.90</td>\n",
       "    </tr>\n",
       "    <tr>\n",
       "      <th>4</th>\n",
       "      <td>WOWORD005</td>\n",
       "      <td>Office Supplies</td>\n",
       "      <td>Binders</td>\n",
       "      <td>2</td>\n",
       "      <td>10.20</td>\n",
       "      <td>12.24</td>\n",
       "    </tr>\n",
       "  </tbody>\n",
       "</table>\n",
       "</div>"
      ],
      "text/plain": [
       "     OrderId         Category Sub_Category  Quantity  Unit Price  \\\n",
       "0  WOWORD001  Office Supplies      Binders         3       10.20   \n",
       "1  WOWORD002       Technology       Phones        30      150.50   \n",
       "2  WOWORD003  Office Supplies        Paper        50        4.50   \n",
       "3  WOWORD004        Furniture       Chairs         5       30.75   \n",
       "4  WOWORD005  Office Supplies      Binders         2       10.20   \n",
       "\n",
       "   New Unit Price  \n",
       "0           12.24  \n",
       "1          180.60  \n",
       "2            5.40  \n",
       "3           36.90  \n",
       "4           12.24  "
      ]
     },
     "execution_count": 26,
     "metadata": {},
     "output_type": "execute_result"
    }
   ],
   "source": [
    "# displaying the dataframe\n",
    "superstore_data "
   ]
  },
  {
   "cell_type": "markdown",
   "id": "x96b3LEnQyYx",
   "metadata": {
    "id": "x96b3LEnQyYx"
   },
   "source": [
    "**Let's create another column 'Total_Amount' in the dataframe that will contain the product of quantity and new unit price.**"
   ]
  },
  {
   "cell_type": "code",
   "execution_count": 27,
   "id": "M3oCUYOTQxfB",
   "metadata": {
    "colab": {
     "base_uri": "https://localhost:8080/",
     "height": 204
    },
    "id": "M3oCUYOTQxfB",
    "outputId": "07953e5d-6ec1-4a8f-8e03-3594b9315037"
   },
   "outputs": [
    {
     "data": {
      "text/html": [
       "<div>\n",
       "<style scoped>\n",
       "    .dataframe tbody tr th:only-of-type {\n",
       "        vertical-align: middle;\n",
       "    }\n",
       "\n",
       "    .dataframe tbody tr th {\n",
       "        vertical-align: top;\n",
       "    }\n",
       "\n",
       "    .dataframe thead th {\n",
       "        text-align: right;\n",
       "    }\n",
       "</style>\n",
       "<table border=\"1\" class=\"dataframe\">\n",
       "  <thead>\n",
       "    <tr style=\"text-align: right;\">\n",
       "      <th></th>\n",
       "      <th>OrderId</th>\n",
       "      <th>Category</th>\n",
       "      <th>Sub_Category</th>\n",
       "      <th>Quantity</th>\n",
       "      <th>Unit Price</th>\n",
       "      <th>New Unit Price</th>\n",
       "      <th>Total_Amount</th>\n",
       "    </tr>\n",
       "  </thead>\n",
       "  <tbody>\n",
       "    <tr>\n",
       "      <th>0</th>\n",
       "      <td>WOWORD001</td>\n",
       "      <td>Office Supplies</td>\n",
       "      <td>Binders</td>\n",
       "      <td>3</td>\n",
       "      <td>10.20</td>\n",
       "      <td>12.24</td>\n",
       "      <td>36.72</td>\n",
       "    </tr>\n",
       "    <tr>\n",
       "      <th>1</th>\n",
       "      <td>WOWORD002</td>\n",
       "      <td>Technology</td>\n",
       "      <td>Phones</td>\n",
       "      <td>30</td>\n",
       "      <td>150.50</td>\n",
       "      <td>180.60</td>\n",
       "      <td>5418.00</td>\n",
       "    </tr>\n",
       "    <tr>\n",
       "      <th>2</th>\n",
       "      <td>WOWORD003</td>\n",
       "      <td>Office Supplies</td>\n",
       "      <td>Paper</td>\n",
       "      <td>50</td>\n",
       "      <td>4.50</td>\n",
       "      <td>5.40</td>\n",
       "      <td>270.00</td>\n",
       "    </tr>\n",
       "    <tr>\n",
       "      <th>3</th>\n",
       "      <td>WOWORD004</td>\n",
       "      <td>Furniture</td>\n",
       "      <td>Chairs</td>\n",
       "      <td>5</td>\n",
       "      <td>30.75</td>\n",
       "      <td>36.90</td>\n",
       "      <td>184.50</td>\n",
       "    </tr>\n",
       "    <tr>\n",
       "      <th>4</th>\n",
       "      <td>WOWORD005</td>\n",
       "      <td>Office Supplies</td>\n",
       "      <td>Binders</td>\n",
       "      <td>2</td>\n",
       "      <td>10.20</td>\n",
       "      <td>12.24</td>\n",
       "      <td>24.48</td>\n",
       "    </tr>\n",
       "  </tbody>\n",
       "</table>\n",
       "</div>"
      ],
      "text/plain": [
       "     OrderId         Category Sub_Category  Quantity  Unit Price  \\\n",
       "0  WOWORD001  Office Supplies      Binders         3       10.20   \n",
       "1  WOWORD002       Technology       Phones        30      150.50   \n",
       "2  WOWORD003  Office Supplies        Paper        50        4.50   \n",
       "3  WOWORD004        Furniture       Chairs         5       30.75   \n",
       "4  WOWORD005  Office Supplies      Binders         2       10.20   \n",
       "\n",
       "   New Unit Price  Total_Amount  \n",
       "0           12.24         36.72  \n",
       "1          180.60       5418.00  \n",
       "2            5.40        270.00  \n",
       "3           36.90        184.50  \n",
       "4           12.24         24.48  "
      ]
     },
     "execution_count": 27,
     "metadata": {},
     "output_type": "execute_result"
    }
   ],
   "source": [
    "superstore_data['Total_Amount'] = superstore_data['Quantity'] * superstore_data['New Unit Price']\n",
    "superstore_data"
   ]
  },
  {
   "cell_type": "markdown",
   "id": "wiFYrrXVRNrD",
   "metadata": {
    "id": "wiFYrrXVRNrD"
   },
   "source": [
    "* We have created the Total_Amount column successfully."
   ]
  },
  {
   "cell_type": "markdown",
   "id": "expressed-pierce",
   "metadata": {
    "id": "expressed-pierce"
   },
   "source": [
    "**The superstore is currently not shipping office supplies due to COVID restrictions.**\n",
    "\n",
    "**We have to print an appropriate message for the customer depending upon the category of the product ordered.**"
   ]
  },
  {
   "cell_type": "code",
   "execution_count": 28,
   "id": "wlZ6fhs4zW2_",
   "metadata": {
    "colab": {
     "base_uri": "https://localhost:8080/"
    },
    "id": "wlZ6fhs4zW2_",
    "outputId": "f98758c6-68fb-4baa-9741-fa2a253dff71"
   },
   "outputs": [
    {
     "name": "stdout",
     "output_type": "stream",
     "text": [
      "Product Ordered: Office Supplies\n",
      "Sorry! The product is currently not being shipped.\n",
      "\n",
      "Product Ordered: Technology\n",
      "Your order will be shipped at the earliest.\n",
      "\n",
      "Product Ordered: Office Supplies\n",
      "Sorry! The product is currently not being shipped.\n",
      "\n",
      "Product Ordered: Furniture\n",
      "Your order will be shipped at the earliest.\n",
      "\n",
      "Product Ordered: Office Supplies\n",
      "Sorry! The product is currently not being shipped.\n",
      "\n"
     ]
    }
   ],
   "source": [
    "for i in superstore_data['Category']:\n",
    "  print('Product Ordered:', i)\n",
    "  if i == 'Office Supplies':\n",
    "    print('Sorry! The product is currently not being shipped.\\n')\n",
    "  else:\n",
    "    print('Your order will be shipped at the earliest.\\n')"
   ]
  },
  {
   "cell_type": "markdown",
   "id": "eleven-hotel",
   "metadata": {
    "id": "eleven-hotel"
   },
   "source": [
    "* What we saw above was just a snapshot of data.\n",
    "* The complete data has a lot more columns and observations.\n",
    "* It is clear that it will not be feasible to analyze the complete data by creating a dataframe from multiple lists."
   ]
  },
  {
   "cell_type": "markdown",
   "id": "ADS2BMcgsdxR",
   "metadata": {
    "id": "ADS2BMcgsdxR"
   },
   "source": [
    "* We generally have tabular data stored as CSV or Excel files.\n",
    "* They can be loaded directly into a pandas dataframe.\n",
    "* The WOW Superstore data is available in a CSV format.\n",
    "* We can load the data into a pandas dataframe using the *read_csv()* function."
   ]
  },
  {
   "cell_type": "code",
   "execution_count": 29,
   "id": "consistent-sugar",
   "metadata": {
    "id": "consistent-sugar"
   },
   "outputs": [],
   "source": [
    "# loading the data file into a pandas dataframe\n",
    "data = pd.read_csv('WOW Superstore.csv')"
   ]
  },
  {
   "cell_type": "markdown",
   "id": "authorized-fifth",
   "metadata": {
    "id": "authorized-fifth"
   },
   "source": [
    "**Let's take a quick look at the data.**"
   ]
  },
  {
   "cell_type": "code",
   "execution_count": 31,
   "id": "prostate-browse",
   "metadata": {
    "id": "prostate-browse",
    "outputId": "767269b2-2d10-4424-87b2-12d3ec57981f"
   },
   "outputs": [
    {
     "data": {
      "text/html": [
       "<div>\n",
       "<style scoped>\n",
       "    .dataframe tbody tr th:only-of-type {\n",
       "        vertical-align: middle;\n",
       "    }\n",
       "\n",
       "    .dataframe tbody tr th {\n",
       "        vertical-align: top;\n",
       "    }\n",
       "\n",
       "    .dataframe thead th {\n",
       "        text-align: right;\n",
       "    }\n",
       "</style>\n",
       "<table border=\"1\" class=\"dataframe\">\n",
       "  <thead>\n",
       "    <tr style=\"text-align: right;\">\n",
       "      <th></th>\n",
       "      <th>Order ID</th>\n",
       "      <th>Ship Mode</th>\n",
       "      <th>Segment</th>\n",
       "      <th>City</th>\n",
       "      <th>State</th>\n",
       "      <th>Region</th>\n",
       "      <th>Category</th>\n",
       "      <th>Sub-Category</th>\n",
       "      <th>Sales</th>\n",
       "      <th>Quantity</th>\n",
       "      <th>Discount</th>\n",
       "      <th>Profit</th>\n",
       "    </tr>\n",
       "  </thead>\n",
       "  <tbody>\n",
       "    <tr>\n",
       "      <th>0</th>\n",
       "      <td>WOWID0001</td>\n",
       "      <td>Standard Class</td>\n",
       "      <td>Consumer</td>\n",
       "      <td>Seattle</td>\n",
       "      <td>Washington</td>\n",
       "      <td>West</td>\n",
       "      <td>Office Supplies</td>\n",
       "      <td>Binders</td>\n",
       "      <td>407.976</td>\n",
       "      <td>3</td>\n",
       "      <td>0.2</td>\n",
       "      <td>132.5922</td>\n",
       "    </tr>\n",
       "    <tr>\n",
       "      <th>1</th>\n",
       "      <td>WOWID0002</td>\n",
       "      <td>Standard Class</td>\n",
       "      <td>Home Office</td>\n",
       "      <td>Fort Worth</td>\n",
       "      <td>Texas</td>\n",
       "      <td>Central</td>\n",
       "      <td>Office Supplies</td>\n",
       "      <td>Appliances</td>\n",
       "      <td>68.810</td>\n",
       "      <td>5</td>\n",
       "      <td>0.8</td>\n",
       "      <td>-123.8580</td>\n",
       "    </tr>\n",
       "    <tr>\n",
       "      <th>2</th>\n",
       "      <td>WOWID0003</td>\n",
       "      <td>Standard Class</td>\n",
       "      <td>Home Office</td>\n",
       "      <td>Fort Worth</td>\n",
       "      <td>Texas</td>\n",
       "      <td>Central</td>\n",
       "      <td>Office Supplies</td>\n",
       "      <td>Binders</td>\n",
       "      <td>2.544</td>\n",
       "      <td>3</td>\n",
       "      <td>0.8</td>\n",
       "      <td>-3.8160</td>\n",
       "    </tr>\n",
       "    <tr>\n",
       "      <th>3</th>\n",
       "      <td>WOWID0004</td>\n",
       "      <td>Standard Class</td>\n",
       "      <td>Consumer</td>\n",
       "      <td>Philadelphia</td>\n",
       "      <td>Pennsylvania</td>\n",
       "      <td>East</td>\n",
       "      <td>Furniture</td>\n",
       "      <td>Bookcases</td>\n",
       "      <td>3083.430</td>\n",
       "      <td>7</td>\n",
       "      <td>0.5</td>\n",
       "      <td>-1665.0522</td>\n",
       "    </tr>\n",
       "    <tr>\n",
       "      <th>4</th>\n",
       "      <td>WOWID0005</td>\n",
       "      <td>Standard Class</td>\n",
       "      <td>Consumer</td>\n",
       "      <td>Philadelphia</td>\n",
       "      <td>Pennsylvania</td>\n",
       "      <td>East</td>\n",
       "      <td>Office Supplies</td>\n",
       "      <td>Binders</td>\n",
       "      <td>9.618</td>\n",
       "      <td>2</td>\n",
       "      <td>0.7</td>\n",
       "      <td>-7.0532</td>\n",
       "    </tr>\n",
       "  </tbody>\n",
       "</table>\n",
       "</div>"
      ],
      "text/plain": [
       "    Order ID       Ship Mode      Segment          City         State  \\\n",
       "0  WOWID0001  Standard Class     Consumer       Seattle    Washington   \n",
       "1  WOWID0002  Standard Class  Home Office    Fort Worth         Texas   \n",
       "2  WOWID0003  Standard Class  Home Office    Fort Worth         Texas   \n",
       "3  WOWID0004  Standard Class     Consumer  Philadelphia  Pennsylvania   \n",
       "4  WOWID0005  Standard Class     Consumer  Philadelphia  Pennsylvania   \n",
       "\n",
       "    Region         Category Sub-Category     Sales  Quantity  Discount  \\\n",
       "0     West  Office Supplies      Binders   407.976         3       0.2   \n",
       "1  Central  Office Supplies   Appliances    68.810         5       0.8   \n",
       "2  Central  Office Supplies      Binders     2.544         3       0.8   \n",
       "3     East        Furniture    Bookcases  3083.430         7       0.5   \n",
       "4     East  Office Supplies      Binders     9.618         2       0.7   \n",
       "\n",
       "      Profit  \n",
       "0   132.5922  \n",
       "1  -123.8580  \n",
       "2    -3.8160  \n",
       "3 -1665.0522  \n",
       "4    -7.0532  "
      ]
     },
     "execution_count": 31,
     "metadata": {},
     "output_type": "execute_result"
    }
   ],
   "source": [
    "# viewing the first 5 rows of the data\n",
    "data.head()"
   ]
  },
  {
   "cell_type": "code",
   "execution_count": 32,
   "id": "beautiful-austin",
   "metadata": {
    "id": "beautiful-austin",
    "outputId": "fe56d622-1022-413c-c61c-f2aeb84a188c"
   },
   "outputs": [
    {
     "data": {
      "text/html": [
       "<div>\n",
       "<style scoped>\n",
       "    .dataframe tbody tr th:only-of-type {\n",
       "        vertical-align: middle;\n",
       "    }\n",
       "\n",
       "    .dataframe tbody tr th {\n",
       "        vertical-align: top;\n",
       "    }\n",
       "\n",
       "    .dataframe thead th {\n",
       "        text-align: right;\n",
       "    }\n",
       "</style>\n",
       "<table border=\"1\" class=\"dataframe\">\n",
       "  <thead>\n",
       "    <tr style=\"text-align: right;\">\n",
       "      <th></th>\n",
       "      <th>Order ID</th>\n",
       "      <th>Ship Mode</th>\n",
       "      <th>Segment</th>\n",
       "      <th>City</th>\n",
       "      <th>State</th>\n",
       "      <th>Region</th>\n",
       "      <th>Category</th>\n",
       "      <th>Sub-Category</th>\n",
       "      <th>Sales</th>\n",
       "      <th>Quantity</th>\n",
       "      <th>Discount</th>\n",
       "      <th>Profit</th>\n",
       "    </tr>\n",
       "  </thead>\n",
       "  <tbody>\n",
       "    <tr>\n",
       "      <th>1945</th>\n",
       "      <td>WOWID1946</td>\n",
       "      <td>Standard Class</td>\n",
       "      <td>Corporate</td>\n",
       "      <td>Philadelphia</td>\n",
       "      <td>Pennsylvania</td>\n",
       "      <td>East</td>\n",
       "      <td>Office Supplies</td>\n",
       "      <td>Paper</td>\n",
       "      <td>3.4240</td>\n",
       "      <td>1</td>\n",
       "      <td>0.20</td>\n",
       "      <td>1.0700</td>\n",
       "    </tr>\n",
       "    <tr>\n",
       "      <th>1946</th>\n",
       "      <td>WOWID1947</td>\n",
       "      <td>Standard Class</td>\n",
       "      <td>Corporate</td>\n",
       "      <td>Philadelphia</td>\n",
       "      <td>Pennsylvania</td>\n",
       "      <td>East</td>\n",
       "      <td>Technology</td>\n",
       "      <td>Accessories</td>\n",
       "      <td>151.2000</td>\n",
       "      <td>3</td>\n",
       "      <td>0.20</td>\n",
       "      <td>32.1300</td>\n",
       "    </tr>\n",
       "    <tr>\n",
       "      <th>1947</th>\n",
       "      <td>WOWID1948</td>\n",
       "      <td>First Class</td>\n",
       "      <td>Home Office</td>\n",
       "      <td>Houston</td>\n",
       "      <td>Texas</td>\n",
       "      <td>Central</td>\n",
       "      <td>Office Supplies</td>\n",
       "      <td>Paper</td>\n",
       "      <td>65.5840</td>\n",
       "      <td>2</td>\n",
       "      <td>0.20</td>\n",
       "      <td>23.7742</td>\n",
       "    </tr>\n",
       "    <tr>\n",
       "      <th>1948</th>\n",
       "      <td>WOWID1949</td>\n",
       "      <td>First Class</td>\n",
       "      <td>Home Office</td>\n",
       "      <td>Houston</td>\n",
       "      <td>Texas</td>\n",
       "      <td>Central</td>\n",
       "      <td>Furniture</td>\n",
       "      <td>Bookcases</td>\n",
       "      <td>383.4656</td>\n",
       "      <td>4</td>\n",
       "      <td>0.32</td>\n",
       "      <td>-67.6704</td>\n",
       "    </tr>\n",
       "    <tr>\n",
       "      <th>1949</th>\n",
       "      <td>WOWID1950</td>\n",
       "      <td>Standard Class</td>\n",
       "      <td>Consumer</td>\n",
       "      <td>Houston</td>\n",
       "      <td>Texas</td>\n",
       "      <td>Central</td>\n",
       "      <td>Office Supplies</td>\n",
       "      <td>Envelopes</td>\n",
       "      <td>99.5680</td>\n",
       "      <td>2</td>\n",
       "      <td>0.20</td>\n",
       "      <td>33.6042</td>\n",
       "    </tr>\n",
       "  </tbody>\n",
       "</table>\n",
       "</div>"
      ],
      "text/plain": [
       "       Order ID       Ship Mode      Segment          City         State  \\\n",
       "1945  WOWID1946  Standard Class    Corporate  Philadelphia  Pennsylvania   \n",
       "1946  WOWID1947  Standard Class    Corporate  Philadelphia  Pennsylvania   \n",
       "1947  WOWID1948     First Class  Home Office       Houston         Texas   \n",
       "1948  WOWID1949     First Class  Home Office       Houston         Texas   \n",
       "1949  WOWID1950  Standard Class     Consumer       Houston         Texas   \n",
       "\n",
       "       Region         Category Sub-Category     Sales  Quantity  Discount  \\\n",
       "1945     East  Office Supplies        Paper    3.4240         1      0.20   \n",
       "1946     East       Technology  Accessories  151.2000         3      0.20   \n",
       "1947  Central  Office Supplies        Paper   65.5840         2      0.20   \n",
       "1948  Central        Furniture    Bookcases  383.4656         4      0.32   \n",
       "1949  Central  Office Supplies    Envelopes   99.5680         2      0.20   \n",
       "\n",
       "       Profit  \n",
       "1945   1.0700  \n",
       "1946  32.1300  \n",
       "1947  23.7742  \n",
       "1948 -67.6704  \n",
       "1949  33.6042  "
      ]
     },
     "execution_count": 32,
     "metadata": {},
     "output_type": "execute_result"
    }
   ],
   "source": [
    "# viewing the last 5 rows of the data\n",
    "data.tail()"
   ]
  },
  {
   "cell_type": "code",
   "execution_count": null,
   "id": "7c4c8163",
   "metadata": {},
   "outputs": [],
   "source": []
  }
 ],
 "metadata": {
  "colab": {
   "collapsed_sections": [],
   "name": "Session Notebook - Intermediate",
   "provenance": []
  },
  "kernelspec": {
   "display_name": "Python 3 (ipykernel)",
   "language": "python",
   "name": "python3"
  },
  "language_info": {
   "codemirror_mode": {
    "name": "ipython",
    "version": 3
   },
   "file_extension": ".py",
   "mimetype": "text/x-python",
   "name": "python",
   "nbconvert_exporter": "python",
   "pygments_lexer": "ipython3",
   "version": "3.9.7"
  }
 },
 "nbformat": 4,
 "nbformat_minor": 5
}
