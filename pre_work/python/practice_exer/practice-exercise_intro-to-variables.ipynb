{
 "cells": [
  {
   "cell_type": "markdown",
   "metadata": {},
   "source": [
    "## Introduction to Variables - Practice Exercise - Solutions"
   ]
  },
  {
   "cell_type": "markdown",
   "metadata": {},
   "source": [
    "#### 01. Add var1 and var2 to create a new variable called var3. Find the datatype of var3. Comment what you observe."
   ]
  },
  {
   "cell_type": "markdown",
   "metadata": {},
   "source": [
    "var1, var2 = 10, 5.1 <br>\n",
    "var3 = var1 + var2"
   ]
  },
  {
   "cell_type": "code",
   "execution_count": 3,
   "metadata": {},
   "outputs": [
    {
     "name": "stdout",
     "output_type": "stream",
     "text": [
      "15.1 <class 'float'>\n"
     ]
    }
   ],
   "source": [
    "var1, var2 = 10, 5.1\n",
    "var3 = var1+var2\n",
    "print(var3, type(var3))\n",
    "# adding a float to an int is fine, but the result will be float as it will contain a floating decimal"
   ]
  },
  {
   "cell_type": "markdown",
   "metadata": {},
   "source": [
    "#### 02. Convert an integer variable *x* to float and print it. Check the new format of the variable.\n",
    "x = 3"
   ]
  },
  {
   "cell_type": "code",
   "execution_count": 4,
   "metadata": {},
   "outputs": [
    {
     "name": "stdout",
     "output_type": "stream",
     "text": [
      "3.0 <class 'float'>\n"
     ]
    }
   ],
   "source": [
    "x = 3\n",
    "x = float(x)\n",
    "print(x, type(x))"
   ]
  },
  {
   "cell_type": "markdown",
   "metadata": {},
   "source": [
    "#### 03. Write a print statement which can print a value and 5 times that value in a single statement"
   ]
  },
  {
   "cell_type": "code",
   "execution_count": 6,
   "metadata": {},
   "outputs": [
    {
     "name": "stdout",
     "output_type": "stream",
     "text": [
      "3 15\n"
     ]
    }
   ],
   "source": [
    "print(3, 3*5)"
   ]
  },
  {
   "cell_type": "markdown",
   "metadata": {},
   "source": [
    "#### 04. Write a program to calculate the area of a triangle with base = 10 and height = 5\n",
    "Hint : area of triangle = 1/2 * base * height"
   ]
  },
  {
   "cell_type": "code",
   "execution_count": 8,
   "metadata": {},
   "outputs": [
    {
     "name": "stdout",
     "output_type": "stream",
     "text": [
      "25.0\n"
     ]
    }
   ],
   "source": [
    "def triangle_area(base, height):\n",
    "    return .5 * base * height\n",
    "\n",
    "print(triangle_area(10, 5))"
   ]
  },
  {
   "cell_type": "markdown",
   "metadata": {},
   "source": [
    "#### 05. What will be the value of *z* in the following expression:\n",
    "\n",
    "z = (v + w) * (x / y)\n",
    "\n",
    "If<br>\n",
    "v = 10<br>\n",
    "w = 25<br>\n",
    "x = 70<br>\n",
    "y = 2"
   ]
  },
  {
   "cell_type": "code",
   "execution_count": 10,
   "metadata": {},
   "outputs": [
    {
     "name": "stdout",
     "output_type": "stream",
     "text": [
      "1225.0\n"
     ]
    }
   ],
   "source": [
    "def calc(v, w, x, y):\n",
    "    return ((v+w) * (x/y))\n",
    "\n",
    "v, w, x, y = 10, 25, 70, 2\n",
    "print(calc(v, w, x, y))"
   ]
  },
  {
   "cell_type": "markdown",
   "metadata": {},
   "source": [
    "#### 6. Swap values of *a* and *b* \n",
    "\n",
    "If before swapping a = 10 and b = 5,<br>\n",
    "Then after swapping it should be a = 5 and b = 10"
   ]
  },
  {
   "cell_type": "code",
   "execution_count": 14,
   "metadata": {},
   "outputs": [
    {
     "name": "stdout",
     "output_type": "stream",
     "text": [
      "a:  5 and b:  10\n"
     ]
    }
   ],
   "source": [
    "a, b = 10, 5\n",
    "def value_swap(a, b):\n",
    "    a, b = b, a\n",
    "    return a, b\n",
    "\n",
    "a, b = value_swap(a, b)\n",
    "print('a: ', a, 'and b: ', b)"
   ]
  },
  {
   "cell_type": "markdown",
   "metadata": {},
   "source": [
    "#### Alternate Solution - 1! (without using third variable)"
   ]
  },
  {
   "cell_type": "code",
   "execution_count": 16,
   "metadata": {},
   "outputs": [
    {
     "name": "stdout",
     "output_type": "stream",
     "text": [
      "a = 5, and b = 10\n"
     ]
    }
   ],
   "source": [
    "a, b = 10, 5\n",
    "a, b = b, a\n",
    "print(f'a = {a}, and b = {b}')"
   ]
  },
  {
   "cell_type": "markdown",
   "metadata": {},
   "source": [
    "#### Alternate Solution - 2! (using the XOR operator)"
   ]
  },
  {
   "cell_type": "code",
   "execution_count": 18,
   "metadata": {},
   "outputs": [
    {
     "name": "stdout",
     "output_type": "stream",
     "text": [
      "The value of a is:  10\n",
      "The value of b is:  5\n",
      "After swapping: \n",
      "The value of a is:  5\n",
      "The value of b is:  10\n"
     ]
    }
   ],
   "source": [
    "a = 10\n",
    "b = 5\n",
    "\n",
    "print('The value of a is: ', a)\n",
    "print('The value of b is: ', b)\n",
    "\n",
    "a ^= b\n",
    "b ^= a\n",
    "a ^= b\n",
    "\n",
    "print('After swapping: ')\n",
    "print('The value of a is: ', a)\n",
    "print('The value of b is: ', b)"
   ]
  },
  {
   "cell_type": "markdown",
   "metadata": {},
   "source": [
    "#### 07. Convert 35 degree Celsius temperature to Fahrenheit\n",
    "\n",
    "##### Hint : Farenheit = Celsius * 1.8 + 32"
   ]
  },
  {
   "cell_type": "code",
   "execution_count": 17,
   "metadata": {},
   "outputs": [
    {
     "name": "stdout",
     "output_type": "stream",
     "text": [
      "95.0\n"
     ]
    }
   ],
   "source": [
    "def c_to_f(c):\n",
    "    return c * 1.8 + 32\n",
    "\n",
    "print(c_to_f(35))"
   ]
  },
  {
   "cell_type": "markdown",
   "metadata": {},
   "source": [
    "--------------"
   ]
  }
 ],
 "metadata": {
  "kernelspec": {
   "display_name": "Python 3 (ipykernel)",
   "language": "python",
   "name": "python3"
  },
  "language_info": {
   "codemirror_mode": {
    "name": "ipython",
    "version": 3
   },
   "file_extension": ".py",
   "mimetype": "text/x-python",
   "name": "python",
   "nbconvert_exporter": "python",
   "pygments_lexer": "ipython3",
   "version": "3.9.7"
  }
 },
 "nbformat": 4,
 "nbformat_minor": 4
}
