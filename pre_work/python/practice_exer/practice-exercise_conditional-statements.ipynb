{
 "cells": [
  {
   "cell_type": "markdown",
   "metadata": {},
   "source": [
    "## Conditional Statements - Practice Exercise - Solutions"
   ]
  },
  {
   "cell_type": "markdown",
   "metadata": {},
   "source": [
    "#### 01. Check if *'a'* is equal to 10, if yes, print \"Hello\", else print \"Good Bye\"\n",
    "a = 56"
   ]
  },
  {
   "cell_type": "code",
   "execution_count": 1,
   "metadata": {},
   "outputs": [
    {
     "name": "stdout",
     "output_type": "stream",
     "text": [
      "Good Bye\n"
     ]
    }
   ],
   "source": [
    "a = 56\n",
    "if a == 10:\n",
    "    print('Hello')\n",
    "else:\n",
    "    print('Good Bye')"
   ]
  },
  {
   "cell_type": "markdown",
   "metadata": {},
   "source": [
    "#### 02. Check if the below number is even or odd\n",
    "a = 2020"
   ]
  },
  {
   "cell_type": "code",
   "execution_count": 2,
   "metadata": {},
   "outputs": [
    {
     "name": "stdout",
     "output_type": "stream",
     "text": [
      "even\n"
     ]
    }
   ],
   "source": [
    "a = 2020\n",
    "if a%2==0:\n",
    "    print('even')\n",
    "else:\n",
    "    print('odd')"
   ]
  },
  {
   "cell_type": "markdown",
   "metadata": {},
   "source": [
    "#### 03.  Check whether the area of the rectangle is greater than the perimeter of the rectangle\n",
    "length = 5<br>\n",
    "breadth = 10\n",
    "\n",
    "Hint: \n",
    "- Area of rectangle = length * breadth \n",
    "- Perimeter of rectangle = 2 * (length + breadth)"
   ]
  },
  {
   "cell_type": "code",
   "execution_count": 3,
   "metadata": {},
   "outputs": [
    {
     "name": "stdout",
     "output_type": "stream",
     "text": [
      "The area of a rectangle is greater than the perimeter:  True\n"
     ]
    }
   ],
   "source": [
    "length = 5\n",
    "breadth = 10\n",
    "area = length * breadth\n",
    "perim = length*2 + breadth*2\n",
    "print('The area of a rectangle is greater than the perimeter: ', area>perim)"
   ]
  },
  {
   "cell_type": "markdown",
   "metadata": {},
   "source": [
    "#### 04. Calculate the average marks of a student in 5 subjects and give grades accordingly:\n",
    "<b>Logic:</b> If average is (>=90, then A grade), (>=80, then B grade), (>=70, then C grade), (>=60, then D grade), (>=50, then E grade), Else: Fail\n",
    "\n",
    "Consider this input as the marks a student got in 5 subject:<br>\n",
    "subject_marks = [72,85,96,42,95]"
   ]
  },
  {
   "cell_type": "code",
   "execution_count": 12,
   "metadata": {},
   "outputs": [
    {
     "data": {
      "text/plain": [
       "'C'"
      ]
     },
     "execution_count": 12,
     "metadata": {},
     "output_type": "execute_result"
    }
   ],
   "source": [
    "import numpy as np\n",
    "subject_marks = [72,85,96,42,95]\n",
    "\n",
    "mean = np.mean(subject_marks)\n",
    "if mean >= 90:\n",
    "    grade = 'A'\n",
    "elif mean >= 80 and mean < 90:\n",
    "    grade = 'B'\n",
    "elif mean >= 70 and mean < 80:\n",
    "    grade = 'C'\n",
    "elif mean >= 60 and mean < 70:\n",
    "    grade = 'D'\n",
    "elif mean >= 50 and mean < 60:\n",
    "    grade = 'E'\n",
    "else:\n",
    "    grade = 'Fail'\n",
    "    \n",
    "grade"
   ]
  },
  {
   "cell_type": "markdown",
   "metadata": {},
   "source": [
    "####  05. Check if a Triangle is Equilateral, Isosceles or Scalene.\n",
    "\n",
    "<b>Hint:</b>\n",
    "1. An Equilateral triangle is a triangle in which all three sides are equal.<br>\n",
    "2. A Scalene triangle is a triangle that has three unequal sides.<br>\n",
    "3. An Isosceles triangle is a triangle with two equal sides.<br>\n",
    "\n",
    "Dimensions of triangle:<br>\n",
    "x, y, z = 6, 8, 12"
   ]
  },
  {
   "cell_type": "code",
   "execution_count": 17,
   "metadata": {},
   "outputs": [
    {
     "data": {
      "text/plain": [
       "'Scalene Triangle'"
      ]
     },
     "execution_count": 17,
     "metadata": {},
     "output_type": "execute_result"
    }
   ],
   "source": [
    "x, y, z = 6, 8, 12\n",
    "if x == y and y == z:\n",
    "    out = 'Equilateral Triangle'\n",
    "elif x == y or y == z or x == z:\n",
    "    out = 'Isosceles Triangle'\n",
    "elif x != y and y != z and x != z:\n",
    "    out = 'Scalene Triangle'\n",
    "    \n",
    "out\n",
    "    "
   ]
  },
  {
   "cell_type": "markdown",
   "metadata": {},
   "source": [
    "#### 06. Check if the word \"Data\" is present in the sentence \"I am a Data Scientist\". If found print \"It is present\" else print \"It is not present\""
   ]
  },
  {
   "cell_type": "code",
   "execution_count": 23,
   "metadata": {},
   "outputs": [
    {
     "name": "stdout",
     "output_type": "stream",
     "text": [
      "It is present\n"
     ]
    }
   ],
   "source": [
    "word = 'Data'\n",
    "sentence = 'I am a Data Scientist'\n",
    "if word in sentence:\n",
    "    print('It is present')\n",
    "else:\n",
    "    print('It is not present')"
   ]
  },
  {
   "cell_type": "markdown",
   "metadata": {},
   "source": [
    "#### 07. Write a Python code to segregate a people into one of three buckets based on Age using the below rules:\n",
    "\n",
    "(A) Under 18 folks are \"Not Eligible to Work\"<br>\n",
    "(B) Folks between 18 and 60 are \"Eligible to work\"<br>\n",
    "(C) Folks above the age of 60 are \"Retired from work\"<br>\n",
    "\n",
    "age = 45"
   ]
  },
  {
   "cell_type": "code",
   "execution_count": 32,
   "metadata": {},
   "outputs": [
    {
     "name": "stdout",
     "output_type": "stream",
     "text": [
      "Eligible to work\n"
     ]
    }
   ],
   "source": [
    "age = 45\n",
    "if age < 18:\n",
    "    print(\"Not Eligible to Work\")\n",
    "elif age >=18 and age <= 60:\n",
    "    print(\"Eligible to work\")\n",
    "elif age > 60:\n",
    "    print(\"Retired from work\")"
   ]
  },
  {
   "cell_type": "markdown",
   "metadata": {},
   "source": [
    "#### 08. From the age of 3 people determine the oldest person among them.\n",
    "Age of first person = 25<br>\n",
    "Age of second person = 34<br>\n",
    "Age of third person = 45"
   ]
  },
  {
   "cell_type": "code",
   "execution_count": 49,
   "metadata": {},
   "outputs": [
    {
     "name": "stdout",
     "output_type": "stream",
     "text": [
      "The 3rd person was the oldest person among them\n"
     ]
    }
   ],
   "source": [
    "ages = [25, 34, 45]\n",
    "person = ['1st', '2nd', '3rd']\n",
    "idx = ages.index(np.max(ages))\n",
    "print(f'The {person[idx]} person was the oldest person among them')"
   ]
  },
  {
   "cell_type": "markdown",
   "metadata": {},
   "source": [
    "OR an inbuilt function can be used to solve the above question "
   ]
  },
  {
   "cell_type": "code",
   "execution_count": 53,
   "metadata": {
    "scrolled": true
   },
   "outputs": [
    {
     "ename": "TypeError",
     "evalue": "'int' object is not callable",
     "output_type": "error",
     "traceback": [
      "\u001b[0;31m---------------------------------------------------------------------------\u001b[0m",
      "\u001b[0;31mTypeError\u001b[0m                                 Traceback (most recent call last)",
      "\u001b[0;32m/var/folders/pl/pyzly9ns0tsg1m113w9rhxvw0000gn/T/ipykernel_1159/1588781359.py\u001b[0m in \u001b[0;36m<module>\u001b[0;34m\u001b[0m\n\u001b[1;32m      1\u001b[0m \u001b[0mmy_dict\u001b[0m \u001b[0;34m=\u001b[0m \u001b[0;34m{\u001b[0m\u001b[0;34m'1st'\u001b[0m\u001b[0;34m:\u001b[0m \u001b[0;36m25\u001b[0m\u001b[0;34m,\u001b[0m \u001b[0;34m'2nd'\u001b[0m\u001b[0;34m:\u001b[0m\u001b[0;36m34\u001b[0m\u001b[0;34m,\u001b[0m \u001b[0;34m'3rd'\u001b[0m\u001b[0;34m:\u001b[0m\u001b[0;36m45\u001b[0m\u001b[0;34m}\u001b[0m\u001b[0;34m\u001b[0m\u001b[0;34m\u001b[0m\u001b[0m\n\u001b[0;32m----> 2\u001b[0;31m \u001b[0mout\u001b[0m \u001b[0;34m=\u001b[0m \u001b[0mmax\u001b[0m\u001b[0;34m(\u001b[0m\u001b[0mmy_dict\u001b[0m\u001b[0;34m,\u001b[0m \u001b[0mkey\u001b[0m\u001b[0;34m=\u001b[0m\u001b[0mmy_dict\u001b[0m\u001b[0;34m.\u001b[0m\u001b[0mget\u001b[0m\u001b[0;34m)\u001b[0m\u001b[0;34m\u001b[0m\u001b[0;34m\u001b[0m\u001b[0m\n\u001b[0m\u001b[1;32m      3\u001b[0m \u001b[0mout\u001b[0m\u001b[0;34m\u001b[0m\u001b[0;34m\u001b[0m\u001b[0m\n",
      "\u001b[0;31mTypeError\u001b[0m: 'int' object is not callable"
     ]
    }
   ],
   "source": [
    "my_dict = {'1st': 25, '2nd':34, '3rd':45}\n",
    "out = max(my_dict, key=my_dict.get)\n",
    "out"
   ]
  },
  {
   "cell_type": "markdown",
   "metadata": {},
   "source": [
    "--------------"
   ]
  }
 ],
 "metadata": {
  "kernelspec": {
   "display_name": "Python 3 (ipykernel)",
   "language": "python",
   "name": "python3"
  },
  "language_info": {
   "codemirror_mode": {
    "name": "ipython",
    "version": 3
   },
   "file_extension": ".py",
   "mimetype": "text/x-python",
   "name": "python",
   "nbconvert_exporter": "python",
   "pygments_lexer": "ipython3",
   "version": "3.9.7"
  }
 },
 "nbformat": 4,
 "nbformat_minor": 4
}
