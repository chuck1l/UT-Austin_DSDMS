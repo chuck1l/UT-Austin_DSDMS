{
 "cells": [
  {
   "cell_type": "markdown",
   "metadata": {},
   "source": [
    "## Looping Statements - Practice Exercise - Solutions"
   ]
  },
  {
   "cell_type": "markdown",
   "metadata": {},
   "source": [
    "#### 01. Print -10 to -1 using *for* loop"
   ]
  },
  {
   "cell_type": "code",
   "execution_count": 4,
   "metadata": {},
   "outputs": [
    {
     "name": "stdout",
     "output_type": "stream",
     "text": [
      "-10\n",
      "-9\n",
      "-8\n",
      "-7\n",
      "-6\n",
      "-5\n",
      "-4\n",
      "-3\n",
      "-2\n",
      "-1\n"
     ]
    }
   ],
   "source": [
    "for item in range(-10, 0):\n",
    "    print(item)"
   ]
  },
  {
   "cell_type": "markdown",
   "metadata": {},
   "source": [
    "#### Alternate Solution - using List Comprehension"
   ]
  },
  {
   "cell_type": "code",
   "execution_count": 5,
   "metadata": {},
   "outputs": [
    {
     "name": "stdout",
     "output_type": "stream",
     "text": [
      "-10\n",
      "-9\n",
      "-8\n",
      "-7\n",
      "-6\n",
      "-5\n",
      "-4\n",
      "-3\n",
      "-2\n",
      "-1\n"
     ]
    },
    {
     "data": {
      "text/plain": [
       "[None, None, None, None, None, None, None, None, None, None]"
      ]
     },
     "execution_count": 5,
     "metadata": {},
     "output_type": "execute_result"
    }
   ],
   "source": [
    "[print(item) for item in range(-10, 0)]"
   ]
  },
  {
   "cell_type": "markdown",
   "metadata": {},
   "source": [
    "#### 02. Using *while* loop, print numbers 1 to 10"
   ]
  },
  {
   "cell_type": "code",
   "execution_count": 6,
   "metadata": {},
   "outputs": [
    {
     "name": "stdout",
     "output_type": "stream",
     "text": [
      "1\n",
      "2\n",
      "3\n",
      "4\n",
      "5\n",
      "6\n",
      "7\n",
      "8\n",
      "9\n",
      "10\n"
     ]
    }
   ],
   "source": [
    "i = 1\n",
    "while i <= 10:\n",
    "    print(i)\n",
    "    i += 1"
   ]
  },
  {
   "cell_type": "markdown",
   "metadata": {},
   "source": [
    "#### 03. Using *for* loop, print first ten even numbers"
   ]
  },
  {
   "cell_type": "code",
   "execution_count": 9,
   "metadata": {},
   "outputs": [
    {
     "name": "stdout",
     "output_type": "stream",
     "text": [
      "0\n",
      "2\n",
      "4\n",
      "6\n",
      "8\n",
      "10\n",
      "12\n",
      "14\n",
      "16\n",
      "18\n"
     ]
    },
    {
     "data": {
      "text/plain": [
       "[None, None, None, None, None, None, None, None, None, None]"
      ]
     },
     "execution_count": 9,
     "metadata": {},
     "output_type": "execute_result"
    }
   ],
   "source": [
    "[print(item) for item in range(0, 20, 2)]"
   ]
  },
  {
   "cell_type": "markdown",
   "metadata": {},
   "source": [
    "#### 04. Using *while* loop, generate the table/multiples of 5\n",
    "##### Sample Output -\n",
    "5 * 1 = 5\\\n",
    "5 * 2 = 10\\\n",
    "5 * 3 = 15\\\n",
    "so on\n"
   ]
  },
  {
   "cell_type": "code",
   "execution_count": 11,
   "metadata": {},
   "outputs": [
    {
     "name": "stdout",
     "output_type": "stream",
     "text": [
      "5 x 1 =  5\n",
      "5 x 2 =  10\n",
      "5 x 3 =  15\n",
      "5 x 4 =  20\n",
      "5 x 5 =  25\n",
      "5 x 6 =  30\n",
      "5 x 7 =  35\n",
      "5 x 8 =  40\n",
      "5 x 9 =  45\n",
      "5 x 10 =  50\n"
     ]
    }
   ],
   "source": [
    "x = 5\n",
    "i = 1\n",
    "while i <= 10:\n",
    "    print(f'{x} x {i} = ', x*i)\n",
    "    i += 1"
   ]
  },
  {
   "cell_type": "markdown",
   "metadata": {},
   "source": [
    "#### 05. Using *for* loop, generate the prime numbers till 100"
   ]
  },
  {
   "cell_type": "code",
   "execution_count": 17,
   "metadata": {},
   "outputs": [
    {
     "name": "stdout",
     "output_type": "stream",
     "text": [
      "[2, 3, 5, 7, 11, 13, 17, 19, 23, 29, 31, 37, 41, 43, 47, 53, 59, 61, 67, 71, 73, 79, 83, 89, 97]\n"
     ]
    }
   ],
   "source": [
    "upper = 100\n",
    "primes = []\n",
    "for num in range(2, upper+1):\n",
    "    for i in range(2, num):\n",
    "        if (num%i)==0:\n",
    "            break\n",
    "    else:\n",
    "        primes.append(num)\n",
    "            \n",
    "print(primes)"
   ]
  },
  {
   "cell_type": "markdown",
   "metadata": {},
   "source": [
    "#### 06. For numbers 1 to 100, if a number is divisible by 3, then print Fizz.\n",
    "##### If a number is divisible by 5, then print Buzz.\n",
    "##### If a number is divisible by 3 and 5 both, then print FizzBuzz\n",
    "##### If a number is neither divisible by 3 nor by 5, then just print the number.\n",
    "\n",
    "Hint: use range(1,101) function  to generate numbers from 1 to 100"
   ]
  },
  {
   "cell_type": "code",
   "execution_count": 18,
   "metadata": {},
   "outputs": [
    {
     "name": "stdout",
     "output_type": "stream",
     "text": [
      "1\n",
      "2\n",
      "3 :  Fizz\n",
      "4\n",
      "5 :  Buzz\n",
      "6 :  Fizz\n",
      "7\n",
      "8\n",
      "9 :  Fizz\n",
      "10 :  Buzz\n",
      "11\n",
      "12 :  Fizz\n",
      "13\n",
      "14\n",
      "15 :  FizzBuzz\n",
      "16\n",
      "17\n",
      "18 :  Fizz\n",
      "19\n",
      "20 :  Buzz\n",
      "21 :  Fizz\n",
      "22\n",
      "23\n",
      "24 :  Fizz\n",
      "25 :  Buzz\n",
      "26\n",
      "27 :  Fizz\n",
      "28\n",
      "29\n",
      "30 :  FizzBuzz\n",
      "31\n",
      "32\n",
      "33 :  Fizz\n",
      "34\n",
      "35 :  Buzz\n",
      "36 :  Fizz\n",
      "37\n",
      "38\n",
      "39 :  Fizz\n",
      "40 :  Buzz\n",
      "41\n",
      "42 :  Fizz\n",
      "43\n",
      "44\n",
      "45 :  FizzBuzz\n",
      "46\n",
      "47\n",
      "48 :  Fizz\n",
      "49\n",
      "50 :  Buzz\n",
      "51 :  Fizz\n",
      "52\n",
      "53\n",
      "54 :  Fizz\n",
      "55 :  Buzz\n",
      "56\n",
      "57 :  Fizz\n",
      "58\n",
      "59\n",
      "60 :  FizzBuzz\n",
      "61\n",
      "62\n",
      "63 :  Fizz\n",
      "64\n",
      "65 :  Buzz\n",
      "66 :  Fizz\n",
      "67\n",
      "68\n",
      "69 :  Fizz\n",
      "70 :  Buzz\n",
      "71\n",
      "72 :  Fizz\n",
      "73\n",
      "74\n",
      "75 :  FizzBuzz\n",
      "76\n",
      "77\n",
      "78 :  Fizz\n",
      "79\n",
      "80 :  Buzz\n",
      "81 :  Fizz\n",
      "82\n",
      "83\n",
      "84 :  Fizz\n",
      "85 :  Buzz\n",
      "86\n",
      "87 :  Fizz\n",
      "88\n",
      "89\n",
      "90 :  FizzBuzz\n",
      "91\n",
      "92\n",
      "93 :  Fizz\n",
      "94\n",
      "95 :  Buzz\n",
      "96 :  Fizz\n",
      "97\n",
      "98\n",
      "99 :  Fizz\n",
      "100 :  Buzz\n"
     ]
    }
   ],
   "source": [
    "for num in range(1, 101):\n",
    "    if num%3 == 0 and num%5==0:\n",
    "        print(num, ': ', 'FizzBuzz')\n",
    "    elif num%3==0:\n",
    "        print(num, ': ', 'Fizz')\n",
    "    elif num%5==0:\n",
    "        print(num, ': ', 'Buzz')\n",
    "    else:\n",
    "        print(num)"
   ]
  },
  {
   "cell_type": "markdown",
   "metadata": {},
   "source": [
    "#### 07. Using the range function find the sum of all numbers from 1 to 100.\n",
    "    For the numbers in the range (1,100):1+2+3+4+5......+100 = 5050"
   ]
  },
  {
   "cell_type": "code",
   "execution_count": 20,
   "metadata": {},
   "outputs": [
    {
     "name": "stdout",
     "output_type": "stream",
     "text": [
      "5050\n"
     ]
    }
   ],
   "source": [
    "print(sum(range(1, 101)))"
   ]
  },
  {
   "cell_type": "markdown",
   "metadata": {},
   "source": [
    "#### Alternate Solution - formula to find sum of first n natural numbers is (n*(n+1)/2)."
   ]
  },
  {
   "cell_type": "code",
   "execution_count": 21,
   "metadata": {},
   "outputs": [
    {
     "name": "stdout",
     "output_type": "stream",
     "text": [
      "5050.0\n"
     ]
    }
   ],
   "source": [
    "def alt_solution(n):\n",
    "    return (n*(n+1)/2)\n",
    "\n",
    "print(alt_solution(100))"
   ]
  },
  {
   "cell_type": "markdown",
   "metadata": {},
   "source": [
    "#### 08. Write a program that will find all the numbers which are divisible by 7 and are not a multiple of 5, between 202 and 320 (both included)."
   ]
  },
  {
   "cell_type": "code",
   "execution_count": 23,
   "metadata": {},
   "outputs": [
    {
     "name": "stdout",
     "output_type": "stream",
     "text": [
      "[203, 217, 224, 231, 238, 252, 259, 266, 273, 287, 294, 301, 308]\n"
     ]
    }
   ],
   "source": [
    "def program_7s_and_5s():\n",
    "    out = []\n",
    "    for num in range(202, 321):\n",
    "        if num%7==0 and num%5!=0:\n",
    "            out.append(num)\n",
    "        else:\n",
    "            continue\n",
    "    return out\n",
    "\n",
    "print(program_7s_and_5s())"
   ]
  },
  {
   "cell_type": "markdown",
   "metadata": {},
   "source": [
    "#### 09. Python Program to count the number of vowels in a string.\n",
    "st = \"Data Science\"\n",
    "\n",
    "Output: No of vowels = 5"
   ]
  },
  {
   "cell_type": "code",
   "execution_count": 26,
   "metadata": {},
   "outputs": [
    {
     "name": "stdout",
     "output_type": "stream",
     "text": [
      "5\n"
     ]
    }
   ],
   "source": [
    "vowels = ['a', 'e', 'i', 'o', 'u']\n",
    "st = 'Data Science'\n",
    "output = 0\n",
    "for vow in vowels:\n",
    "    output += st.lower().count(vow)\n",
    "    \n",
    "print(output)"
   ]
  },
  {
   "cell_type": "markdown",
   "metadata": {},
   "source": [
    "#### Alternate Solution - Use the \"in\" operator"
   ]
  },
  {
   "cell_type": "code",
   "execution_count": null,
   "metadata": {},
   "outputs": [],
   "source": []
  },
  {
   "cell_type": "markdown",
   "metadata": {},
   "source": [
    "#### 10. A number is said to be an Armstrong Number if the sum of cubes of the digits of the umber is equal to the actual number itself.\n",
    "##### For Example : 153 = 1^3 + 5^3 + 3^3 = 1 + 125 + 27 = 153\n",
    "\n",
    "##### Write a program to print if the number is Armstrong number or not."
   ]
  },
  {
   "cell_type": "code",
   "execution_count": 33,
   "metadata": {},
   "outputs": [
    {
     "name": "stdout",
     "output_type": "stream",
     "text": [
      "153 is an armstrong number\n"
     ]
    }
   ],
   "source": [
    "def armstrong(num):\n",
    "    temp_lst = [int(a) for a in str(num)]\n",
    "    temp_lst = [elem**3 for elem in temp_lst]\n",
    "    if sum(temp_lst) == num:\n",
    "        print(f'{num} is an armstrong number')\n",
    "    else:\n",
    "        print(f'{num} is NOT an armstrong number')\n",
    "\n",
    "armstrong(153)"
   ]
  },
  {
   "cell_type": "markdown",
   "metadata": {},
   "source": [
    "--------------"
   ]
  }
 ],
 "metadata": {
  "kernelspec": {
   "display_name": "Python 3 (ipykernel)",
   "language": "python",
   "name": "python3"
  },
  "language_info": {
   "codemirror_mode": {
    "name": "ipython",
    "version": 3
   },
   "file_extension": ".py",
   "mimetype": "text/x-python",
   "name": "python",
   "nbconvert_exporter": "python",
   "pygments_lexer": "ipython3",
   "version": "3.9.7"
  }
 },
 "nbformat": 4,
 "nbformat_minor": 4
}
