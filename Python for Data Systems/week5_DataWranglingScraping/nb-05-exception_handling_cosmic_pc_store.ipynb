{
 "cells": [
  {
   "cell_type": "markdown",
   "metadata": {
    "id": "m9kgj-0EVu1o"
   },
   "source": [
    "# Data Wrangling with Python - Exception Handling Example"
   ]
  },
  {
   "cell_type": "markdown",
   "metadata": {
    "id": "GYih2zTDVu1s"
   },
   "source": [
    "#### Import Libraries"
   ]
  },
  {
   "cell_type": "code",
   "execution_count": 14,
   "metadata": {
    "executionInfo": {
     "elapsed": 239,
     "status": "ok",
     "timestamp": 1637364232444,
     "user": {
      "displayName": "Bradford Tuckfield",
      "photoUrl": "https://lh3.googleusercontent.com/a/default-user=s64",
      "userId": "13000599021590462569"
     },
     "user_tz": 420
    },
    "id": "d7t52mdXVu1t"
   },
   "outputs": [],
   "source": [
    "import pandas as pd\n",
    "from bs4 import BeautifulSoup\n",
    "import numpy as np"
   ]
  },
  {
   "cell_type": "markdown",
   "metadata": {
    "id": "b2rivyjlVu1v"
   },
   "source": [
    "Let's assume you ran the same web scraping code we built earlier after a few weeks. Let's use the <b>cosmic-pc-store-updated.html</b> this time"
   ]
  },
  {
   "cell_type": "code",
   "execution_count": 15,
   "metadata": {
    "executionInfo": {
     "elapsed": 420,
     "status": "ok",
     "timestamp": 1637364287803,
     "user": {
      "displayName": "Bradford Tuckfield",
      "photoUrl": "https://lh3.googleusercontent.com/a/default-user=s64",
      "userId": "13000599021590462569"
     },
     "user_tz": 420
    },
    "id": "GJTjbMZLVu1w"
   },
   "outputs": [],
   "source": [
    "with open('cosmic-pc-store-updated.html', 'r') as f:\n",
    "    soup = BeautifulSoup(f, 'html.parser')"
   ]
  },
  {
   "cell_type": "code",
   "execution_count": 16,
   "metadata": {
    "executionInfo": {
     "elapsed": 344,
     "status": "ok",
     "timestamp": 1637364307664,
     "user": {
      "displayName": "Bradford Tuckfield",
      "photoUrl": "https://lh3.googleusercontent.com/a/default-user=s64",
      "userId": "13000599021590462569"
     },
     "user_tz": 420
    },
    "id": "-Vq_IdhWVu1w"
   },
   "outputs": [],
   "source": [
    "laptops_list = soup.find_all('center', attrs={'class':'iteminfo'})"
   ]
  },
  {
   "cell_type": "code",
   "execution_count": 17,
   "metadata": {
    "colab": {
     "base_uri": "https://localhost:8080/",
     "height": 232
    },
    "executionInfo": {
     "elapsed": 220,
     "status": "error",
     "timestamp": 1637364327286,
     "user": {
      "displayName": "Bradford Tuckfield",
      "photoUrl": "https://lh3.googleusercontent.com/a/default-user=s64",
      "userId": "13000599021590462569"
     },
     "user_tz": 420
    },
    "id": "Y1nZflMaVu1x",
    "outputId": "7ca9fd3e-4d27-4b1b-84af-c0cf2afeeaa0"
   },
   "outputs": [
    {
     "ename": "AttributeError",
     "evalue": "ignored",
     "output_type": "error",
     "traceback": [
      "\u001b[0;31m---------------------------------------------------------------------------\u001b[0m",
      "\u001b[0;31mAttributeError\u001b[0m                            Traceback (most recent call last)",
      "\u001b[0;32m<ipython-input-17-beeadc9d7233>\u001b[0m in \u001b[0;36m<module>\u001b[0;34m()\u001b[0m\n\u001b[1;32m      5\u001b[0m     \u001b[0mlaptopname\u001b[0m \u001b[0;34m=\u001b[0m \u001b[0mlaptop\u001b[0m\u001b[0;34m.\u001b[0m\u001b[0mfind\u001b[0m\u001b[0;34m(\u001b[0m\u001b[0;34m'div'\u001b[0m\u001b[0;34m,\u001b[0m \u001b[0mclass_\u001b[0m\u001b[0;34m=\u001b[0m\u001b[0;34m'laptopname'\u001b[0m\u001b[0;34m)\u001b[0m\u001b[0;34m.\u001b[0m\u001b[0mtext\u001b[0m\u001b[0;34m.\u001b[0m\u001b[0mstrip\u001b[0m\u001b[0;34m(\u001b[0m\u001b[0;34m)\u001b[0m\u001b[0;34m\u001b[0m\u001b[0;34m\u001b[0m\u001b[0m\n\u001b[1;32m      6\u001b[0m     \u001b[0mrating\u001b[0m\u001b[0;34m=\u001b[0m \u001b[0mlaptop\u001b[0m\u001b[0;34m.\u001b[0m\u001b[0mfind\u001b[0m\u001b[0;34m(\u001b[0m\u001b[0;34m'div'\u001b[0m\u001b[0;34m,\u001b[0m \u001b[0mclass_\u001b[0m\u001b[0;34m=\u001b[0m\u001b[0;34m'rating'\u001b[0m\u001b[0;34m)\u001b[0m\u001b[0;34m.\u001b[0m\u001b[0mtext\u001b[0m\u001b[0;34m.\u001b[0m\u001b[0mstrip\u001b[0m\u001b[0;34m(\u001b[0m\u001b[0;34m)\u001b[0m\u001b[0;34m\u001b[0m\u001b[0;34m\u001b[0m\u001b[0m\n\u001b[0;32m----> 7\u001b[0;31m     \u001b[0mage\u001b[0m \u001b[0;34m=\u001b[0m \u001b[0mlaptop\u001b[0m\u001b[0;34m.\u001b[0m\u001b[0mfind\u001b[0m\u001b[0;34m(\u001b[0m\u001b[0;34m'div'\u001b[0m\u001b[0;34m,\u001b[0m \u001b[0mclass_\u001b[0m\u001b[0;34m=\u001b[0m\u001b[0;34m'age'\u001b[0m\u001b[0;34m)\u001b[0m\u001b[0;34m.\u001b[0m\u001b[0mtext\u001b[0m\u001b[0;34m.\u001b[0m\u001b[0mstrip\u001b[0m\u001b[0;34m(\u001b[0m\u001b[0;34m)\u001b[0m\u001b[0;34m\u001b[0m\u001b[0;34m\u001b[0m\u001b[0m\n\u001b[0m\u001b[1;32m      8\u001b[0m     \u001b[0mprice\u001b[0m \u001b[0;34m=\u001b[0m \u001b[0mlaptop\u001b[0m\u001b[0;34m.\u001b[0m\u001b[0mfind\u001b[0m\u001b[0;34m(\u001b[0m\u001b[0;34m'p'\u001b[0m\u001b[0;34m,\u001b[0m \u001b[0mclass_\u001b[0m\u001b[0;34m=\u001b[0m\u001b[0;34m'listprice'\u001b[0m\u001b[0;34m)\u001b[0m\u001b[0;34m.\u001b[0m\u001b[0mtext\u001b[0m\u001b[0;34m.\u001b[0m\u001b[0mstrip\u001b[0m\u001b[0;34m(\u001b[0m\u001b[0;34m)\u001b[0m\u001b[0;34m\u001b[0m\u001b[0;34m\u001b[0m\u001b[0m\n\u001b[1;32m      9\u001b[0m     \u001b[0mdisc\u001b[0m \u001b[0;34m=\u001b[0m \u001b[0mlaptop\u001b[0m\u001b[0;34m.\u001b[0m\u001b[0mfind\u001b[0m\u001b[0;34m(\u001b[0m\u001b[0;34m'a'\u001b[0m\u001b[0;34m,\u001b[0m \u001b[0mclass_\u001b[0m\u001b[0;34m=\u001b[0m\u001b[0;34m'discount'\u001b[0m\u001b[0;34m)\u001b[0m\u001b[0;34m.\u001b[0m\u001b[0mtext\u001b[0m\u001b[0;34m.\u001b[0m\u001b[0mstrip\u001b[0m\u001b[0;34m(\u001b[0m\u001b[0;34m)\u001b[0m\u001b[0;34m\u001b[0m\u001b[0;34m\u001b[0m\u001b[0m\n",
      "\u001b[0;31mAttributeError\u001b[0m: 'NoneType' object has no attribute 'text'"
     ]
    }
   ],
   "source": [
    "scraped_data = []\n",
    "for laptop in laptops_list:\n",
    "    \n",
    "    brandname = laptop.find('div', class_='brandname').text.strip()\n",
    "    laptopname = laptop.find('div', class_='laptopname').text.strip()\n",
    "    rating= laptop.find('div', class_='rating').text.strip()\n",
    "    age = laptop.find('div', class_='age').text.strip()\n",
    "    price = laptop.find('p', class_='listprice').text.strip()\n",
    "    disc = laptop.find('a', class_='discount').text.strip()\n",
    "    \n",
    "    # category, ram, processor, display, storage, weight = specs\n",
    "    specs = [x.text for x in laptop.find('div', class_='collapse').select('b')]\n",
    "\n",
    "    # lets append the laptop's data into the list\n",
    "    scraped_data.append([brandname, laptopname, rating, age, price, disc] + specs)"
   ]
  },
  {
   "cell_type": "markdown",
   "metadata": {
    "id": "-1fzopIHVu1z"
   },
   "source": [
    "#### Let's investigate\n",
    "\n",
    "If you open the webpage and scroll through, you will see that <b>age</b> and <b>rating</b> is missing for a lot of laptops. These means, when you try to find the class = 'age' for that laptop, you won't find it. This leads to the <b>AttributeError</b>: 'NoneType' object has no attribute 'text'.\n",
    "\n",
    "This can very well be the case for other columns as well. As data scientists and engineers, this is something we need to be prepared for."
   ]
  },
  {
   "cell_type": "markdown",
   "metadata": {
    "id": "VL3-jMPMVu10"
   },
   "source": [
    "#### Let's try fixing this using exception handling statements\n",
    "We shall fix this by storing age as a <b>NaN</b> value if it does not exist for the laptop. The same can be done for the rating as well"
   ]
  },
  {
   "cell_type": "code",
   "execution_count": 18,
   "metadata": {
    "executionInfo": {
     "elapsed": 232,
     "status": "ok",
     "timestamp": 1637364446326,
     "user": {
      "displayName": "Bradford Tuckfield",
      "photoUrl": "https://lh3.googleusercontent.com/a/default-user=s64",
      "userId": "13000599021590462569"
     },
     "user_tz": 420
    },
    "id": "eciV2bBmVu11"
   },
   "outputs": [],
   "source": [
    "scraped_data = []\n",
    "for laptop in laptops_list:\n",
    "    \n",
    "    brandname = laptop.find('div', class_='brandname').text.strip()\n",
    "    laptopname = laptop.find('div', class_='laptopname').text.strip()\n",
    "    \n",
    "    try: rating = laptop.find('div', class_='rating').text.strip()\n",
    "    except AttributeError: rating = np.nan\n",
    "    \n",
    "    try: age = laptop.find('div', class_='age').text.strip()\n",
    "    except AttributeError: age = np.nan\n",
    "    \n",
    "    price = laptop.find('p', class_='listprice').text.strip()\n",
    "    disc = laptop.find('a', class_='discount').text.strip()\n",
    "    \n",
    "    # category, ram, processor, display, storage, weight = specs\n",
    "    specs = [x.text for x in laptop.find('div', class_='collapse').select('b')]\n",
    "\n",
    "    # lets append the laptop's data into the list\n",
    "    scraped_data.append([brandname, laptopname, rating, age, price, disc] + specs)"
   ]
  },
  {
   "cell_type": "code",
   "execution_count": 19,
   "metadata": {
    "executionInfo": {
     "elapsed": 876,
     "status": "ok",
     "timestamp": 1637364454107,
     "user": {
      "displayName": "Bradford Tuckfield",
      "photoUrl": "https://lh3.googleusercontent.com/a/default-user=s64",
      "userId": "13000599021590462569"
     },
     "user_tz": 420
    },
    "id": "96s7PMZuVu12"
   },
   "outputs": [],
   "source": [
    "column_names = ['brand_name','laptop_name','rating','age','price','disc','category','ram','processor',\n",
    "                'display','storage','weight']"
   ]
  },
  {
   "cell_type": "code",
   "execution_count": 20,
   "metadata": {
    "executionInfo": {
     "elapsed": 139,
     "status": "ok",
     "timestamp": 1637364457969,
     "user": {
      "displayName": "Bradford Tuckfield",
      "photoUrl": "https://lh3.googleusercontent.com/a/default-user=s64",
      "userId": "13000599021590462569"
     },
     "user_tz": 420
    },
    "id": "N65zXk0JVu12"
   },
   "outputs": [],
   "source": [
    "df = pd.DataFrame(data=scraped_data, columns=column_names)"
   ]
  },
  {
   "cell_type": "code",
   "execution_count": 21,
   "metadata": {
    "colab": {
     "base_uri": "https://localhost:8080/",
     "height": 665
    },
    "executionInfo": {
     "elapsed": 188,
     "status": "ok",
     "timestamp": 1637364463358,
     "user": {
      "displayName": "Bradford Tuckfield",
      "photoUrl": "https://lh3.googleusercontent.com/a/default-user=s64",
      "userId": "13000599021590462569"
     },
     "user_tz": 420
    },
    "id": "4pp7gahGVu13",
    "outputId": "b5e4385b-184d-497b-c569-49b1f5984dc6"
   },
   "outputs": [
    {
     "data": {
      "text/html": [
       "<div>\n",
       "<style scoped>\n",
       "    .dataframe tbody tr th:only-of-type {\n",
       "        vertical-align: middle;\n",
       "    }\n",
       "\n",
       "    .dataframe tbody tr th {\n",
       "        vertical-align: top;\n",
       "    }\n",
       "\n",
       "    .dataframe thead th {\n",
       "        text-align: right;\n",
       "    }\n",
       "</style>\n",
       "<table border=\"1\" class=\"dataframe\">\n",
       "  <thead>\n",
       "    <tr style=\"text-align: right;\">\n",
       "      <th></th>\n",
       "      <th>brand_name</th>\n",
       "      <th>laptop_name</th>\n",
       "      <th>rating</th>\n",
       "      <th>age</th>\n",
       "      <th>price</th>\n",
       "      <th>disc</th>\n",
       "      <th>category</th>\n",
       "      <th>ram</th>\n",
       "      <th>processor</th>\n",
       "      <th>display</th>\n",
       "      <th>storage</th>\n",
       "      <th>weight</th>\n",
       "    </tr>\n",
       "  </thead>\n",
       "  <tbody>\n",
       "    <tr>\n",
       "      <th>0</th>\n",
       "      <td>Apple</td>\n",
       "      <td>MacBook Pro</td>\n",
       "      <td>Rating: 4/5</td>\n",
       "      <td>NaN</td>\n",
       "      <td>$994</td>\n",
       "      <td>13%</td>\n",
       "      <td>Ultrabook</td>\n",
       "      <td>8GB</td>\n",
       "      <td>Intel Core i5 2.3GHz</td>\n",
       "      <td>IPS Panel Retina Display 2560x1600</td>\n",
       "      <td>128GB SSD</td>\n",
       "      <td>1.37kg</td>\n",
       "    </tr>\n",
       "    <tr>\n",
       "      <th>1</th>\n",
       "      <td>Apple</td>\n",
       "      <td>Macbook Air</td>\n",
       "      <td>Rating: 5/5</td>\n",
       "      <td>Age: 8 years</td>\n",
       "      <td>$929</td>\n",
       "      <td>5%</td>\n",
       "      <td>Ultrabook</td>\n",
       "      <td>8GB</td>\n",
       "      <td>Intel Core i5 1.8GHz</td>\n",
       "      <td>128GB Flash Storage</td>\n",
       "      <td>1.34kg</td>\n",
       "      <td>None</td>\n",
       "    </tr>\n",
       "    <tr>\n",
       "      <th>2</th>\n",
       "      <td>HP</td>\n",
       "      <td>250 G6</td>\n",
       "      <td>Rating: 4/5</td>\n",
       "      <td>Age: 8 years</td>\n",
       "      <td>$507</td>\n",
       "      <td>8%</td>\n",
       "      <td>Notebook</td>\n",
       "      <td>Intel Core i5 7200U 2.5GHz</td>\n",
       "      <td>Full HD 1920x1080</td>\n",
       "      <td>256GB SSD</td>\n",
       "      <td>1.86kg</td>\n",
       "      <td>None</td>\n",
       "    </tr>\n",
       "    <tr>\n",
       "      <th>3</th>\n",
       "      <td>Apple</td>\n",
       "      <td>MacBook Pro</td>\n",
       "      <td>Rating: 5/5</td>\n",
       "      <td>NaN</td>\n",
       "      <td>$566</td>\n",
       "      <td>12%</td>\n",
       "      <td>Ultrabook</td>\n",
       "      <td>16GB</td>\n",
       "      <td>Intel Core i7 2.7GHz</td>\n",
       "      <td>IPS Panel Retina Display 2880x1800</td>\n",
       "      <td>512GB SSD</td>\n",
       "      <td>1.83kg</td>\n",
       "    </tr>\n",
       "    <tr>\n",
       "      <th>4</th>\n",
       "      <td>Apple</td>\n",
       "      <td>MacBook Pro</td>\n",
       "      <td>Rating: 3.5/5</td>\n",
       "      <td>Age: 4 years</td>\n",
       "      <td>$529</td>\n",
       "      <td>5%</td>\n",
       "      <td>8GB</td>\n",
       "      <td>Intel Core i5 3.1GHz</td>\n",
       "      <td>IPS Panel Retina Display 2560x1600</td>\n",
       "      <td>256GB SSD</td>\n",
       "      <td>1.37kg</td>\n",
       "      <td>None</td>\n",
       "    </tr>\n",
       "    <tr>\n",
       "      <th>5</th>\n",
       "      <td>Acer</td>\n",
       "      <td>Aspire 3</td>\n",
       "      <td>Rating: 5/5</td>\n",
       "      <td>Age: 7 years</td>\n",
       "      <td>$580</td>\n",
       "      <td>15%</td>\n",
       "      <td>Notebook</td>\n",
       "      <td>4GB</td>\n",
       "      <td>AMD A9-Series 9420 3GHz</td>\n",
       "      <td>500GB HDD</td>\n",
       "      <td>2.1kg</td>\n",
       "      <td>None</td>\n",
       "    </tr>\n",
       "    <tr>\n",
       "      <th>6</th>\n",
       "      <td>Apple</td>\n",
       "      <td>MacBook Pro</td>\n",
       "      <td>Rating: 5/5</td>\n",
       "      <td>Age: 8 years</td>\n",
       "      <td>$892</td>\n",
       "      <td>5%</td>\n",
       "      <td>Ultrabook</td>\n",
       "      <td>16GB</td>\n",
       "      <td>Intel Core i7 2.2GHz</td>\n",
       "      <td>IPS Panel Retina Display 2880x1800</td>\n",
       "      <td>256GB Flash Storage</td>\n",
       "      <td>2.04kg</td>\n",
       "    </tr>\n",
       "    <tr>\n",
       "      <th>7</th>\n",
       "      <td>Apple</td>\n",
       "      <td>Macbook Air</td>\n",
       "      <td>NaN</td>\n",
       "      <td>Age: 4 years</td>\n",
       "      <td>$796</td>\n",
       "      <td>9%</td>\n",
       "      <td>Ultrabook</td>\n",
       "      <td>8GB</td>\n",
       "      <td>Intel Core i5 1.8GHz</td>\n",
       "      <td>1440x900</td>\n",
       "      <td>256GB Flash Storage</td>\n",
       "      <td>1.34kg</td>\n",
       "    </tr>\n",
       "    <tr>\n",
       "      <th>8</th>\n",
       "      <td>Asus</td>\n",
       "      <td>ZenBook UX430UN</td>\n",
       "      <td>Rating: 4.5/5</td>\n",
       "      <td>Age: 5 years</td>\n",
       "      <td>$686</td>\n",
       "      <td>4%</td>\n",
       "      <td>Ultrabook</td>\n",
       "      <td>Intel Core i7 8550U 1.8GHz</td>\n",
       "      <td>Full HD 1920x1080</td>\n",
       "      <td>512GB SSD</td>\n",
       "      <td>1.3kg</td>\n",
       "      <td>None</td>\n",
       "    </tr>\n",
       "    <tr>\n",
       "      <th>9</th>\n",
       "      <td>Acer</td>\n",
       "      <td>Swift 3</td>\n",
       "      <td>NaN</td>\n",
       "      <td>NaN</td>\n",
       "      <td>$358</td>\n",
       "      <td>10%</td>\n",
       "      <td>8GB</td>\n",
       "      <td>Intel Core i5 8250U 1.6GHz</td>\n",
       "      <td>IPS Panel Full HD 1920x1080</td>\n",
       "      <td>256GB SSD</td>\n",
       "      <td>1.6kg</td>\n",
       "      <td>None</td>\n",
       "    </tr>\n",
       "  </tbody>\n",
       "</table>\n",
       "</div>"
      ],
      "text/plain": [
       "  brand_name      laptop_name  ...              storage  weight\n",
       "0      Apple      MacBook Pro  ...            128GB SSD  1.37kg\n",
       "1      Apple      Macbook Air  ...               1.34kg    None\n",
       "2         HP           250 G6  ...               1.86kg    None\n",
       "3      Apple      MacBook Pro  ...            512GB SSD  1.83kg\n",
       "4      Apple      MacBook Pro  ...               1.37kg    None\n",
       "5       Acer         Aspire 3  ...                2.1kg    None\n",
       "6      Apple      MacBook Pro  ...  256GB Flash Storage  2.04kg\n",
       "7      Apple      Macbook Air  ...  256GB Flash Storage  1.34kg\n",
       "8       Asus  ZenBook UX430UN  ...                1.3kg    None\n",
       "9       Acer          Swift 3  ...                1.6kg    None\n",
       "\n",
       "[10 rows x 12 columns]"
      ]
     },
     "execution_count": 21,
     "metadata": {},
     "output_type": "execute_result"
    }
   ],
   "source": [
    "df.head(10)"
   ]
  },
  {
   "cell_type": "markdown",
   "metadata": {
    "id": "zrJKpWeVVu13"
   },
   "source": [
    "### Now we have discovered another problem!\n",
    "\n",
    "Take a look at <font color='red'>row 4</font>. Looks like some specifications were missing, and this has led to wrong data entry. As Category was missing, ram was encountered first, and hence the value of category became 8GB - which is incorrect. And this effect follows <font color='red'>all the way to the end</font>"
   ]
  },
  {
   "cell_type": "markdown",
   "metadata": {
    "id": "1yBJ-_KMVu14"
   },
   "source": [
    "#### We can fix this by writing better code\n",
    "Always remember, while performing web scraping, always try to look for exactly what you need! Don't be ambiguous in your search."
   ]
  },
  {
   "cell_type": "code",
   "execution_count": 22,
   "metadata": {
    "executionInfo": {
     "elapsed": 404,
     "status": "ok",
     "timestamp": 1637364587626,
     "user": {
      "displayName": "Bradford Tuckfield",
      "photoUrl": "https://lh3.googleusercontent.com/a/default-user=s64",
      "userId": "13000599021590462569"
     },
     "user_tz": 420
    },
    "id": "EAONHKWQVu14"
   },
   "outputs": [],
   "source": [
    "scraped_data = []\n",
    "for laptop in laptops_list:\n",
    "    \n",
    "    brandname = laptop.find('div', class_='brandname').text.strip()\n",
    "    laptopname = laptop.find('div', class_='laptopname').text.strip()\n",
    "    \n",
    "    try: rating = laptop.find('div', class_='rating').text.strip()\n",
    "    except AttributeError: rating = np.nan\n",
    "    \n",
    "    try: age = laptop.find('div', class_='age').text.strip()\n",
    "    except AttributeError: age = np.nan\n",
    "    \n",
    "    price = laptop.find('p', class_='listprice').text.strip()\n",
    "    disc = laptop.find('a', class_='discount').text.strip()\n",
    "    \n",
    "    # category, ram, processor, display, storage, weight = specs\n",
    "    try: category = laptop.find('b',class_='category').text.strip()\n",
    "    except AttributeError: category = np.nan\n",
    "\n",
    "    try: ram = laptop.find('b',class_='ram').text.strip()\n",
    "    except AttributeError: ram = np.nan\n",
    "\n",
    "    try: processor = laptop.find('b',class_='processor').text.strip()\n",
    "    except AttributeError: processor = np.nan\n",
    "\n",
    "    try: display = laptop.find('b',class_='display').text.strip()\n",
    "    except AttributeError: display = np.nan\n",
    "\n",
    "    try: storage = laptop.find('b',class_='storage').text.strip()\n",
    "    except AttributeError: storage = np.nan\n",
    "\n",
    "    try: weight = laptop.find('b',class_='weight').text.strip()\n",
    "    except AttributeError: weight = np.nan\n",
    "\n",
    "    # lets append the laptop's data into the list\n",
    "    scraped_data.append([brandname, laptopname, rating, age, price, disc] + \n",
    "                        [category, ram, processor, display, storage, weight])"
   ]
  },
  {
   "cell_type": "code",
   "execution_count": 23,
   "metadata": {
    "executionInfo": {
     "elapsed": 210,
     "status": "ok",
     "timestamp": 1637364600522,
     "user": {
      "displayName": "Bradford Tuckfield",
      "photoUrl": "https://lh3.googleusercontent.com/a/default-user=s64",
      "userId": "13000599021590462569"
     },
     "user_tz": 420
    },
    "id": "4i6MUoB8Vu14"
   },
   "outputs": [],
   "source": [
    "df = pd.DataFrame(data=scraped_data, columns=column_names)"
   ]
  },
  {
   "cell_type": "markdown",
   "metadata": {
    "id": "PE0NBfd8Vu15"
   },
   "source": [
    "Now you can see that this issue has been fixed. So, when writing web scraping code, always try to think ahead and prepare for changes that may occur to the webpage"
   ]
  },
  {
   "cell_type": "code",
   "execution_count": 24,
   "metadata": {
    "colab": {
     "base_uri": "https://localhost:8080/",
     "height": 597
    },
    "executionInfo": {
     "elapsed": 172,
     "status": "ok",
     "timestamp": 1637364608544,
     "user": {
      "displayName": "Bradford Tuckfield",
      "photoUrl": "https://lh3.googleusercontent.com/a/default-user=s64",
      "userId": "13000599021590462569"
     },
     "user_tz": 420
    },
    "id": "FTLjtfrhVu15",
    "outputId": "c59d1b03-32c3-4355-8ae6-081b50f1898a"
   },
   "outputs": [
    {
     "data": {
      "text/html": [
       "<div>\n",
       "<style scoped>\n",
       "    .dataframe tbody tr th:only-of-type {\n",
       "        vertical-align: middle;\n",
       "    }\n",
       "\n",
       "    .dataframe tbody tr th {\n",
       "        vertical-align: top;\n",
       "    }\n",
       "\n",
       "    .dataframe thead th {\n",
       "        text-align: right;\n",
       "    }\n",
       "</style>\n",
       "<table border=\"1\" class=\"dataframe\">\n",
       "  <thead>\n",
       "    <tr style=\"text-align: right;\">\n",
       "      <th></th>\n",
       "      <th>brand_name</th>\n",
       "      <th>laptop_name</th>\n",
       "      <th>rating</th>\n",
       "      <th>age</th>\n",
       "      <th>price</th>\n",
       "      <th>disc</th>\n",
       "      <th>category</th>\n",
       "      <th>ram</th>\n",
       "      <th>processor</th>\n",
       "      <th>display</th>\n",
       "      <th>storage</th>\n",
       "      <th>weight</th>\n",
       "    </tr>\n",
       "  </thead>\n",
       "  <tbody>\n",
       "    <tr>\n",
       "      <th>0</th>\n",
       "      <td>Apple</td>\n",
       "      <td>MacBook Pro</td>\n",
       "      <td>Rating: 4/5</td>\n",
       "      <td>NaN</td>\n",
       "      <td>$994</td>\n",
       "      <td>13%</td>\n",
       "      <td>Ultrabook</td>\n",
       "      <td>8GB</td>\n",
       "      <td>Intel Core i5 2.3GHz</td>\n",
       "      <td>IPS Panel Retina Display 2560x1600</td>\n",
       "      <td>128GB SSD</td>\n",
       "      <td>1.37kg</td>\n",
       "    </tr>\n",
       "    <tr>\n",
       "      <th>1</th>\n",
       "      <td>Apple</td>\n",
       "      <td>Macbook Air</td>\n",
       "      <td>Rating: 5/5</td>\n",
       "      <td>Age: 8 years</td>\n",
       "      <td>$929</td>\n",
       "      <td>5%</td>\n",
       "      <td>Ultrabook</td>\n",
       "      <td>8GB</td>\n",
       "      <td>Intel Core i5 1.8GHz</td>\n",
       "      <td>NaN</td>\n",
       "      <td>128GB Flash Storage</td>\n",
       "      <td>1.34kg</td>\n",
       "    </tr>\n",
       "    <tr>\n",
       "      <th>2</th>\n",
       "      <td>HP</td>\n",
       "      <td>250 G6</td>\n",
       "      <td>Rating: 4/5</td>\n",
       "      <td>Age: 8 years</td>\n",
       "      <td>$507</td>\n",
       "      <td>8%</td>\n",
       "      <td>Notebook</td>\n",
       "      <td>NaN</td>\n",
       "      <td>Intel Core i5 7200U 2.5GHz</td>\n",
       "      <td>Full HD 1920x1080</td>\n",
       "      <td>256GB SSD</td>\n",
       "      <td>1.86kg</td>\n",
       "    </tr>\n",
       "    <tr>\n",
       "      <th>3</th>\n",
       "      <td>Apple</td>\n",
       "      <td>MacBook Pro</td>\n",
       "      <td>Rating: 5/5</td>\n",
       "      <td>NaN</td>\n",
       "      <td>$566</td>\n",
       "      <td>12%</td>\n",
       "      <td>Ultrabook</td>\n",
       "      <td>16GB</td>\n",
       "      <td>Intel Core i7 2.7GHz</td>\n",
       "      <td>IPS Panel Retina Display 2880x1800</td>\n",
       "      <td>512GB SSD</td>\n",
       "      <td>1.83kg</td>\n",
       "    </tr>\n",
       "    <tr>\n",
       "      <th>4</th>\n",
       "      <td>Apple</td>\n",
       "      <td>MacBook Pro</td>\n",
       "      <td>Rating: 3.5/5</td>\n",
       "      <td>Age: 4 years</td>\n",
       "      <td>$529</td>\n",
       "      <td>5%</td>\n",
       "      <td>NaN</td>\n",
       "      <td>8GB</td>\n",
       "      <td>Intel Core i5 3.1GHz</td>\n",
       "      <td>IPS Panel Retina Display 2560x1600</td>\n",
       "      <td>256GB SSD</td>\n",
       "      <td>1.37kg</td>\n",
       "    </tr>\n",
       "    <tr>\n",
       "      <th>5</th>\n",
       "      <td>Acer</td>\n",
       "      <td>Aspire 3</td>\n",
       "      <td>Rating: 5/5</td>\n",
       "      <td>Age: 7 years</td>\n",
       "      <td>$580</td>\n",
       "      <td>15%</td>\n",
       "      <td>Notebook</td>\n",
       "      <td>4GB</td>\n",
       "      <td>AMD A9-Series 9420 3GHz</td>\n",
       "      <td>NaN</td>\n",
       "      <td>500GB HDD</td>\n",
       "      <td>2.1kg</td>\n",
       "    </tr>\n",
       "    <tr>\n",
       "      <th>6</th>\n",
       "      <td>Apple</td>\n",
       "      <td>MacBook Pro</td>\n",
       "      <td>Rating: 5/5</td>\n",
       "      <td>Age: 8 years</td>\n",
       "      <td>$892</td>\n",
       "      <td>5%</td>\n",
       "      <td>Ultrabook</td>\n",
       "      <td>16GB</td>\n",
       "      <td>Intel Core i7 2.2GHz</td>\n",
       "      <td>IPS Panel Retina Display 2880x1800</td>\n",
       "      <td>256GB Flash Storage</td>\n",
       "      <td>2.04kg</td>\n",
       "    </tr>\n",
       "    <tr>\n",
       "      <th>7</th>\n",
       "      <td>Apple</td>\n",
       "      <td>Macbook Air</td>\n",
       "      <td>NaN</td>\n",
       "      <td>Age: 4 years</td>\n",
       "      <td>$796</td>\n",
       "      <td>9%</td>\n",
       "      <td>Ultrabook</td>\n",
       "      <td>8GB</td>\n",
       "      <td>Intel Core i5 1.8GHz</td>\n",
       "      <td>1440x900</td>\n",
       "      <td>256GB Flash Storage</td>\n",
       "      <td>1.34kg</td>\n",
       "    </tr>\n",
       "    <tr>\n",
       "      <th>8</th>\n",
       "      <td>Asus</td>\n",
       "      <td>ZenBook UX430UN</td>\n",
       "      <td>Rating: 4.5/5</td>\n",
       "      <td>Age: 5 years</td>\n",
       "      <td>$686</td>\n",
       "      <td>4%</td>\n",
       "      <td>Ultrabook</td>\n",
       "      <td>NaN</td>\n",
       "      <td>Intel Core i7 8550U 1.8GHz</td>\n",
       "      <td>Full HD 1920x1080</td>\n",
       "      <td>512GB SSD</td>\n",
       "      <td>1.3kg</td>\n",
       "    </tr>\n",
       "    <tr>\n",
       "      <th>9</th>\n",
       "      <td>Acer</td>\n",
       "      <td>Swift 3</td>\n",
       "      <td>NaN</td>\n",
       "      <td>NaN</td>\n",
       "      <td>$358</td>\n",
       "      <td>10%</td>\n",
       "      <td>NaN</td>\n",
       "      <td>8GB</td>\n",
       "      <td>Intel Core i5 8250U 1.6GHz</td>\n",
       "      <td>IPS Panel Full HD 1920x1080</td>\n",
       "      <td>256GB SSD</td>\n",
       "      <td>1.6kg</td>\n",
       "    </tr>\n",
       "  </tbody>\n",
       "</table>\n",
       "</div>"
      ],
      "text/plain": [
       "  brand_name      laptop_name  ...              storage  weight\n",
       "0      Apple      MacBook Pro  ...            128GB SSD  1.37kg\n",
       "1      Apple      Macbook Air  ...  128GB Flash Storage  1.34kg\n",
       "2         HP           250 G6  ...            256GB SSD  1.86kg\n",
       "3      Apple      MacBook Pro  ...            512GB SSD  1.83kg\n",
       "4      Apple      MacBook Pro  ...            256GB SSD  1.37kg\n",
       "5       Acer         Aspire 3  ...            500GB HDD   2.1kg\n",
       "6      Apple      MacBook Pro  ...  256GB Flash Storage  2.04kg\n",
       "7      Apple      Macbook Air  ...  256GB Flash Storage  1.34kg\n",
       "8       Asus  ZenBook UX430UN  ...            512GB SSD   1.3kg\n",
       "9       Acer          Swift 3  ...            256GB SSD   1.6kg\n",
       "\n",
       "[10 rows x 12 columns]"
      ]
     },
     "execution_count": 24,
     "metadata": {},
     "output_type": "execute_result"
    }
   ],
   "source": [
    "df.head(10)"
   ]
  },
  {
   "cell_type": "markdown",
   "metadata": {
    "id": "8VWtAPxnVu15"
   },
   "source": [
    "--------------"
   ]
  }
 ],
 "metadata": {
  "colab": {
   "collapsed_sections": [],
   "name": "nb-05-exception_handling_cosmic_pc_store.ipynb",
   "provenance": []
  },
  "kernelspec": {
   "display_name": "Python 3 (ipykernel)",
   "language": "python",
   "name": "python3"
  },
  "language_info": {
   "codemirror_mode": {
    "name": "ipython",
    "version": 3
   },
   "file_extension": ".py",
   "mimetype": "text/x-python",
   "name": "python",
   "nbconvert_exporter": "python",
   "pygments_lexer": "ipython3",
   "version": "3.9.7"
  }
 },
 "nbformat": 4,
 "nbformat_minor": 1
}
