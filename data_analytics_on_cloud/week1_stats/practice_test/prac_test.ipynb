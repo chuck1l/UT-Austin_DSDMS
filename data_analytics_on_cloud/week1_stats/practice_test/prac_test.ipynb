{
 "cells": [
  {
   "cell_type": "code",
   "execution_count": 11,
   "id": "422802ed",
   "metadata": {},
   "outputs": [],
   "source": [
    "# Libraries to help with reading and manipulating data\n",
    "import pandas as pd\n",
    "import numpy as np\n",
    "\n",
    "# Libraries to help with data visualization\n",
    "import seaborn as sns\n",
    "import matplotlib.pyplot as plt\n",
    "%matplotlib inline\n",
    "\n",
    "# Library to help with statistical analysis\n",
    "from scipy.stats import *\n",
    "import statsmodels.stats as sm\n",
    "import statistics as stats\n",
    "from random import sample\n"
   ]
  },
  {
   "cell_type": "code",
   "execution_count": 12,
   "id": "bd5876f9",
   "metadata": {},
   "outputs": [],
   "source": [
    "df = pd.read_csv('students.csv')"
   ]
  },
  {
   "cell_type": "code",
   "execution_count": 13,
   "id": "5f96af54",
   "metadata": {},
   "outputs": [
    {
     "data": {
      "text/html": [
       "<div>\n",
       "<style scoped>\n",
       "    .dataframe tbody tr th:only-of-type {\n",
       "        vertical-align: middle;\n",
       "    }\n",
       "\n",
       "    .dataframe tbody tr th {\n",
       "        vertical-align: top;\n",
       "    }\n",
       "\n",
       "    .dataframe thead th {\n",
       "        text-align: right;\n",
       "    }\n",
       "</style>\n",
       "<table border=\"1\" class=\"dataframe\">\n",
       "  <thead>\n",
       "    <tr style=\"text-align: right;\">\n",
       "      <th></th>\n",
       "      <th>gender</th>\n",
       "      <th>parental_level_of_education</th>\n",
       "      <th>taken_test_preparation_course</th>\n",
       "      <th>maths_score</th>\n",
       "      <th>reading_score</th>\n",
       "      <th>writing_score</th>\n",
       "      <th>overall_score</th>\n",
       "    </tr>\n",
       "  </thead>\n",
       "  <tbody>\n",
       "    <tr>\n",
       "      <th>0</th>\n",
       "      <td>male</td>\n",
       "      <td>high school</td>\n",
       "      <td>no</td>\n",
       "      <td>73</td>\n",
       "      <td>74</td>\n",
       "      <td>74</td>\n",
       "      <td>73.67</td>\n",
       "    </tr>\n",
       "    <tr>\n",
       "      <th>1</th>\n",
       "      <td>female</td>\n",
       "      <td>high school</td>\n",
       "      <td>no</td>\n",
       "      <td>71</td>\n",
       "      <td>62</td>\n",
       "      <td>68</td>\n",
       "      <td>67.00</td>\n",
       "    </tr>\n",
       "    <tr>\n",
       "      <th>2</th>\n",
       "      <td>male</td>\n",
       "      <td>bachelor's degree</td>\n",
       "      <td>yes</td>\n",
       "      <td>87</td>\n",
       "      <td>92</td>\n",
       "      <td>89</td>\n",
       "      <td>89.33</td>\n",
       "    </tr>\n",
       "    <tr>\n",
       "      <th>3</th>\n",
       "      <td>female</td>\n",
       "      <td>high school</td>\n",
       "      <td>no</td>\n",
       "      <td>63</td>\n",
       "      <td>62</td>\n",
       "      <td>58</td>\n",
       "      <td>61.00</td>\n",
       "    </tr>\n",
       "    <tr>\n",
       "      <th>4</th>\n",
       "      <td>female</td>\n",
       "      <td>high school</td>\n",
       "      <td>no</td>\n",
       "      <td>60</td>\n",
       "      <td>66</td>\n",
       "      <td>66</td>\n",
       "      <td>64.00</td>\n",
       "    </tr>\n",
       "  </tbody>\n",
       "</table>\n",
       "</div>"
      ],
      "text/plain": [
       "   gender parental_level_of_education taken_test_preparation_course  \\\n",
       "0    male                 high school                            no   \n",
       "1  female                 high school                            no   \n",
       "2    male           bachelor's degree                           yes   \n",
       "3  female                 high school                            no   \n",
       "4  female                 high school                            no   \n",
       "\n",
       "   maths_score  reading_score  writing_score  overall_score  \n",
       "0           73             74             74          73.67  \n",
       "1           71             62             68          67.00  \n",
       "2           87             92             89          89.33  \n",
       "3           63             62             58          61.00  \n",
       "4           60             66             66          64.00  "
      ]
     },
     "execution_count": 13,
     "metadata": {},
     "output_type": "execute_result"
    }
   ],
   "source": [
    "df.head()"
   ]
  },
  {
   "cell_type": "code",
   "execution_count": 14,
   "id": "6760949b",
   "metadata": {},
   "outputs": [
    {
     "data": {
      "text/plain": [
       "count    100.000000\n",
       "mean      68.450000\n",
       "std       14.240627\n",
       "min       36.000000\n",
       "25%       57.750000\n",
       "50%       69.000000\n",
       "75%       78.250000\n",
       "max      100.000000\n",
       "Name: maths_score, dtype: float64"
      ]
     },
     "execution_count": 14,
     "metadata": {},
     "output_type": "execute_result"
    }
   ],
   "source": [
    "df['maths_score'].describe()"
   ]
  },
  {
   "cell_type": "code",
   "execution_count": 15,
   "id": "d8779089",
   "metadata": {},
   "outputs": [
    {
     "data": {
      "text/html": [
       "<div>\n",
       "<style scoped>\n",
       "    .dataframe tbody tr th:only-of-type {\n",
       "        vertical-align: middle;\n",
       "    }\n",
       "\n",
       "    .dataframe tbody tr th {\n",
       "        vertical-align: top;\n",
       "    }\n",
       "\n",
       "    .dataframe thead th {\n",
       "        text-align: right;\n",
       "    }\n",
       "</style>\n",
       "<table border=\"1\" class=\"dataframe\">\n",
       "  <thead>\n",
       "    <tr style=\"text-align: right;\">\n",
       "      <th></th>\n",
       "      <th>maths_score</th>\n",
       "      <th>reading_score</th>\n",
       "      <th>writing_score</th>\n",
       "      <th>overall_score</th>\n",
       "    </tr>\n",
       "  </thead>\n",
       "  <tbody>\n",
       "    <tr>\n",
       "      <th>count</th>\n",
       "      <td>100.000000</td>\n",
       "      <td>100.000000</td>\n",
       "      <td>100.000000</td>\n",
       "      <td>100.000000</td>\n",
       "    </tr>\n",
       "    <tr>\n",
       "      <th>mean</th>\n",
       "      <td>68.450000</td>\n",
       "      <td>70.800000</td>\n",
       "      <td>69.650000</td>\n",
       "      <td>69.633500</td>\n",
       "    </tr>\n",
       "    <tr>\n",
       "      <th>std</th>\n",
       "      <td>14.240627</td>\n",
       "      <td>13.586238</td>\n",
       "      <td>13.567173</td>\n",
       "      <td>13.099381</td>\n",
       "    </tr>\n",
       "    <tr>\n",
       "      <th>min</th>\n",
       "      <td>36.000000</td>\n",
       "      <td>35.000000</td>\n",
       "      <td>33.000000</td>\n",
       "      <td>38.000000</td>\n",
       "    </tr>\n",
       "    <tr>\n",
       "      <th>25%</th>\n",
       "      <td>57.750000</td>\n",
       "      <td>61.750000</td>\n",
       "      <td>60.750000</td>\n",
       "      <td>61.000000</td>\n",
       "    </tr>\n",
       "    <tr>\n",
       "      <th>50%</th>\n",
       "      <td>69.000000</td>\n",
       "      <td>71.000000</td>\n",
       "      <td>69.500000</td>\n",
       "      <td>69.330000</td>\n",
       "    </tr>\n",
       "    <tr>\n",
       "      <th>75%</th>\n",
       "      <td>78.250000</td>\n",
       "      <td>81.000000</td>\n",
       "      <td>80.000000</td>\n",
       "      <td>78.752500</td>\n",
       "    </tr>\n",
       "    <tr>\n",
       "      <th>max</th>\n",
       "      <td>100.000000</td>\n",
       "      <td>100.000000</td>\n",
       "      <td>100.000000</td>\n",
       "      <td>99.000000</td>\n",
       "    </tr>\n",
       "  </tbody>\n",
       "</table>\n",
       "</div>"
      ],
      "text/plain": [
       "       maths_score  reading_score  writing_score  overall_score\n",
       "count   100.000000     100.000000     100.000000     100.000000\n",
       "mean     68.450000      70.800000      69.650000      69.633500\n",
       "std      14.240627      13.586238      13.567173      13.099381\n",
       "min      36.000000      35.000000      33.000000      38.000000\n",
       "25%      57.750000      61.750000      60.750000      61.000000\n",
       "50%      69.000000      71.000000      69.500000      69.330000\n",
       "75%      78.250000      81.000000      80.000000      78.752500\n",
       "max     100.000000     100.000000     100.000000      99.000000"
      ]
     },
     "execution_count": 15,
     "metadata": {},
     "output_type": "execute_result"
    }
   ],
   "source": [
    "df.describe()"
   ]
  },
  {
   "cell_type": "code",
   "execution_count": 16,
   "id": "aa2493d6",
   "metadata": {},
   "outputs": [
    {
     "data": {
      "text/plain": [
       "13.337955318115561"
      ]
     },
     "execution_count": 16,
     "metadata": {},
     "output_type": "execute_result"
    }
   ],
   "source": [
    "df[df['taken_test_preparation_course']=='yes']['overall_score'].mean()-df[df['taken_test_preparation_course']=='no']['overall_score'].mean()"
   ]
  },
  {
   "cell_type": "code",
   "execution_count": 17,
   "id": "6db5d75e",
   "metadata": {},
   "outputs": [
    {
     "data": {
      "text/plain": [
       "61.0"
      ]
     },
     "execution_count": 17,
     "metadata": {},
     "output_type": "execute_result"
    }
   ],
   "source": [
    "df['overall_score'].max()-df['overall_score'].min()"
   ]
  },
  {
   "cell_type": "code",
   "execution_count": 18,
   "id": "f29eb0c6",
   "metadata": {},
   "outputs": [
    {
     "data": {
      "text/plain": [
       "parental_level_of_education\n",
       "associate's degree    72.728125\n",
       "bachelor's degree     73.834000\n",
       "high school           69.619388\n",
       "master's degree       71.477143\n",
       "some high school      63.870556\n",
       "Name: overall_score, dtype: float64"
      ]
     },
     "execution_count": 18,
     "metadata": {},
     "output_type": "execute_result"
    }
   ],
   "source": [
    "df.groupby('parental_level_of_education')['overall_score'].mean()"
   ]
  },
  {
   "cell_type": "code",
   "execution_count": 21,
   "id": "d4248e29",
   "metadata": {},
   "outputs": [
    {
     "name": "stdout",
     "output_type": "stream",
     "text": [
      "males = 205.95625942684765 and females = 165.27482269503545\n"
     ]
    }
   ],
   "source": [
    "males = stats.variance(df[df['gender']=='male']['reading_score'])\n",
    "females = stats.variance(df[df['gender']=='female']['reading_score'])\n",
    "print(f'males = {males} and females = {females}')"
   ]
  },
  {
   "cell_type": "code",
   "execution_count": 26,
   "id": "bb617e2c",
   "metadata": {},
   "outputs": [
    {
     "data": {
      "image/png": "[encoded data removed]",
      "text/plain": [
       "<Figure size 432x288 with 1 Axes>"
      ]
     },
     "metadata": {
      "needs_background": "light"
     },
     "output_type": "display_data"
    }
   ],
   "source": [
    "sns.scatterplot(data=df, x='reading_score',y='writing_score')\n",
    "plt.show()\n"
   ]
  },
  {
   "cell_type": "code",
   "execution_count": 28,
   "id": "16446a97",
   "metadata": {},
   "outputs": [],
   "source": [
    "math = np.corrcoef(df['overall_score'], df['maths_score'])[0,1]\n",
    "reading = np.corrcoef(df['overall_score'], df['reading_score'])[0,1]\n",
    "writing = np.corrcoef(df['overall_score'], df['writing_score'])[0,1]"
   ]
  },
  {
   "cell_type": "code",
   "execution_count": 30,
   "id": "da3d8d09",
   "metadata": {},
   "outputs": [
    {
     "name": "stdout",
     "output_type": "stream",
     "text": [
      "math = 0.9211918075949033\n",
      "reading = 0.9650840846876609\n",
      "writing = 0.9631921979655836\n"
     ]
    }
   ],
   "source": [
    "print(f'math = {math}')\n",
    "print(f'reading = {reading}')\n",
    "print(f'writing = {writing}')"
   ]
  },
  {
   "cell_type": "code",
   "execution_count": 33,
   "id": "cd0c4b30",
   "metadata": {},
   "outputs": [],
   "source": [
    "x_bar = df['overall_score'].mean()\n",
    "std_dev = df['overall_score'].std()"
   ]
  },
  {
   "cell_type": "code",
   "execution_count": 36,
   "id": "53a62340",
   "metadata": {},
   "outputs": [
    {
     "name": "stdout",
     "output_type": "stream",
     "text": [
      "mean = 69.6335, and std_dev = 13.099380845496235\n"
     ]
    }
   ],
   "source": [
    "print(f'mean = {x_bar}, and std_dev = {std_dev}')"
   ]
  },
  {
   "cell_type": "code",
   "execution_count": 37,
   "id": "aec7210c",
   "metadata": {},
   "outputs": [
    {
     "name": "stdout",
     "output_type": "stream",
     "text": [
      "Test Statistic = -0.27978421600438497\n",
      "p-value = 0.39011339630356945\n"
     ]
    }
   ],
   "source": [
    "t_stat, p_value = ttest_1samp(df['overall_score'], 70, alternative='less')\n",
    "\n",
    "print(\"Test Statistic =\",t_stat)\n",
    "print(\"p-value =\",p_value)"
   ]
  },
  {
   "cell_type": "code",
   "execution_count": 38,
   "id": "c405eb49",
   "metadata": {},
   "outputs": [
    {
     "data": {
      "text/plain": [
       "0.033806170189140665"
      ]
     },
     "execution_count": 38,
     "metadata": {},
     "output_type": "execute_result"
    }
   ],
   "source": [
    ".2/np.sqrt(35)"
   ]
  },
  {
   "cell_type": "code",
   "execution_count": 40,
   "id": "d5c54483",
   "metadata": {},
   "outputs": [
    {
     "data": {
      "text/plain": [
       "171.59377853535355"
      ]
     },
     "execution_count": 40,
     "metadata": {},
     "output_type": "execute_result"
    }
   ],
   "source": [
    "stats.variance(df['overall_score'])"
   ]
  },
  {
   "cell_type": "code",
   "execution_count": 41,
   "id": "838659bd",
   "metadata": {},
   "outputs": [
    {
     "ename": "AttributeError",
     "evalue": "module 'statistics' has no attribute 'cov'",
     "output_type": "error",
     "traceback": [
      "\u001b[0;31m---------------------------------------------------------------------------\u001b[0m",
      "\u001b[0;31mAttributeError\u001b[0m                            Traceback (most recent call last)",
      "\u001b[0;32m/var/folders/pl/pyzly9ns0tsg1m113w9rhxvw0000gn/T/ipykernel_1720/3568652844.py\u001b[0m in \u001b[0;36m<module>\u001b[0;34m\u001b[0m\n\u001b[0;32m----> 1\u001b[0;31m \u001b[0mstats\u001b[0m\u001b[0;34m.\u001b[0m\u001b[0mcov\u001b[0m\u001b[0;34m(\u001b[0m\u001b[0mdf\u001b[0m\u001b[0;34m[\u001b[0m\u001b[0;34m'overall_score'\u001b[0m\u001b[0;34m]\u001b[0m\u001b[0;34m,\u001b[0m \u001b[0mdf\u001b[0m\u001b[0;34m[\u001b[0m\u001b[0;34m'overall_score'\u001b[0m\u001b[0;34m]\u001b[0m\u001b[0;34m)\u001b[0m\u001b[0;34m\u001b[0m\u001b[0;34m\u001b[0m\u001b[0m\n\u001b[0m",
      "\u001b[0;31mAttributeError\u001b[0m: module 'statistics' has no attribute 'cov'"
     ]
    }
   ],
   "source": [
    "stats.cov(df['overall_score'], df['overall_score'])"
   ]
  },
  {
   "cell_type": "code",
   "execution_count": null,
   "id": "c624a299",
   "metadata": {},
   "outputs": [],
   "source": []
  }
 ],
 "metadata": {
  "kernelspec": {
   "display_name": "Python 3 (ipykernel)",
   "language": "python",
   "name": "python3"
  },
  "language_info": {
   "codemirror_mode": {
    "name": "ipython",
    "version": 3
   },
   "file_extension": ".py",
   "mimetype": "text/x-python",
   "name": "python",
   "nbconvert_exporter": "python",
   "pygments_lexer": "ipython3",
   "version": "3.9.7"
  }
 },
 "nbformat": 4,
 "nbformat_minor": 5
}
