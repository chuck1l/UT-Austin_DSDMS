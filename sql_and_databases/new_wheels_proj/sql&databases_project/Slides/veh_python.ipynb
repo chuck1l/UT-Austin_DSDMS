{
 "cells": [
  {
   "cell_type": "markdown",
   "id": "a30674a5",
   "metadata": {},
   "source": [
    "# New Wheels Vehicle Sale Project: Lawrence Williams\n",
    "#### Sunday March 27, 2022"
   ]
  },
  {
   "cell_type": "code",
   "execution_count": 1,
   "id": "a8848ca0",
   "metadata": {},
   "outputs": [],
   "source": [
    "# Import the packages for the notebook\n",
    "import pandas as pd\n",
    "import numpy as np\n",
    "import matplotlib.pyplot as plt\n",
    "import seaborn as sns\n",
    "sns.set_theme(style=\"whitegrid\")\n",
    "sns.set(font_scale=1.25)"
   ]
  },
  {
   "cell_type": "markdown",
   "id": "ece46c2c",
   "metadata": {},
   "source": [
    "### Reading in the data just to get a view before starting DDL and Ingestion"
   ]
  },
  {
   "cell_type": "code",
   "execution_count": 2,
   "id": "31b4e8b7",
   "metadata": {},
   "outputs": [],
   "source": [
    "df1 = pd.read_csv('../Data/new_wheels_sales_qtr_1.csv')\n",
    "df2 = pd.read_csv('../Data/new_wheels_sales_qtr_2.csv')\n",
    "df3 = pd.read_csv('../Data/new_wheels_sales_qtr_3.csv')\n",
    "df4 = pd.read_csv('../Data/new_wheels_sales_qtr_4.csv')"
   ]
  },
  {
   "cell_type": "code",
   "execution_count": 3,
   "id": "f25a55f1",
   "metadata": {},
   "outputs": [
    {
     "data": {
      "text/plain": [
       "1000"
      ]
     },
     "execution_count": 3,
     "metadata": {},
     "output_type": "execute_result"
    }
   ],
   "source": [
    "df1.shape[0]+df2.shape[0]+df3.shape[0]+df4.shape[0]"
   ]
  },
  {
   "cell_type": "code",
   "execution_count": 4,
   "id": "0659a2aa",
   "metadata": {},
   "outputs": [
    {
     "data": {
      "text/plain": [
       "(1000, 31)"
      ]
     },
     "execution_count": 4,
     "metadata": {},
     "output_type": "execute_result"
    }
   ],
   "source": [
    "# Bring the dataframes together\n",
    "df = pd.concat([df1,df2,df3,df4], ignore_index=True)\n",
    "df.shape"
   ]
  },
  {
   "cell_type": "markdown",
   "id": "08773f55",
   "metadata": {},
   "source": [
    "### Looking at the data and running some tests to validate SQL logic, in python\n",
    "#### Obviously couldn't do this with a much larger dataset, but I would take a subsample to compare/contrast in actual practice. Developing data piplines/archtecture. "
   ]
  },
  {
   "cell_type": "code",
   "execution_count": 5,
   "id": "73f8d577",
   "metadata": {},
   "outputs": [
    {
     "name": "stdout",
     "output_type": "stream",
     "text": [
      "<class 'pandas.core.frame.DataFrame'>\n",
      "RangeIndex: 1000 entries, 0 to 999\n",
      "Data columns (total 31 columns):\n",
      " #   Column                   Non-Null Count  Dtype  \n",
      "---  ------                   --------------  -----  \n",
      " 0   shipper_id               1000 non-null   int64  \n",
      " 1   shipper_name             1000 non-null   object \n",
      " 2   shipper_contact_details  1000 non-null   object \n",
      " 3   product_id               1000 non-null   int64  \n",
      " 4   vehicle_maker            1000 non-null   object \n",
      " 5   vehicle_model            1000 non-null   object \n",
      " 6   vehicle_color            1000 non-null   object \n",
      " 7   vehicle_model_year       1000 non-null   int64  \n",
      " 8   vehicle_price            1000 non-null   float64\n",
      " 9   quantity                 1000 non-null   int64  \n",
      " 10  discount                 1000 non-null   float64\n",
      " 11  customer_id              1000 non-null   object \n",
      " 12  customer_name            1000 non-null   object \n",
      " 13  gender                   1000 non-null   object \n",
      " 14  job_title                1000 non-null   object \n",
      " 15  phone_number             1000 non-null   object \n",
      " 16  email_address            1000 non-null   object \n",
      " 17  city                     1000 non-null   object \n",
      " 18  country                  1000 non-null   object \n",
      " 19  state                    1000 non-null   object \n",
      " 20  customer_address         1000 non-null   object \n",
      " 21  order_date               1000 non-null   object \n",
      " 22  order_id                 1000 non-null   object \n",
      " 23  ship_date                1000 non-null   object \n",
      " 24  ship_mode                1000 non-null   object \n",
      " 25  shipping                 1000 non-null   object \n",
      " 26  postal_code              1000 non-null   int64  \n",
      " 27  credit_card_type         1000 non-null   object \n",
      " 28  credit_card_number       1000 non-null   float64\n",
      " 29  customer_feedback        1000 non-null   object \n",
      " 30  quarter_number           1000 non-null   int64  \n",
      "dtypes: float64(3), int64(6), object(22)\n",
      "memory usage: 242.3+ KB\n"
     ]
    }
   ],
   "source": [
    "df.info()"
   ]
  },
  {
   "cell_type": "code",
   "execution_count": 6,
   "id": "ec69c808",
   "metadata": {},
   "outputs": [
    {
     "data": {
      "text/html": [
       "<div>\n",
       "<style scoped>\n",
       "    .dataframe tbody tr th:only-of-type {\n",
       "        vertical-align: middle;\n",
       "    }\n",
       "\n",
       "    .dataframe tbody tr th {\n",
       "        vertical-align: top;\n",
       "    }\n",
       "\n",
       "    .dataframe thead th {\n",
       "        text-align: right;\n",
       "    }\n",
       "</style>\n",
       "<table border=\"1\" class=\"dataframe\">\n",
       "  <thead>\n",
       "    <tr style=\"text-align: right;\">\n",
       "      <th></th>\n",
       "      <th>state</th>\n",
       "      <th>customer_id</th>\n",
       "    </tr>\n",
       "  </thead>\n",
       "  <tbody>\n",
       "    <tr>\n",
       "      <th>41</th>\n",
       "      <td>Texas</td>\n",
       "      <td>97</td>\n",
       "    </tr>\n",
       "    <tr>\n",
       "      <th>4</th>\n",
       "      <td>California</td>\n",
       "      <td>97</td>\n",
       "    </tr>\n",
       "    <tr>\n",
       "      <th>9</th>\n",
       "      <td>Florida</td>\n",
       "      <td>86</td>\n",
       "    </tr>\n",
       "    <tr>\n",
       "      <th>32</th>\n",
       "      <td>New York</td>\n",
       "      <td>69</td>\n",
       "    </tr>\n",
       "    <tr>\n",
       "      <th>8</th>\n",
       "      <td>District of Columbia</td>\n",
       "      <td>35</td>\n",
       "    </tr>\n",
       "  </tbody>\n",
       "</table>\n",
       "</div>"
      ],
      "text/plain": [
       "                   state  customer_id\n",
       "41                 Texas           97\n",
       "4             California           97\n",
       "9                Florida           86\n",
       "32              New York           69\n",
       "8   District of Columbia           35"
      ]
     },
     "execution_count": 6,
     "metadata": {},
     "output_type": "execute_result"
    }
   ],
   "source": [
    "# Validating question 1\n",
    "q1_validate = df.groupby('state')['customer_id'].nunique().reset_index()\n",
    "q1_validate = q1_validate.sort_values('customer_id', ascending=False)\n",
    "q1_validate.head(5)"
   ]
  },
  {
   "cell_type": "code",
   "execution_count": 7,
   "id": "5baa9b2d",
   "metadata": {},
   "outputs": [],
   "source": [
    "# Creating our numeric feedback and revenue similarly to the SQL logic used\n",
    "conditions = [\n",
    "    df['customer_feedback']=='Very Bad',\n",
    "    df['customer_feedback']=='Bad',\n",
    "    df['customer_feedback']=='Okay',\n",
    "    df['customer_feedback']=='Good',\n",
    "    df['customer_feedback']=='Very Good'\n",
    "]\n",
    "values = [1,2,3,4,5]\n",
    "df['numeric_feedback'] = np.select(conditions, values)\n",
    "\n",
    "df['revenue'] = df['vehicle_price'] * (df['discount']/100)"
   ]
  },
  {
   "cell_type": "code",
   "execution_count": 8,
   "id": "718af975",
   "metadata": {},
   "outputs": [
    {
     "data": {
      "text/plain": [
       "quarter_number\n",
       "1    3.55\n",
       "2    3.35\n",
       "3    2.96\n",
       "4    2.40\n",
       "Name: numeric_feedback, dtype: float64"
      ]
     },
     "execution_count": 8,
     "metadata": {},
     "output_type": "execute_result"
    }
   ],
   "source": [
    "# Validating question 2\n",
    "q2_validate = df.groupby('quarter_number')['numeric_feedback'].mean().round(2)\n",
    "q2_validate"
   ]
  },
  {
   "cell_type": "code",
   "execution_count": 9,
   "id": "e5b54ea7",
   "metadata": {},
   "outputs": [
    {
     "data": {
      "text/plain": [
       "state      vehicle_maker\n",
       "Alabama    Buick            1\n",
       "           Chevrolet        2\n",
       "           Dodge            5\n",
       "           Ford             3\n",
       "           Honda            1\n",
       "                           ..\n",
       "Wisconsin  Honda            1\n",
       "           Mazda            1\n",
       "           Nissan           1\n",
       "           Pontiac          1\n",
       "Wyoming    Buick            1\n",
       "Name: order_id, Length: 624, dtype: int64"
      ]
     },
     "execution_count": 9,
     "metadata": {},
     "output_type": "execute_result"
    }
   ],
   "source": [
    "# Validating question 5\n",
    "q5_validate = df.groupby(['state', 'vehicle_maker'])['order_id'].count()\n",
    "q5_validate"
   ]
  },
  {
   "cell_type": "code",
   "execution_count": 10,
   "id": "22b4874e",
   "metadata": {},
   "outputs": [
    {
     "data": {
      "text/html": [
       "<div>\n",
       "<style scoped>\n",
       "    .dataframe tbody tr th:only-of-type {\n",
       "        vertical-align: middle;\n",
       "    }\n",
       "\n",
       "    .dataframe tbody tr th {\n",
       "        vertical-align: top;\n",
       "    }\n",
       "\n",
       "    .dataframe thead th {\n",
       "        text-align: right;\n",
       "    }\n",
       "</style>\n",
       "<table border=\"1\" class=\"dataframe\">\n",
       "  <thead>\n",
       "    <tr style=\"text-align: right;\">\n",
       "      <th></th>\n",
       "      <th>vehicle_maker</th>\n",
       "      <th>order_id</th>\n",
       "    </tr>\n",
       "  </thead>\n",
       "  <tbody>\n",
       "    <tr>\n",
       "      <th>8</th>\n",
       "      <td>Chevrolet</td>\n",
       "      <td>83</td>\n",
       "    </tr>\n",
       "    <tr>\n",
       "      <th>15</th>\n",
       "      <td>Ford</td>\n",
       "      <td>63</td>\n",
       "    </tr>\n",
       "    <tr>\n",
       "      <th>51</th>\n",
       "      <td>Toyota</td>\n",
       "      <td>52</td>\n",
       "    </tr>\n",
       "    <tr>\n",
       "      <th>42</th>\n",
       "      <td>Pontiac</td>\n",
       "      <td>50</td>\n",
       "    </tr>\n",
       "    <tr>\n",
       "      <th>12</th>\n",
       "      <td>Dodge</td>\n",
       "      <td>50</td>\n",
       "    </tr>\n",
       "  </tbody>\n",
       "</table>\n",
       "</div>"
      ],
      "text/plain": [
       "   vehicle_maker  order_id\n",
       "8      Chevrolet        83\n",
       "15          Ford        63\n",
       "51        Toyota        52\n",
       "42       Pontiac        50\n",
       "12         Dodge        50"
      ]
     },
     "execution_count": 10,
     "metadata": {},
     "output_type": "execute_result"
    }
   ],
   "source": [
    "# Validating question 4\n",
    "q4_validate = df.groupby('vehicle_maker')['order_id'].count().reset_index()\n",
    "q4_validate = q4_validate.sort_values('order_id', ascending=False).head(5)\n",
    "q4_validate"
   ]
  },
  {
   "cell_type": "markdown",
   "id": "04e1dcc9",
   "metadata": {},
   "source": [
    "### I am confident in my validated SQL results now. I will move on to creating the visualizations for results. Starting with reading in all of my SQL results saved as csv files.\n"
   ]
  },
  {
   "cell_type": "code",
   "execution_count": 34,
   "id": "109d2247",
   "metadata": {},
   "outputs": [],
   "source": [
    "sql_q1 = pd.read_csv('../data/q1_results.csv')\n",
    "sql_q2 = pd.read_csv('../data/q2_results.csv')\n",
    "sql_q3 = pd.read_csv('../data/q3_results.csv')\n",
    "sql_q3b = pd.read_csv('../data/q3b_results.csv')\n",
    "sql_q4 = pd.read_csv('../data/q4_results.csv')\n",
    "sql_q5 = pd.read_csv('../data/q5_results.csv')\n",
    "sql_q6 = pd.read_csv('../data/q6_results.csv')\n",
    "sql_q7 = pd.read_csv('../data/q7_results.csv')\n",
    "sql_q8 = pd.read_csv('../data/q8_results.csv')\n",
    "sql_q9 = pd.read_csv('../data/q9_results.csv')\n",
    "sql_q10 = pd.read_csv('../data/q10_results.csv')"
   ]
  },
  {
   "cell_type": "code",
   "execution_count": 12,
   "id": "5390115b",
   "metadata": {},
   "outputs": [
    {
     "name": "stdout",
     "output_type": "stream",
     "text": [
      "revenue:  509570.01\n",
      "Q4 revenue:  97634.94\n",
      "avg rating:  3.13\n",
      "%Good FB:  0.44\n"
     ]
    }
   ],
   "source": [
    "# Start with the overview\n",
    "print('revenue: ',round(df['revenue'].sum(),2))\n",
    "print('Q4 revenue: ',round(df[df['quarter_number']==4]['revenue'].sum(),2))\n",
    "print('avg rating: ',round(df['numeric_feedback'].mean(),2))\n",
    "print('%Good FB: ',round(df[df['numeric_feedback']>3].shape[0]/df.shape[0],2))"
   ]
  },
  {
   "cell_type": "code",
   "execution_count": 13,
   "id": "9b631449",
   "metadata": {},
   "outputs": [
    {
     "data": {
      "text/html": [
       "<div>\n",
       "<style scoped>\n",
       "    .dataframe tbody tr th:only-of-type {\n",
       "        vertical-align: middle;\n",
       "    }\n",
       "\n",
       "    .dataframe tbody tr th {\n",
       "        vertical-align: top;\n",
       "    }\n",
       "\n",
       "    .dataframe thead th {\n",
       "        text-align: right;\n",
       "    }\n",
       "</style>\n",
       "<table border=\"1\" class=\"dataframe\">\n",
       "  <thead>\n",
       "    <tr style=\"text-align: right;\">\n",
       "      <th></th>\n",
       "      <th>Market</th>\n",
       "      <th>Customer Count</th>\n",
       "    </tr>\n",
       "  </thead>\n",
       "  <tbody>\n",
       "    <tr>\n",
       "      <th>0</th>\n",
       "      <td>Texas</td>\n",
       "      <td>97</td>\n",
       "    </tr>\n",
       "    <tr>\n",
       "      <th>1</th>\n",
       "      <td>California</td>\n",
       "      <td>97</td>\n",
       "    </tr>\n",
       "    <tr>\n",
       "      <th>2</th>\n",
       "      <td>Florida</td>\n",
       "      <td>86</td>\n",
       "    </tr>\n",
       "    <tr>\n",
       "      <th>3</th>\n",
       "      <td>New York</td>\n",
       "      <td>69</td>\n",
       "    </tr>\n",
       "    <tr>\n",
       "      <th>4</th>\n",
       "      <td>District of Columbia</td>\n",
       "      <td>35</td>\n",
       "    </tr>\n",
       "  </tbody>\n",
       "</table>\n",
       "</div>"
      ],
      "text/plain": [
       "                 Market  Customer Count\n",
       "0                 Texas              97\n",
       "1            California              97\n",
       "2               Florida              86\n",
       "3              New York              69\n",
       "4  District of Columbia              35"
      ]
     },
     "execution_count": 13,
     "metadata": {},
     "output_type": "execute_result"
    }
   ],
   "source": [
    "# Renaming columns to make visuals prettier\n",
    "sql_q1.rename(columns={'STATE':'Market', 'customer_count':'Customer Count'}, inplace=True)\n",
    "sql_q1.head()"
   ]
  },
  {
   "cell_type": "code",
   "execution_count": 14,
   "id": "c0220793",
   "metadata": {},
   "outputs": [
    {
     "data": {
      "image/png": "[encoded data removed]",
      "text/plain": [
       "<Figure size 432x288 with 1 Axes>"
      ]
     },
     "metadata": {},
     "output_type": "display_data"
    }
   ],
   "source": [
    "# Plot the distribution of customers across states from the SQL results question 1\n",
    "\n",
    "ax_q1 = sns.barplot(x=\"Market\", y=\"Customer Count\", data=sql_q1.head())\n",
    "ax_q1.set(title='Distribution of Customers: Top 5')\n",
    "ax_q1.set_xticklabels(ax_q1.get_xticklabels(),rotation = 30)\n",
    "plt.show()"
   ]
  },
  {
   "cell_type": "code",
   "execution_count": 15,
   "id": "17243408",
   "metadata": {},
   "outputs": [
    {
     "data": {
      "text/html": [
       "<div>\n",
       "<style scoped>\n",
       "    .dataframe tbody tr th:only-of-type {\n",
       "        vertical-align: middle;\n",
       "    }\n",
       "\n",
       "    .dataframe tbody tr th {\n",
       "        vertical-align: top;\n",
       "    }\n",
       "\n",
       "    .dataframe thead th {\n",
       "        text-align: right;\n",
       "    }\n",
       "</style>\n",
       "<table border=\"1\" class=\"dataframe\">\n",
       "  <thead>\n",
       "    <tr style=\"text-align: right;\">\n",
       "      <th></th>\n",
       "      <th>Quarter</th>\n",
       "      <th>Average Rating</th>\n",
       "    </tr>\n",
       "  </thead>\n",
       "  <tbody>\n",
       "    <tr>\n",
       "      <th>0</th>\n",
       "      <td>1st Quarter</td>\n",
       "      <td>3.55</td>\n",
       "    </tr>\n",
       "    <tr>\n",
       "      <th>1</th>\n",
       "      <td>2nd Quarter</td>\n",
       "      <td>3.35</td>\n",
       "    </tr>\n",
       "    <tr>\n",
       "      <th>2</th>\n",
       "      <td>3rd Quarter</td>\n",
       "      <td>2.96</td>\n",
       "    </tr>\n",
       "    <tr>\n",
       "      <th>3</th>\n",
       "      <td>4th Quarter</td>\n",
       "      <td>2.40</td>\n",
       "    </tr>\n",
       "  </tbody>\n",
       "</table>\n",
       "</div>"
      ],
      "text/plain": [
       "       Quarter  Average Rating\n",
       "0  1st Quarter            3.55\n",
       "1  2nd Quarter            3.35\n",
       "2  3rd Quarter            2.96\n",
       "3  4th Quarter            2.40"
      ]
     },
     "execution_count": 15,
     "metadata": {},
     "output_type": "execute_result"
    }
   ],
   "source": [
    "# Renaming columns to make visuals prettier\n",
    "sql_q2.rename(columns={'yearly_quarter':'Quarter', 'average_rating':'Average Rating'}, inplace=True)\n",
    "sql_q2.head()"
   ]
  },
  {
   "cell_type": "code",
   "execution_count": 16,
   "id": "74e3c7b7",
   "metadata": {},
   "outputs": [
    {
     "data": {
      "image/png": "[encoded data removed]",
      "text/plain": [
       "<Figure size 432x288 with 1 Axes>"
      ]
     },
     "metadata": {},
     "output_type": "display_data"
    }
   ],
   "source": [
    "# Plot the average customer ratings by quarter from the SQL results question 2\n",
    "ax_q2 = sns.barplot(x=\"Quarter\", y=\"Average Rating\", data=sql_q2)\n",
    "ax_q2.set(title='Average Customer Ratings')\n",
    "ax_q2.set_xticklabels(ax_q2.get_xticklabels(),rotation = 30)\n",
    "plt.show()"
   ]
  },
  {
   "cell_type": "code",
   "execution_count": 17,
   "id": "0a50d13d",
   "metadata": {},
   "outputs": [
    {
     "data": {
      "text/html": [
       "<div>\n",
       "<style scoped>\n",
       "    .dataframe tbody tr th:only-of-type {\n",
       "        vertical-align: middle;\n",
       "    }\n",
       "\n",
       "    .dataframe tbody tr th {\n",
       "        vertical-align: top;\n",
       "    }\n",
       "\n",
       "    .dataframe thead th {\n",
       "        text-align: right;\n",
       "    }\n",
       "</style>\n",
       "<table border=\"1\" class=\"dataframe\">\n",
       "  <thead>\n",
       "    <tr style=\"text-align: right;\">\n",
       "      <th></th>\n",
       "      <th>Date</th>\n",
       "      <th>CUSTOMER_ID</th>\n",
       "      <th>Average Feedback</th>\n",
       "    </tr>\n",
       "  </thead>\n",
       "  <tbody>\n",
       "    <tr>\n",
       "      <th>0</th>\n",
       "      <td>2018-01-15</td>\n",
       "      <td>11673-165</td>\n",
       "      <td>5.0</td>\n",
       "    </tr>\n",
       "    <tr>\n",
       "      <th>1</th>\n",
       "      <td>2018-01-17</td>\n",
       "      <td>60512-2015</td>\n",
       "      <td>5.0</td>\n",
       "    </tr>\n",
       "    <tr>\n",
       "      <th>2</th>\n",
       "      <td>2018-01-26</td>\n",
       "      <td>52125-774</td>\n",
       "      <td>5.0</td>\n",
       "    </tr>\n",
       "    <tr>\n",
       "      <th>3</th>\n",
       "      <td>2018-01-30</td>\n",
       "      <td>64159-7693</td>\n",
       "      <td>3.0</td>\n",
       "    </tr>\n",
       "    <tr>\n",
       "      <th>4</th>\n",
       "      <td>2018-01-31</td>\n",
       "      <td>42043-171</td>\n",
       "      <td>4.0</td>\n",
       "    </tr>\n",
       "    <tr>\n",
       "      <th>...</th>\n",
       "      <td>...</td>\n",
       "      <td>...</td>\n",
       "      <td>...</td>\n",
       "    </tr>\n",
       "    <tr>\n",
       "      <th>995</th>\n",
       "      <td>2019-12-13</td>\n",
       "      <td>35356-544</td>\n",
       "      <td>2.0</td>\n",
       "    </tr>\n",
       "    <tr>\n",
       "      <th>996</th>\n",
       "      <td>2019-12-13</td>\n",
       "      <td>55648-177</td>\n",
       "      <td>5.0</td>\n",
       "    </tr>\n",
       "    <tr>\n",
       "      <th>997</th>\n",
       "      <td>2019-12-13</td>\n",
       "      <td>62670-4458</td>\n",
       "      <td>5.0</td>\n",
       "    </tr>\n",
       "    <tr>\n",
       "      <th>998</th>\n",
       "      <td>2019-12-14</td>\n",
       "      <td>65342-0001</td>\n",
       "      <td>1.0</td>\n",
       "    </tr>\n",
       "    <tr>\n",
       "      <th>999</th>\n",
       "      <td>2019-12-14</td>\n",
       "      <td>68105-005</td>\n",
       "      <td>1.0</td>\n",
       "    </tr>\n",
       "  </tbody>\n",
       "</table>\n",
       "<p>1000 rows × 3 columns</p>\n",
       "</div>"
      ],
      "text/plain": [
       "           Date CUSTOMER_ID  Average Feedback\n",
       "0    2018-01-15   11673-165               5.0\n",
       "1    2018-01-17  60512-2015               5.0\n",
       "2    2018-01-26   52125-774               5.0\n",
       "3    2018-01-30  64159-7693               3.0\n",
       "4    2018-01-31   42043-171               4.0\n",
       "..          ...         ...               ...\n",
       "995  2019-12-13   35356-544               2.0\n",
       "996  2019-12-13   55648-177               5.0\n",
       "997  2019-12-13  62670-4458               5.0\n",
       "998  2019-12-14  65342-0001               1.0\n",
       "999  2019-12-14   68105-005               1.0\n",
       "\n",
       "[1000 rows x 3 columns]"
      ]
     },
     "execution_count": 17,
     "metadata": {},
     "output_type": "execute_result"
    }
   ],
   "source": [
    "# Renaming columns to make visuals prettier\n",
    "sql_q3.rename(columns={'SHIP_DATE':'Date', 'average_feedback':'Average Feedback'}, inplace=True)\n",
    "sql_q3"
   ]
  },
  {
   "cell_type": "code",
   "execution_count": 18,
   "id": "4393dfce",
   "metadata": {},
   "outputs": [
    {
     "data": {
      "image/png": "[encoded data removed]",
      "text/plain": [
       "<Figure size 432x288 with 1 Axes>"
      ]
     },
     "metadata": {},
     "output_type": "display_data"
    }
   ],
   "source": [
    "# The first view, I don't like it\n",
    "ax_q3 = sns.scatterplot(data=sql_q3, x=\"Date\", y=\"Average Feedback\")\n",
    "ax_q3.set(title='Average Customer Feedback')\n",
    "#ax_q3.set_xticklabels(ax_q3.get_xticklabels(),rotation = 30)\n",
    "plt.show()"
   ]
  },
  {
   "cell_type": "code",
   "execution_count": 19,
   "id": "fbe84e80",
   "metadata": {},
   "outputs": [
    {
     "data": {
      "text/html": [
       "<div>\n",
       "<style scoped>\n",
       "    .dataframe tbody tr th:only-of-type {\n",
       "        vertical-align: middle;\n",
       "    }\n",
       "\n",
       "    .dataframe tbody tr th {\n",
       "        vertical-align: top;\n",
       "    }\n",
       "\n",
       "    .dataframe thead th {\n",
       "        text-align: right;\n",
       "    }\n",
       "</style>\n",
       "<table border=\"1\" class=\"dataframe\">\n",
       "  <thead>\n",
       "    <tr style=\"text-align: right;\">\n",
       "      <th></th>\n",
       "      <th>Average Feedback</th>\n",
       "    </tr>\n",
       "    <tr>\n",
       "      <th>Date</th>\n",
       "      <th></th>\n",
       "    </tr>\n",
       "  </thead>\n",
       "  <tbody>\n",
       "    <tr>\n",
       "      <th>2018-01-15</th>\n",
       "      <td>5.00</td>\n",
       "    </tr>\n",
       "    <tr>\n",
       "      <th>2018-01-17</th>\n",
       "      <td>5.00</td>\n",
       "    </tr>\n",
       "    <tr>\n",
       "      <th>2018-01-26</th>\n",
       "      <td>5.00</td>\n",
       "    </tr>\n",
       "    <tr>\n",
       "      <th>2018-01-30</th>\n",
       "      <td>3.00</td>\n",
       "    </tr>\n",
       "    <tr>\n",
       "      <th>2018-01-31</th>\n",
       "      <td>4.00</td>\n",
       "    </tr>\n",
       "    <tr>\n",
       "      <th>...</th>\n",
       "      <td>...</td>\n",
       "    </tr>\n",
       "    <tr>\n",
       "      <th>2019-12-10</th>\n",
       "      <td>3.25</td>\n",
       "    </tr>\n",
       "    <tr>\n",
       "      <th>2019-12-11</th>\n",
       "      <td>2.50</td>\n",
       "    </tr>\n",
       "    <tr>\n",
       "      <th>2019-12-12</th>\n",
       "      <td>2.33</td>\n",
       "    </tr>\n",
       "    <tr>\n",
       "      <th>2019-12-13</th>\n",
       "      <td>4.00</td>\n",
       "    </tr>\n",
       "    <tr>\n",
       "      <th>2019-12-14</th>\n",
       "      <td>1.00</td>\n",
       "    </tr>\n",
       "  </tbody>\n",
       "</table>\n",
       "<p>270 rows × 1 columns</p>\n",
       "</div>"
      ],
      "text/plain": [
       "            Average Feedback\n",
       "Date                        \n",
       "2018-01-15              5.00\n",
       "2018-01-17              5.00\n",
       "2018-01-26              5.00\n",
       "2018-01-30              3.00\n",
       "2018-01-31              4.00\n",
       "...                      ...\n",
       "2019-12-10              3.25\n",
       "2019-12-11              2.50\n",
       "2019-12-12              2.33\n",
       "2019-12-13              4.00\n",
       "2019-12-14              1.00\n",
       "\n",
       "[270 rows x 1 columns]"
      ]
     },
     "execution_count": 19,
     "metadata": {},
     "output_type": "execute_result"
    }
   ],
   "source": [
    "# Renaming columns to make visuals prettier\n",
    "sql_q3b.rename(columns={'SHIP_DATE':'Date', 'average_feedback':'Average Feedback'}, inplace=True)\n",
    "sql_q3b.set_index('Date', inplace=True)\n",
    "sql_q3b"
   ]
  },
  {
   "cell_type": "code",
   "execution_count": 20,
   "id": "e484dc6c",
   "metadata": {},
   "outputs": [
    {
     "data": {
      "image/png": "[encoded data removed]",
      "text/plain": [
       "<Figure size 432x288 with 1 Axes>"
      ]
     },
     "metadata": {},
     "output_type": "display_data"
    }
   ],
   "source": [
    "# Let's look at it from the other perspective\n",
    "ax_q3b = sns.lineplot(data = sql_q3b)\n",
    "ax_q3b.set(title='Average Customer Feedback')\n",
    "ax_q3b.set(xticklabels=[])\n",
    "ax_q3b.set_xlabel(\"Date\")\n",
    "ax_q3b.set_ylabel(\"Average Feedback\")\n",
    "plt.show()"
   ]
  },
  {
   "cell_type": "code",
   "execution_count": 21,
   "id": "2bbb83af",
   "metadata": {},
   "outputs": [
    {
     "data": {
      "text/plain": [
       "Date Mo\n",
       "2018-01    4.400000\n",
       "2018-02    3.844444\n",
       "2018-03    3.849091\n",
       "2018-04    3.310435\n",
       "2018-05    3.444167\n",
       "2018-06    3.405000\n",
       "2018-07    2.414211\n",
       "2018-08    3.035652\n",
       "2018-09    3.172000\n",
       "2018-10    2.950400\n",
       "2018-11    3.010000\n",
       "2018-12    4.207500\n",
       "2019-01    2.465000\n",
       "2019-02    2.333333\n",
       "2019-03    2.110000\n",
       "2019-04    1.723333\n",
       "2019-05    2.497059\n",
       "2019-06    2.205789\n",
       "2019-07    3.835000\n",
       "2019-12    2.792857\n",
       "Name: Average Feedback, dtype: float64"
      ]
     },
     "execution_count": 21,
     "metadata": {},
     "output_type": "execute_result"
    }
   ],
   "source": [
    "sql_q3b.reset_index(inplace=True)\n",
    "sql_q3b['Date Mo'] = sql_q3b['Date'].str[:7]\n",
    "sql_q3b.drop(columns=['Date'],axis=1,inplace=True)\n",
    "sql_q3b = sql_q3b.groupby('Date Mo')['Average Feedback'].mean()\n",
    "sql_q3b"
   ]
  },
  {
   "cell_type": "code",
   "execution_count": 22,
   "id": "76a0301c",
   "metadata": {},
   "outputs": [
    {
     "data": {
      "image/png": "[encoded data removed]",
      "text/plain": [
       "<Figure size 432x288 with 1 Axes>"
      ]
     },
     "metadata": {},
     "output_type": "display_data"
    }
   ],
   "source": [
    "# Let's look at it from yet another perspective by averaging out some of the noise\n",
    "ax_q3b = sns.lineplot(data = sql_q3b)\n",
    "ax_q3b.set(title='Average Customer Feedback')\n",
    "ax_q3b.set(xticklabels=[])\n",
    "ax_q3b.set_xlabel(\"Date\")\n",
    "ax_q3b.set_ylabel(\"Average Feedback\")\n",
    "plt.show()"
   ]
  },
  {
   "cell_type": "code",
   "execution_count": 23,
   "id": "ddfa453a",
   "metadata": {},
   "outputs": [],
   "source": [
    "# I'd like to take one more look\n",
    "# Percent of each rating by month\n",
    "sql_q3c = pd.read_csv('../data/q3c_results.csv')"
   ]
  },
  {
   "cell_type": "code",
   "execution_count": 24,
   "id": "aee98ce4",
   "metadata": {},
   "outputs": [
    {
     "data": {
      "text/html": [
       "<div>\n",
       "<style scoped>\n",
       "    .dataframe tbody tr th:only-of-type {\n",
       "        vertical-align: middle;\n",
       "    }\n",
       "\n",
       "    .dataframe tbody tr th {\n",
       "        vertical-align: top;\n",
       "    }\n",
       "\n",
       "    .dataframe thead th {\n",
       "        text-align: right;\n",
       "    }\n",
       "</style>\n",
       "<table border=\"1\" class=\"dataframe\">\n",
       "  <thead>\n",
       "    <tr style=\"text-align: right;\">\n",
       "      <th></th>\n",
       "      <th>Date</th>\n",
       "      <th>Very Bad Avg</th>\n",
       "      <th>Bad Avg</th>\n",
       "      <th>Okay Avg</th>\n",
       "      <th>Good Avg</th>\n",
       "      <th>Very Good Avg</th>\n",
       "    </tr>\n",
       "  </thead>\n",
       "  <tbody>\n",
       "    <tr>\n",
       "      <th>0</th>\n",
       "      <td>2018-01</td>\n",
       "      <td>0.00</td>\n",
       "      <td>0.00</td>\n",
       "      <td>0.20</td>\n",
       "      <td>0.20</td>\n",
       "      <td>0.60</td>\n",
       "    </tr>\n",
       "    <tr>\n",
       "      <th>1</th>\n",
       "      <td>2018-02</td>\n",
       "      <td>0.03</td>\n",
       "      <td>0.00</td>\n",
       "      <td>0.24</td>\n",
       "      <td>0.48</td>\n",
       "      <td>0.24</td>\n",
       "    </tr>\n",
       "    <tr>\n",
       "      <th>2</th>\n",
       "      <td>2018-03</td>\n",
       "      <td>0.06</td>\n",
       "      <td>0.08</td>\n",
       "      <td>0.21</td>\n",
       "      <td>0.18</td>\n",
       "      <td>0.47</td>\n",
       "    </tr>\n",
       "    <tr>\n",
       "      <th>3</th>\n",
       "      <td>2018-04</td>\n",
       "      <td>0.15</td>\n",
       "      <td>0.16</td>\n",
       "      <td>0.14</td>\n",
       "      <td>0.26</td>\n",
       "      <td>0.30</td>\n",
       "    </tr>\n",
       "    <tr>\n",
       "      <th>4</th>\n",
       "      <td>2018-05</td>\n",
       "      <td>0.13</td>\n",
       "      <td>0.10</td>\n",
       "      <td>0.23</td>\n",
       "      <td>0.27</td>\n",
       "      <td>0.27</td>\n",
       "    </tr>\n",
       "  </tbody>\n",
       "</table>\n",
       "</div>"
      ],
      "text/plain": [
       "      Date  Very Bad Avg  Bad Avg  Okay Avg  Good Avg  Very Good Avg\n",
       "0  2018-01          0.00     0.00      0.20      0.20           0.60\n",
       "1  2018-02          0.03     0.00      0.24      0.48           0.24\n",
       "2  2018-03          0.06     0.08      0.21      0.18           0.47\n",
       "3  2018-04          0.15     0.16      0.14      0.26           0.30\n",
       "4  2018-05          0.13     0.10      0.23      0.27           0.27"
      ]
     },
     "execution_count": 24,
     "metadata": {},
     "output_type": "execute_result"
    }
   ],
   "source": [
    "# Renaming columns to make visuals prettier\n",
    "rename_dict_q3 = {\n",
    "    'date_mo':'Date',\n",
    "    'very_bad_rating_avg':'Very Bad Avg',\n",
    "    'bad_rating_avg':'Bad Avg',\n",
    "    'Okay_rating_avg':'Okay Avg',\n",
    "    'good_rating_avg':'Good Avg',\n",
    "    'very_good_rating_avg':'Very Good Avg',\n",
    "}\n",
    "sql_q3c.rename(columns=rename_dict_q3, inplace=True)\n",
    "sql_q3c.head()"
   ]
  },
  {
   "cell_type": "code",
   "execution_count": 25,
   "id": "c0dd70e7",
   "metadata": {},
   "outputs": [
    {
     "data": {
      "text/html": [
       "<div>\n",
       "<style scoped>\n",
       "    .dataframe tbody tr th:only-of-type {\n",
       "        vertical-align: middle;\n",
       "    }\n",
       "\n",
       "    .dataframe tbody tr th {\n",
       "        vertical-align: top;\n",
       "    }\n",
       "\n",
       "    .dataframe thead th {\n",
       "        text-align: right;\n",
       "    }\n",
       "</style>\n",
       "<table border=\"1\" class=\"dataframe\">\n",
       "  <thead>\n",
       "    <tr style=\"text-align: right;\">\n",
       "      <th></th>\n",
       "      <th>Date</th>\n",
       "      <th>Very Bad Avg</th>\n",
       "      <th>Bad Avg</th>\n",
       "      <th>Okay Avg</th>\n",
       "      <th>Good Avg</th>\n",
       "      <th>Very Good Avg</th>\n",
       "    </tr>\n",
       "  </thead>\n",
       "  <tbody>\n",
       "    <tr>\n",
       "      <th>0</th>\n",
       "      <td>2018-01</td>\n",
       "      <td>0.0</td>\n",
       "      <td>0.0</td>\n",
       "      <td>20.0</td>\n",
       "      <td>20.0</td>\n",
       "      <td>60.0</td>\n",
       "    </tr>\n",
       "    <tr>\n",
       "      <th>1</th>\n",
       "      <td>2018-02</td>\n",
       "      <td>3.0</td>\n",
       "      <td>0.0</td>\n",
       "      <td>24.0</td>\n",
       "      <td>48.0</td>\n",
       "      <td>24.0</td>\n",
       "    </tr>\n",
       "    <tr>\n",
       "      <th>2</th>\n",
       "      <td>2018-03</td>\n",
       "      <td>6.0</td>\n",
       "      <td>8.0</td>\n",
       "      <td>21.0</td>\n",
       "      <td>18.0</td>\n",
       "      <td>47.0</td>\n",
       "    </tr>\n",
       "    <tr>\n",
       "      <th>3</th>\n",
       "      <td>2018-04</td>\n",
       "      <td>15.0</td>\n",
       "      <td>16.0</td>\n",
       "      <td>14.0</td>\n",
       "      <td>26.0</td>\n",
       "      <td>30.0</td>\n",
       "    </tr>\n",
       "    <tr>\n",
       "      <th>4</th>\n",
       "      <td>2018-05</td>\n",
       "      <td>13.0</td>\n",
       "      <td>10.0</td>\n",
       "      <td>23.0</td>\n",
       "      <td>27.0</td>\n",
       "      <td>27.0</td>\n",
       "    </tr>\n",
       "  </tbody>\n",
       "</table>\n",
       "</div>"
      ],
      "text/plain": [
       "      Date  Very Bad Avg  Bad Avg  Okay Avg  Good Avg  Very Good Avg\n",
       "0  2018-01           0.0      0.0      20.0      20.0           60.0\n",
       "1  2018-02           3.0      0.0      24.0      48.0           24.0\n",
       "2  2018-03           6.0      8.0      21.0      18.0           47.0\n",
       "3  2018-04          15.0     16.0      14.0      26.0           30.0\n",
       "4  2018-05          13.0     10.0      23.0      27.0           27.0"
      ]
     },
     "execution_count": 25,
     "metadata": {},
     "output_type": "execute_result"
    }
   ],
   "source": [
    "# Multiple by 100 to show percent value\n",
    "sql_q3c[['Very Bad Avg', 'Bad Avg', 'Okay Avg', 'Good Avg', 'Very Good Avg']] = sql_q3c[\n",
    "    ['Very Bad Avg', 'Bad Avg', 'Okay Avg', 'Good Avg', 'Very Good Avg']]*100\n",
    "sql_q3c.head()"
   ]
  },
  {
   "cell_type": "code",
   "execution_count": 26,
   "id": "6eb679e6",
   "metadata": {},
   "outputs": [
    {
     "data": {
      "text/html": [
       "<div>\n",
       "<style scoped>\n",
       "    .dataframe tbody tr th:only-of-type {\n",
       "        vertical-align: middle;\n",
       "    }\n",
       "\n",
       "    .dataframe tbody tr th {\n",
       "        vertical-align: top;\n",
       "    }\n",
       "\n",
       "    .dataframe thead th {\n",
       "        text-align: right;\n",
       "    }\n",
       "</style>\n",
       "<table border=\"1\" class=\"dataframe\">\n",
       "  <thead>\n",
       "    <tr style=\"text-align: right;\">\n",
       "      <th></th>\n",
       "      <th>Date</th>\n",
       "      <th>Very Good Avg</th>\n",
       "      <th>Good Avg</th>\n",
       "      <th>Okay Avg</th>\n",
       "      <th>Bad Avg</th>\n",
       "      <th>Very Bad Avg</th>\n",
       "    </tr>\n",
       "  </thead>\n",
       "  <tbody>\n",
       "    <tr>\n",
       "      <th>0</th>\n",
       "      <td>2018-01</td>\n",
       "      <td>60</td>\n",
       "      <td>20</td>\n",
       "      <td>20</td>\n",
       "      <td>0</td>\n",
       "      <td>0</td>\n",
       "    </tr>\n",
       "    <tr>\n",
       "      <th>1</th>\n",
       "      <td>2018-02</td>\n",
       "      <td>24</td>\n",
       "      <td>48</td>\n",
       "      <td>24</td>\n",
       "      <td>0</td>\n",
       "      <td>3</td>\n",
       "    </tr>\n",
       "    <tr>\n",
       "      <th>2</th>\n",
       "      <td>2018-03</td>\n",
       "      <td>47</td>\n",
       "      <td>18</td>\n",
       "      <td>21</td>\n",
       "      <td>8</td>\n",
       "      <td>6</td>\n",
       "    </tr>\n",
       "    <tr>\n",
       "      <th>3</th>\n",
       "      <td>2018-04</td>\n",
       "      <td>30</td>\n",
       "      <td>26</td>\n",
       "      <td>14</td>\n",
       "      <td>16</td>\n",
       "      <td>15</td>\n",
       "    </tr>\n",
       "    <tr>\n",
       "      <th>4</th>\n",
       "      <td>2018-05</td>\n",
       "      <td>27</td>\n",
       "      <td>27</td>\n",
       "      <td>23</td>\n",
       "      <td>10</td>\n",
       "      <td>13</td>\n",
       "    </tr>\n",
       "  </tbody>\n",
       "</table>\n",
       "</div>"
      ],
      "text/plain": [
       "      Date  Very Good Avg  Good Avg  Okay Avg  Bad Avg  Very Bad Avg\n",
       "0  2018-01             60        20        20        0             0\n",
       "1  2018-02             24        48        24        0             3\n",
       "2  2018-03             47        18        21        8             6\n",
       "3  2018-04             30        26        14       16            15\n",
       "4  2018-05             27        27        23       10            13"
      ]
     },
     "execution_count": 26,
     "metadata": {},
     "output_type": "execute_result"
    }
   ],
   "source": [
    "# Converting to integer as the points after the decimal are not needed\n",
    "# Re-ordering the columns to tell a better story with the plot (trending up or down)\n",
    "sql_q3c[['Very Bad Avg', 'Bad Avg', 'Okay Avg', 'Good Avg', 'Very Good Avg']] = sql_q3c[\n",
    "    ['Very Bad Avg', 'Bad Avg', 'Okay Avg', 'Good Avg', 'Very Good Avg']].astype(int)\n",
    "\n",
    "sql_q3c = sql_q3c[['Date', 'Very Good Avg', 'Good Avg', 'Okay Avg', 'Bad Avg', 'Very Bad Avg']]\n",
    "\n",
    "sql_q3c.head()"
   ]
  },
  {
   "cell_type": "code",
   "execution_count": 30,
   "id": "fa586277",
   "metadata": {
    "scrolled": true
   },
   "outputs": [
    {
     "data": {
      "image/png": "[encoded data removed]",
      "text/plain": [
       "<Figure size 432x288 with 1 Axes>"
      ]
     },
     "metadata": {},
     "output_type": "display_data"
    }
   ],
   "source": [
    "# create stacked bar chart for monthly ratings\n",
    "sql_q3c.plot(kind='bar', stacked=True, color=['green', 'green', 'yellow', 'pink', 'red'])\n",
    " \n",
    "# labels for x & y axis\n",
    "plt.xlabel('Months by Month')\n",
    "plt.ylabel('Average Rating')\n",
    "# title of plot\n",
    "plt.title('Average Customer Feedback')\n",
    "plt.legend(bbox_to_anchor=(1.05, 1.0), loc='upper left')\n",
    "plt.xticks([])\n",
    "plt.tight_layout()\n"
   ]
  },
  {
   "cell_type": "code",
   "execution_count": 37,
   "id": "81205df3",
   "metadata": {},
   "outputs": [
    {
     "data": {
      "text/html": [
       "<div>\n",
       "<style scoped>\n",
       "    .dataframe tbody tr th:only-of-type {\n",
       "        vertical-align: middle;\n",
       "    }\n",
       "\n",
       "    .dataframe tbody tr th {\n",
       "        vertical-align: top;\n",
       "    }\n",
       "\n",
       "    .dataframe thead th {\n",
       "        text-align: right;\n",
       "    }\n",
       "</style>\n",
       "<table border=\"1\" class=\"dataframe\">\n",
       "  <thead>\n",
       "    <tr style=\"text-align: right;\">\n",
       "      <th></th>\n",
       "      <th>Vehicle Make</th>\n",
       "      <th>Number of Customers</th>\n",
       "    </tr>\n",
       "  </thead>\n",
       "  <tbody>\n",
       "    <tr>\n",
       "      <th>0</th>\n",
       "      <td>Chevrolet</td>\n",
       "      <td>83</td>\n",
       "    </tr>\n",
       "    <tr>\n",
       "      <th>1</th>\n",
       "      <td>Ford</td>\n",
       "      <td>63</td>\n",
       "    </tr>\n",
       "    <tr>\n",
       "      <th>2</th>\n",
       "      <td>Toyota</td>\n",
       "      <td>52</td>\n",
       "    </tr>\n",
       "    <tr>\n",
       "      <th>3</th>\n",
       "      <td>Dodge</td>\n",
       "      <td>50</td>\n",
       "    </tr>\n",
       "    <tr>\n",
       "      <th>4</th>\n",
       "      <td>Pontiac</td>\n",
       "      <td>50</td>\n",
       "    </tr>\n",
       "  </tbody>\n",
       "</table>\n",
       "</div>"
      ],
      "text/plain": [
       "  Vehicle Make  Number of Customers\n",
       "0    Chevrolet                   83\n",
       "1         Ford                   63\n",
       "2       Toyota                   52\n",
       "3        Dodge                   50\n",
       "4      Pontiac                   50"
      ]
     },
     "execution_count": 37,
     "metadata": {},
     "output_type": "execute_result"
    }
   ],
   "source": [
    "# Renaming columns to make visuals prettier\n",
    "sql_q4.rename(columns={'VEHICLE_MAKER':'Vehicle Make', 'num_customers':'Number of Customers'},inplace=True)\n",
    "sql_q4 = sql_q4.head()\n",
    "sql_q4"
   ]
  },
  {
   "cell_type": "code",
   "execution_count": 39,
   "id": "6397d291",
   "metadata": {},
   "outputs": [
    {
     "data": {
      "image/png": "[encoded data removed]",
      "text/plain": [
       "<Figure size 432x288 with 1 Axes>"
      ]
     },
     "metadata": {},
     "output_type": "display_data"
    }
   ],
   "source": [
    "# Plot the average customer vehicle make preferrence from the SQL results question 4\n",
    "ax_q4 = sns.barplot(x=\"Vehicle Make\", y=\"Number of Customers\", data=sql_q4)\n",
    "ax_q4.set(title='Number of Customers By Make')\n",
    "ax_q4.set_xticklabels(ax_q4.get_xticklabels(),rotation = 30)\n",
    "plt.show()"
   ]
  },
  {
   "cell_type": "code",
   "execution_count": 40,
   "id": "ce95795a",
   "metadata": {},
   "outputs": [
    {
     "data": {
      "text/html": [
       "<div>\n",
       "<style scoped>\n",
       "    .dataframe tbody tr th:only-of-type {\n",
       "        vertical-align: middle;\n",
       "    }\n",
       "\n",
       "    .dataframe tbody tr th {\n",
       "        vertical-align: top;\n",
       "    }\n",
       "\n",
       "    .dataframe thead th {\n",
       "        text-align: right;\n",
       "    }\n",
       "</style>\n",
       "<table border=\"1\" class=\"dataframe\">\n",
       "  <thead>\n",
       "    <tr style=\"text-align: right;\">\n",
       "      <th></th>\n",
       "      <th>STATE</th>\n",
       "      <th>VEHICLE_MAKER</th>\n",
       "      <th>order_rank</th>\n",
       "      <th>order_volume</th>\n",
       "    </tr>\n",
       "  </thead>\n",
       "  <tbody>\n",
       "    <tr>\n",
       "      <th>0</th>\n",
       "      <td>Alabama</td>\n",
       "      <td>Dodge</td>\n",
       "      <td>1</td>\n",
       "      <td>5</td>\n",
       "    </tr>\n",
       "    <tr>\n",
       "      <th>1</th>\n",
       "      <td>Alaska</td>\n",
       "      <td>Chevrolet</td>\n",
       "      <td>1</td>\n",
       "      <td>2</td>\n",
       "    </tr>\n",
       "    <tr>\n",
       "      <th>2</th>\n",
       "      <td>Arizona</td>\n",
       "      <td>Pontiac</td>\n",
       "      <td>1</td>\n",
       "      <td>3</td>\n",
       "    </tr>\n",
       "    <tr>\n",
       "      <th>3</th>\n",
       "      <td>Arizona</td>\n",
       "      <td>Cadillac</td>\n",
       "      <td>1</td>\n",
       "      <td>3</td>\n",
       "    </tr>\n",
       "    <tr>\n",
       "      <th>4</th>\n",
       "      <td>Arkansas</td>\n",
       "      <td>Chevrolet</td>\n",
       "      <td>1</td>\n",
       "      <td>1</td>\n",
       "    </tr>\n",
       "    <tr>\n",
       "      <th>...</th>\n",
       "      <td>...</td>\n",
       "      <td>...</td>\n",
       "      <td>...</td>\n",
       "      <td>...</td>\n",
       "    </tr>\n",
       "    <tr>\n",
       "      <th>138</th>\n",
       "      <td>Wisconsin</td>\n",
       "      <td>Honda</td>\n",
       "      <td>1</td>\n",
       "      <td>1</td>\n",
       "    </tr>\n",
       "    <tr>\n",
       "      <th>139</th>\n",
       "      <td>Wisconsin</td>\n",
       "      <td>Mazda</td>\n",
       "      <td>1</td>\n",
       "      <td>1</td>\n",
       "    </tr>\n",
       "    <tr>\n",
       "      <th>140</th>\n",
       "      <td>Wisconsin</td>\n",
       "      <td>Nissan</td>\n",
       "      <td>1</td>\n",
       "      <td>1</td>\n",
       "    </tr>\n",
       "    <tr>\n",
       "      <th>141</th>\n",
       "      <td>Wisconsin</td>\n",
       "      <td>Pontiac</td>\n",
       "      <td>1</td>\n",
       "      <td>1</td>\n",
       "    </tr>\n",
       "    <tr>\n",
       "      <th>142</th>\n",
       "      <td>Wyoming</td>\n",
       "      <td>Buick</td>\n",
       "      <td>1</td>\n",
       "      <td>1</td>\n",
       "    </tr>\n",
       "  </tbody>\n",
       "</table>\n",
       "<p>143 rows × 4 columns</p>\n",
       "</div>"
      ],
      "text/plain": [
       "         STATE VEHICLE_MAKER  order_rank  order_volume\n",
       "0      Alabama         Dodge           1             5\n",
       "1       Alaska     Chevrolet           1             2\n",
       "2      Arizona       Pontiac           1             3\n",
       "3      Arizona      Cadillac           1             3\n",
       "4     Arkansas     Chevrolet           1             1\n",
       "..         ...           ...         ...           ...\n",
       "138  Wisconsin         Honda           1             1\n",
       "139  Wisconsin         Mazda           1             1\n",
       "140  Wisconsin        Nissan           1             1\n",
       "141  Wisconsin       Pontiac           1             1\n",
       "142    Wyoming         Buick           1             1\n",
       "\n",
       "[143 rows x 4 columns]"
      ]
     },
     "execution_count": 40,
     "metadata": {},
     "output_type": "execute_result"
    }
   ],
   "source": [
    "# Many states have more than one car due to ties, especially lower volume markets\n",
    "sql_q5"
   ]
  },
  {
   "cell_type": "code",
   "execution_count": 41,
   "id": "368f05ea",
   "metadata": {},
   "outputs": [
    {
     "data": {
      "text/plain": [
       "array(['Alabama', 'Alaska', 'Arizona', 'Arkansas', 'California',\n",
       "       'Colorado', 'Connecticut', 'Delaware', 'District of Columbia',\n",
       "       'Florida', 'Georgia', 'Hawaii', 'Idaho', 'Illinois', 'Indiana',\n",
       "       'Iowa', 'Kansas', 'Kentucky', 'Louisiana', 'Maine', 'Maryland',\n",
       "       'Massachusetts', 'Michigan', 'Minnesota', 'Mississippi',\n",
       "       'Missouri', 'Montana', 'Nebraska', 'Nevada', 'New Hampshire',\n",
       "       'New Jersey', 'New Mexico', 'New York', 'North Carolina',\n",
       "       'North Dakota', 'Ohio', 'Oklahoma', 'Oregon', 'Pennsylvania',\n",
       "       'South Carolina', 'Tennessee', 'Texas', 'Utah', 'Vermont',\n",
       "       'Virginia', 'Washington', 'West Virginia', 'Wisconsin', 'Wyoming'],\n",
       "      dtype=object)"
      ]
     },
     "execution_count": 41,
     "metadata": {},
     "output_type": "execute_result"
    }
   ],
   "source": [
    "sql_q5.STATE.unique()"
   ]
  },
  {
   "cell_type": "code",
   "execution_count": 44,
   "id": "675f4cc0",
   "metadata": {},
   "outputs": [
    {
     "data": {
      "text/html": [
       "<div>\n",
       "<style scoped>\n",
       "    .dataframe tbody tr th:only-of-type {\n",
       "        vertical-align: middle;\n",
       "    }\n",
       "\n",
       "    .dataframe tbody tr th {\n",
       "        vertical-align: top;\n",
       "    }\n",
       "\n",
       "    .dataframe thead th {\n",
       "        text-align: right;\n",
       "    }\n",
       "</style>\n",
       "<table border=\"1\" class=\"dataframe\">\n",
       "  <thead>\n",
       "    <tr style=\"text-align: right;\">\n",
       "      <th></th>\n",
       "      <th>Quarter</th>\n",
       "      <th>Order Volume</th>\n",
       "    </tr>\n",
       "  </thead>\n",
       "  <tbody>\n",
       "    <tr>\n",
       "      <th>0</th>\n",
       "      <td>1st Quarter</td>\n",
       "      <td>310</td>\n",
       "    </tr>\n",
       "    <tr>\n",
       "      <th>1</th>\n",
       "      <td>2nd Quarter</td>\n",
       "      <td>262</td>\n",
       "    </tr>\n",
       "    <tr>\n",
       "      <th>2</th>\n",
       "      <td>3rd Quarter</td>\n",
       "      <td>229</td>\n",
       "    </tr>\n",
       "    <tr>\n",
       "      <th>3</th>\n",
       "      <td>4th Quarter</td>\n",
       "      <td>199</td>\n",
       "    </tr>\n",
       "  </tbody>\n",
       "</table>\n",
       "</div>"
      ],
      "text/plain": [
       "       Quarter  Order Volume\n",
       "0  1st Quarter           310\n",
       "1  2nd Quarter           262\n",
       "2  3rd Quarter           229\n",
       "3  4th Quarter           199"
      ]
     },
     "execution_count": 44,
     "metadata": {},
     "output_type": "execute_result"
    }
   ],
   "source": [
    "# Renaming columns to make visuals prettier\n",
    "sql_q6.rename(columns={'yearly_quarter': 'Quarter', 'order_volume': 'Order Volume'}, inplace=True)\n",
    "sql_q6"
   ]
  },
  {
   "cell_type": "code",
   "execution_count": 49,
   "id": "0337ad57",
   "metadata": {},
   "outputs": [
    {
     "data": {
      "image/png": "[encoded data removed]",
      "text/plain": [
       "<Figure size 432x288 with 1 Axes>"
      ]
     },
     "metadata": {},
     "output_type": "display_data"
    }
   ],
   "source": [
    "# Taking a look at the results from question 6\n",
    "ax_q6 = sns.lineplot(data = sql_q6)\n",
    "ax_q6.set(title='Quarterly Purchase Trend')\n",
    "ax_q6.set(xticklabels=[])\n",
    "ax_q6.set_xlabel(\"Quarter\")\n",
    "ax_q6.set_ylabel(\"Number of Purchases\")\n",
    "plt.show()"
   ]
  },
  {
   "cell_type": "code",
   "execution_count": 51,
   "id": "500c0ae1",
   "metadata": {},
   "outputs": [
    {
     "data": {
      "text/html": [
       "<div>\n",
       "<style scoped>\n",
       "    .dataframe tbody tr th:only-of-type {\n",
       "        vertical-align: middle;\n",
       "    }\n",
       "\n",
       "    .dataframe tbody tr th {\n",
       "        vertical-align: top;\n",
       "    }\n",
       "\n",
       "    .dataframe thead th {\n",
       "        text-align: right;\n",
       "    }\n",
       "</style>\n",
       "<table border=\"1\" class=\"dataframe\">\n",
       "  <thead>\n",
       "    <tr style=\"text-align: right;\">\n",
       "      <th></th>\n",
       "      <th>Quarters</th>\n",
       "      <th>Change in Revenue (%)</th>\n",
       "    </tr>\n",
       "  </thead>\n",
       "  <tbody>\n",
       "    <tr>\n",
       "      <th>0</th>\n",
       "      <td>1st Quarter</td>\n",
       "      <td>0.00</td>\n",
       "    </tr>\n",
       "    <tr>\n",
       "      <th>1</th>\n",
       "      <td>2nd Quarter</td>\n",
       "      <td>-0.23</td>\n",
       "    </tr>\n",
       "    <tr>\n",
       "      <th>2</th>\n",
       "      <td>3rd Quarter</td>\n",
       "      <td>-0.10</td>\n",
       "    </tr>\n",
       "    <tr>\n",
       "      <th>3</th>\n",
       "      <td>4th Quarter</td>\n",
       "      <td>-0.29</td>\n",
       "    </tr>\n",
       "  </tbody>\n",
       "</table>\n",
       "</div>"
      ],
      "text/plain": [
       "      Quarters  Change in Revenue (%)\n",
       "0  1st Quarter                   0.00\n",
       "1  2nd Quarter                  -0.23\n",
       "2  3rd Quarter                  -0.10\n",
       "3  4th Quarter                  -0.29"
      ]
     },
     "execution_count": 51,
     "metadata": {},
     "output_type": "execute_result"
    }
   ],
   "source": [
    "# Renaming columns to make visuals prettier\n",
    "sql_q7.rename(columns={'yearly_quarter':'Quarters', 'q_over_q_revenue_change':'Change in Revenue (%)'},inplace=True)\n",
    "sql_q7"
   ]
  },
  {
   "cell_type": "code",
   "execution_count": 52,
   "id": "5bd56e5d",
   "metadata": {},
   "outputs": [
    {
     "data": {
      "image/png": "[encoded data removed]",
      "text/plain": [
       "<Figure size 432x288 with 1 Axes>"
      ]
     },
     "metadata": {},
     "output_type": "display_data"
    }
   ],
   "source": [
    "# Taking a look at the results from question 7\n",
    "ax_q7 = sns.lineplot(data = sql_q7)\n",
    "ax_q7.set(title='Quarterly Change in Revenue')\n",
    "ax_q7.set(xticklabels=[])\n",
    "ax_q7.set_xlabel(\"Quarters\")\n",
    "ax_q7.set_ylabel(\"Percentage\")\n",
    "plt.show()"
   ]
  },
  {
   "cell_type": "code",
   "execution_count": 54,
   "id": "13147820",
   "metadata": {},
   "outputs": [
    {
     "data": {
      "text/html": [
       "<div>\n",
       "<style scoped>\n",
       "    .dataframe tbody tr th:only-of-type {\n",
       "        vertical-align: middle;\n",
       "    }\n",
       "\n",
       "    .dataframe tbody tr th {\n",
       "        vertical-align: top;\n",
       "    }\n",
       "\n",
       "    .dataframe thead th {\n",
       "        text-align: right;\n",
       "    }\n",
       "</style>\n",
       "<table border=\"1\" class=\"dataframe\">\n",
       "  <thead>\n",
       "    <tr style=\"text-align: right;\">\n",
       "      <th></th>\n",
       "      <th>Quarters</th>\n",
       "      <th>Order Volume</th>\n",
       "      <th>Total Revenue</th>\n",
       "    </tr>\n",
       "  </thead>\n",
       "  <tbody>\n",
       "    <tr>\n",
       "      <th>0</th>\n",
       "      <td>1st Quarter</td>\n",
       "      <td>310</td>\n",
       "      <td>26375015.69</td>\n",
       "    </tr>\n",
       "    <tr>\n",
       "      <th>1</th>\n",
       "      <td>2nd Quarter</td>\n",
       "      <td>262</td>\n",
       "      <td>21465757.25</td>\n",
       "    </tr>\n",
       "    <tr>\n",
       "      <th>2</th>\n",
       "      <td>3rd Quarter</td>\n",
       "      <td>229</td>\n",
       "      <td>19582283.01</td>\n",
       "    </tr>\n",
       "    <tr>\n",
       "      <th>3</th>\n",
       "      <td>4th Quarter</td>\n",
       "      <td>199</td>\n",
       "      <td>15182375.02</td>\n",
       "    </tr>\n",
       "  </tbody>\n",
       "</table>\n",
       "</div>"
      ],
      "text/plain": [
       "      Quarters  Order Volume  Total Revenue\n",
       "0  1st Quarter           310    26375015.69\n",
       "1  2nd Quarter           262    21465757.25\n",
       "2  3rd Quarter           229    19582283.01\n",
       "3  4th Quarter           199    15182375.02"
      ]
     },
     "execution_count": 54,
     "metadata": {},
     "output_type": "execute_result"
    }
   ],
   "source": [
    "# Renaming columns to make visuals prettier\n",
    "columns_8 = {'yearly_quarter':'Quarters','order_volume':'Order Volume','total_revenue':'Total Revenue'}\n",
    "sql_q8.rename(columns=columns_8, inplace=True)\n",
    "sql_q8"
   ]
  },
  {
   "cell_type": "code",
   "execution_count": 73,
   "id": "9a9b986f",
   "metadata": {},
   "outputs": [
    {
     "data": {
      "image/png": "[encoded data removed]",
      "text/plain": [
       "<Figure size 432x288 with 2 Axes>"
      ]
     },
     "metadata": {},
     "output_type": "display_data"
    }
   ],
   "source": [
    "# Taking a look at the results from question 8\n",
    "ax = sql_q8.plot(x=\"Quarters\", y=\"Order Volume\", legend=False)\n",
    "ax2 = ax.twinx()\n",
    "sql_q8.plot(x=\"Quarters\", y=\"Total Revenue\", ax=ax2, legend=False, color=\"r\")\n",
    "ax.figure.legend(loc='upper center')\n",
    "plt.show()"
   ]
  },
  {
   "cell_type": "code",
   "execution_count": 75,
   "id": "1623a680",
   "metadata": {},
   "outputs": [
    {
     "data": {
      "text/html": [
       "<div>\n",
       "<style scoped>\n",
       "    .dataframe tbody tr th:only-of-type {\n",
       "        vertical-align: middle;\n",
       "    }\n",
       "\n",
       "    .dataframe tbody tr th {\n",
       "        vertical-align: top;\n",
       "    }\n",
       "\n",
       "    .dataframe thead th {\n",
       "        text-align: right;\n",
       "    }\n",
       "</style>\n",
       "<table border=\"1\" class=\"dataframe\">\n",
       "  <thead>\n",
       "    <tr style=\"text-align: right;\">\n",
       "      <th></th>\n",
       "      <th>Credit Card</th>\n",
       "      <th>Average Discount</th>\n",
       "    </tr>\n",
       "  </thead>\n",
       "  <tbody>\n",
       "    <tr>\n",
       "      <th>0</th>\n",
       "      <td>jcb</td>\n",
       "      <td>0.61%</td>\n",
       "    </tr>\n",
       "    <tr>\n",
       "      <th>1</th>\n",
       "      <td>visa-electron</td>\n",
       "      <td>0.62%</td>\n",
       "    </tr>\n",
       "    <tr>\n",
       "      <th>2</th>\n",
       "      <td>switch</td>\n",
       "      <td>0.61%</td>\n",
       "    </tr>\n",
       "    <tr>\n",
       "      <th>3</th>\n",
       "      <td>diners-club-carte-blanche</td>\n",
       "      <td>0.61%</td>\n",
       "    </tr>\n",
       "    <tr>\n",
       "      <th>4</th>\n",
       "      <td>laser</td>\n",
       "      <td>0.64%</td>\n",
       "    </tr>\n",
       "    <tr>\n",
       "      <th>5</th>\n",
       "      <td>china-unionpay</td>\n",
       "      <td>0.62%</td>\n",
       "    </tr>\n",
       "    <tr>\n",
       "      <th>6</th>\n",
       "      <td>diners-club-enroute</td>\n",
       "      <td>0.6%</td>\n",
       "    </tr>\n",
       "    <tr>\n",
       "      <th>7</th>\n",
       "      <td>americanexpress</td>\n",
       "      <td>0.62%</td>\n",
       "    </tr>\n",
       "    <tr>\n",
       "      <th>8</th>\n",
       "      <td>mastercard</td>\n",
       "      <td>0.63%</td>\n",
       "    </tr>\n",
       "    <tr>\n",
       "      <th>9</th>\n",
       "      <td>visa</td>\n",
       "      <td>0.6%</td>\n",
       "    </tr>\n",
       "    <tr>\n",
       "      <th>10</th>\n",
       "      <td>bankcard</td>\n",
       "      <td>0.61%</td>\n",
       "    </tr>\n",
       "    <tr>\n",
       "      <th>11</th>\n",
       "      <td>solo</td>\n",
       "      <td>0.59%</td>\n",
       "    </tr>\n",
       "    <tr>\n",
       "      <th>12</th>\n",
       "      <td>maestro</td>\n",
       "      <td>0.62%</td>\n",
       "    </tr>\n",
       "    <tr>\n",
       "      <th>13</th>\n",
       "      <td>diners-club-us-ca</td>\n",
       "      <td>0.61%</td>\n",
       "    </tr>\n",
       "    <tr>\n",
       "      <th>14</th>\n",
       "      <td>instapayment</td>\n",
       "      <td>0.62%</td>\n",
       "    </tr>\n",
       "    <tr>\n",
       "      <th>15</th>\n",
       "      <td>diners-club-international</td>\n",
       "      <td>0.58%</td>\n",
       "    </tr>\n",
       "  </tbody>\n",
       "</table>\n",
       "</div>"
      ],
      "text/plain": [
       "                  Credit Card Average Discount\n",
       "0                         jcb            0.61%\n",
       "1               visa-electron            0.62%\n",
       "2                      switch            0.61%\n",
       "3   diners-club-carte-blanche            0.61%\n",
       "4                       laser            0.64%\n",
       "5              china-unionpay            0.62%\n",
       "6         diners-club-enroute             0.6%\n",
       "7             americanexpress            0.62%\n",
       "8                  mastercard            0.63%\n",
       "9                        visa             0.6%\n",
       "10                   bankcard            0.61%\n",
       "11                       solo            0.59%\n",
       "12                    maestro            0.62%\n",
       "13          diners-club-us-ca            0.61%\n",
       "14               instapayment            0.62%\n",
       "15  diners-club-international            0.58%"
      ]
     },
     "execution_count": 75,
     "metadata": {},
     "output_type": "execute_result"
    }
   ],
   "source": [
    "# Renaming columns to make visuals prettier\n",
    "sql_q9.rename(columns={'CREDIT_CARD_TYPE':'Credit Card', 'average_discount':'Average Discount'}, inplace=True)\n",
    "sql_q9['Average Discount'] = sql_q9['Average Discount'].astype(str) + '%'\n",
    "sql_q9"
   ]
  },
  {
   "cell_type": "code",
   "execution_count": 78,
   "id": "2b302608",
   "metadata": {},
   "outputs": [
    {
     "data": {
      "text/html": [
       "<div>\n",
       "<style scoped>\n",
       "    .dataframe tbody tr th:only-of-type {\n",
       "        vertical-align: middle;\n",
       "    }\n",
       "\n",
       "    .dataframe tbody tr th {\n",
       "        vertical-align: top;\n",
       "    }\n",
       "\n",
       "    .dataframe thead th {\n",
       "        text-align: right;\n",
       "    }\n",
       "</style>\n",
       "<table border=\"1\" class=\"dataframe\">\n",
       "  <thead>\n",
       "    <tr style=\"text-align: right;\">\n",
       "      <th></th>\n",
       "      <th>Quarters</th>\n",
       "      <th>Shipping Time Avg</th>\n",
       "    </tr>\n",
       "  </thead>\n",
       "  <tbody>\n",
       "    <tr>\n",
       "      <th>0</th>\n",
       "      <td>1st Quarter</td>\n",
       "      <td>57.17</td>\n",
       "    </tr>\n",
       "    <tr>\n",
       "      <th>1</th>\n",
       "      <td>2nd Quarter</td>\n",
       "      <td>71.11</td>\n",
       "    </tr>\n",
       "    <tr>\n",
       "      <th>2</th>\n",
       "      <td>3rd Quarter</td>\n",
       "      <td>117.76</td>\n",
       "    </tr>\n",
       "    <tr>\n",
       "      <th>3</th>\n",
       "      <td>4th Quarter</td>\n",
       "      <td>174.10</td>\n",
       "    </tr>\n",
       "  </tbody>\n",
       "</table>\n",
       "</div>"
      ],
      "text/plain": [
       "      Quarters  Shipping Time Avg\n",
       "0  1st Quarter              57.17\n",
       "1  2nd Quarter              71.11\n",
       "2  3rd Quarter             117.76\n",
       "3  4th Quarter             174.10"
      ]
     },
     "execution_count": 78,
     "metadata": {},
     "output_type": "execute_result"
    }
   ],
   "source": [
    "# Renaming columns to make visuals prettier\n",
    "sql_q10.rename(columns={'yearly_quarter':'Quarters','average_shipping_time':'Shipping Time Avg'}, inplace=True)\n",
    "sql_q10"
   ]
  },
  {
   "cell_type": "code",
   "execution_count": 79,
   "id": "b5088d33",
   "metadata": {},
   "outputs": [
    {
     "data": {
      "image/png": "[encoded data removed]",
      "text/plain": [
       "<Figure size 432x288 with 1 Axes>"
      ]
     },
     "metadata": {},
     "output_type": "display_data"
    }
   ],
   "source": [
    "# Taking a look at the results from question 10\n",
    "ax_q10 = sns.lineplot(data = sql_q10)\n",
    "ax_q10.set(title='Quarterly Average Shipping Time in Days')\n",
    "ax_q10.set(xticklabels=[])\n",
    "ax_q10.set_xlabel(\"Quarters\")\n",
    "ax_q10.set_ylabel(\"Shipping Time (Days)\")\n",
    "plt.show()"
   ]
  },
  {
   "cell_type": "markdown",
   "id": "68e5fcb9",
   "metadata": {},
   "source": [
    "### Está completo, Simplemente Muy Muy Beuno"
   ]
  }
 ],
 "metadata": {
  "kernelspec": {
   "display_name": "Python 3 (ipykernel)",
   "language": "python",
   "name": "python3"
  },
  "language_info": {
   "codemirror_mode": {
    "name": "ipython",
    "version": 3
   },
   "file_extension": ".py",
   "mimetype": "text/x-python",
   "name": "python",
   "nbconvert_exporter": "python",
   "pygments_lexer": "ipython3",
   "version": "3.9.7"
  }
 },
 "nbformat": 4,
 "nbformat_minor": 5
}
